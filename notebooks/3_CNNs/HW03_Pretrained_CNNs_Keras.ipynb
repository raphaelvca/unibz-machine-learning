{
 "cells": [
  {
   "cell_type": "markdown",
   "metadata": {},
   "source": [
    "# Homework03 Pre-trained CNNs with Keras"
   ]
  },
  {
   "cell_type": "markdown",
   "metadata": {},
   "source": [
    "## Setup"
   ]
  },
  {
   "cell_type": "markdown",
   "metadata": {},
   "source": [
    "First, let's import a few common modules, ensure MatplotLib plots figures inline and prepare a function to save the figures. We also check that Python 3.5 or later is installed (although Python 2.x may work, it is deprecated so we strongly recommend you use Python 3 instead), as well as Scikit-Learn ≥0.20 and TensorFlow ≥2.0."
   ]
  },
  {
   "cell_type": "code",
   "execution_count": 27,
   "metadata": {},
   "outputs": [],
   "source": [
    "# Python ≥3.5 is required\n",
    "import sys\n",
    "assert sys.version_info >= (3, 5)\n",
    "\n",
    "# Scikit-Learn ≥0.20 is required\n",
    "import sklearn\n",
    "assert sklearn.__version__ >= \"0.20\"\n",
    "\n",
    "try:\n",
    "    # %tensorflow_version only exists in Colab.\n",
    "    %tensorflow_version 2.x\n",
    "    IS_COLAB = True\n",
    "except Exception:\n",
    "    IS_COLAB = False\n",
    "\n",
    "# TensorFlow ≥2.0 is required\n",
    "import tensorflow as tf\n",
    "from tensorflow import keras\n",
    "assert tf.__version__ >= \"2.0\"\n",
    "\n",
    "if not tf.config.list_physical_devices('GPU'):\n",
    "    print(\"No GPU was detected. CNNs can be very slow without a GPU.\")\n",
    "    if IS_COLAB:\n",
    "        print(\"Go to Runtime > Change runtime and select a GPU hardware accelerator.\")\n",
    "\n",
    "# Common imports\n",
    "import numpy as np\n",
    "import os\n",
    "\n",
    "# to make this notebook's output stable across runs\n",
    "np.random.seed(42)\n",
    "tf.random.set_seed(42)\n",
    "\n",
    "# To plot pretty figures\n",
    "%matplotlib inline\n",
    "import matplotlib as mpl\n",
    "import matplotlib.pyplot as plt\n",
    "mpl.rc('axes', labelsize=14)\n",
    "mpl.rc('xtick', labelsize=12)\n",
    "mpl.rc('ytick', labelsize=12)\n",
    "\n",
    "# Where to save the figures\n",
    "PROJECT_ROOT_DIR = \".\"\n",
    "LECTURE_ID = \"HW03\"\n",
    "IMAGES_PATH = os.path.join(PROJECT_ROOT_DIR, \"images\", LECTURE_ID)\n",
    "os.makedirs(IMAGES_PATH, exist_ok=True)\n",
    "\n",
    "def save_fig(fig_id, tight_layout=True, fig_extension=\"png\", resolution=300):\n",
    "    path = os.path.join(IMAGES_PATH, fig_id + \".\" + fig_extension)\n",
    "    print(\"Saving figure\", fig_id)\n",
    "    if tight_layout:\n",
    "        plt.tight_layout()\n",
    "    plt.savefig(path, format=fig_extension, dpi=resolution)"
   ]
  },
  {
   "cell_type": "markdown",
   "metadata": {},
   "source": [
    "# Use transfer learning for image classification, going through these steps:\n",
    "\n",
    "- Use an existing TensorFlow Dataset. https://www.tensorflow.org/datasets\n",
    "\n",
    "- Split it into a training set, a validation set, and a test set.\n",
    "\n",
    "- Build the input pipeline, including the appropriate preprocessing operations, and add data augmentation.\n",
    "\n",
    "- Fine-tune a pretrained model on this dataset (e.g., ResNet50 or VGG16). https://keras.io/api/applications/ \n",
    "\n",
    "- Use the fine-tuned model to predict the class of a batch of images from the test set. "
   ]
  },
  {
   "cell_type": "markdown",
   "metadata": {},
   "source": [
    "Hint: Use Google Colab"
   ]
  },
  {
   "cell_type": "code",
   "execution_count": 28,
   "metadata": {},
   "outputs": [],
   "source": [
    "#modules\n",
    "from tensorflow.keras.callbacks import EarlyStopping\n",
    "from tensorflow.keras import regularizers\n",
    "import tensorflow_datasets as tfds\n",
    "from tensorflow.keras.utils import to_categorical\n",
    "from tensorflow.keras.applications.vgg16 import VGG16\n",
    "from tensorflow.keras.applications.vgg16 import preprocess_input\n",
    "from tensorflow.keras import layers, models"
   ]
  },
  {
   "cell_type": "code",
   "execution_count": 29,
   "metadata": {},
   "outputs": [],
   "source": [
    "#     Data preprocessing\n",
    "# 1.  Use an existing TensorFlow Dataset. https://www.tensorflow.org/datasets\n",
    "dataset = tfds.load(\"tf_flowers\", as_supervised=True)"
   ]
  },
  {
   "cell_type": "code",
   "execution_count": 30,
   "metadata": {},
   "outputs": [],
   "source": [
    "# 2.  Split it into a training set, a validation set, and a test set.\n",
    "(train_ds, train_labels), (test_ds, test_labels ), (val_ds, val_labels) = tfds.load('tf_flowers', split=['train[:70%]', 'train[70%:85%]', 'train[85%:]'],batch_size=-1, as_supervised=True)\n",
    "\n",
    "IMG_SIZE = 224\n",
    "\n",
    "## Resizing images\n",
    "train_ds = tf.image.resize(train_ds, (IMG_SIZE, IMG_SIZE))\n",
    "test_ds = tf.image.resize(test_ds, (IMG_SIZE, IMG_SIZE))\n",
    "val_ds = tf.image.resize(val_ds, (IMG_SIZE, IMG_SIZE))\n",
    "\n",
    "## Transforming labels to correct format\n",
    "train_labels = to_categorical(train_labels, num_classes=5)\n",
    "test_labels = to_categorical(test_labels, num_classes=5)\n",
    "val_labels = to_categorical(val_labels, num_classes=5)"
   ]
  },
  {
   "cell_type": "code",
   "execution_count": 111,
   "metadata": {},
   "outputs": [
    {
     "name": "stdout",
     "output_type": "stream",
     "text": [
      "Model: \"vgg16\"\n",
      "_________________________________________________________________\n",
      " Layer (type)                Output Shape              Param #   \n",
      "=================================================================\n",
      " input_11 (InputLayer)       [(None, 224, 224, 3)]     0         \n",
      "                                                                 \n",
      " block1_conv1 (Conv2D)       (None, 224, 224, 64)      1792      \n",
      "                                                                 \n",
      " block1_conv2 (Conv2D)       (None, 224, 224, 64)      36928     \n",
      "                                                                 \n",
      " block1_pool (MaxPooling2D)  (None, 112, 112, 64)      0         \n",
      "                                                                 \n",
      " block2_conv1 (Conv2D)       (None, 112, 112, 128)     73856     \n",
      "                                                                 \n",
      " block2_conv2 (Conv2D)       (None, 112, 112, 128)     147584    \n",
      "                                                                 \n",
      " block2_pool (MaxPooling2D)  (None, 56, 56, 128)       0         \n",
      "                                                                 \n",
      " block3_conv1 (Conv2D)       (None, 56, 56, 256)       295168    \n",
      "                                                                 \n",
      " block3_conv2 (Conv2D)       (None, 56, 56, 256)       590080    \n",
      "                                                                 \n",
      " block3_conv3 (Conv2D)       (None, 56, 56, 256)       590080    \n",
      "                                                                 \n",
      " block3_pool (MaxPooling2D)  (None, 28, 28, 256)       0         \n",
      "                                                                 \n",
      " block4_conv1 (Conv2D)       (None, 28, 28, 512)       1180160   \n",
      "                                                                 \n",
      " block4_conv2 (Conv2D)       (None, 28, 28, 512)       2359808   \n",
      "                                                                 \n",
      " block4_conv3 (Conv2D)       (None, 28, 28, 512)       2359808   \n",
      "                                                                 \n",
      " block4_pool (MaxPooling2D)  (None, 14, 14, 512)       0         \n",
      "                                                                 \n",
      " block5_conv1 (Conv2D)       (None, 14, 14, 512)       2359808   \n",
      "                                                                 \n",
      " block5_conv2 (Conv2D)       (None, 14, 14, 512)       2359808   \n",
      "                                                                 \n",
      " block5_conv3 (Conv2D)       (None, 14, 14, 512)       2359808   \n",
      "                                                                 \n",
      " block5_pool (MaxPooling2D)  (None, 7, 7, 512)         0         \n",
      "                                                                 \n",
      "=================================================================\n",
      "Total params: 14,714,688\n",
      "Trainable params: 0\n",
      "Non-trainable params: 14,714,688\n",
      "_________________________________________________________________\n"
     ]
    }
   ],
   "source": [
    "## Data augmention\n",
    "data_augmentation = tf.keras.Sequential([\n",
    "  layers.RandomFlip(\"vertical\"),\n",
    "  #layers.RandomRotation(0.01),\n",
    "])\n",
    "\n",
    "## Loading VGG16 model\n",
    "base_model = VGG16(weights=\"imagenet\", include_top=False, input_shape=train_ds[0].shape)\n",
    "base_model.trainable = False ## Not trainable weights\n",
    "\n",
    "## Preprocessing input\n",
    "train_ds = preprocess_input(train_ds) \n",
    "test_ds = preprocess_input(test_ds) \n",
    "val_ds = preprocess_input(val_ds) \n",
    "\n",
    "base_model.summary()"
   ]
  },
  {
   "cell_type": "code",
   "execution_count": 112,
   "metadata": {},
   "outputs": [],
   "source": [
    "# new Layer\n",
    "flatten_layer = layers.Flatten()\n",
    "dense_layer_1 = layers.Dense(50, activation='relu')\n",
    "dense_layer_2 = layers.Dense(20, activation='relu')\n",
    "prediction_layer = layers.Dense(5, activation='softmax')\n",
    "\n",
    "#Input 0 of layer \"vgg16\" is incompatible with the layer: expected shape=(None, 150, 150, 3), found shape=(None, 75, 75, 16)\n",
    "#regularization_layer = tf.keras.layers.Dense(5, kernel_initializer='ones',\n",
    "#                              kernel_regularizer=tf.keras.regularizers.l1(0.01),\n",
    "#                              activity_regularizer=tf.keras.regularizers.l2(0.01))\n",
    "\n",
    "tf.random.set_seed(0)\n",
    "#dropout_layer = tf.keras.layers.Dropout(.2, input_shape=(2,))\n",
    "\n"
   ]
  },
  {
   "cell_type": "code",
   "execution_count": 113,
   "metadata": {},
   "outputs": [],
   "source": [
    "# Define model\n",
    "model = models.Sequential([\n",
    "    data_augmentation,\n",
    "    #layers.Conv2D(16, 3, padding='same', activation='relu'),\n",
    "    #layers.MaxPooling2D(),\n",
    "    base_model,\n",
    "    #dropout_layer,\n",
    "    #regularization_layer,\n",
    "    flatten_layer,\n",
    "    dense_layer_1,\n",
    "    dense_layer_2,\n",
    "    prediction_layer\n",
    "])\n",
    "\n"
   ]
  },
  {
   "cell_type": "code",
   "execution_count": 114,
   "metadata": {},
   "outputs": [],
   "source": [
    "# Fine tune\n",
    "#base_model.trainable = True\n",
    "# Let's take a look to see how many layers are in the base model\n",
    "#print(\"Number of layers in the base model: \", len(base_model.layers))\n",
    "\n",
    "# Fine-tune from this layer onwards\n",
    "#fine_tune_at = 17\n",
    "\n",
    "# Freeze all the layers before the `fine_tune_at` layer\n",
    "#for layer in base_model.layers[:fine_tune_at]:\n",
    "#    layer.trainable =  False\n",
    "\n",
    "# Compile model\n",
    "model.compile(\n",
    "    optimizer='adam',\n",
    "    loss='categorical_crossentropy',\n",
    "    metrics=['accuracy'],\n",
    ")\n",
    "\n",
    "# Early stopping\n",
    "es = EarlyStopping(monitor='val_accuracy', mode='max', patience=10,  restore_best_weights=True)\n"
   ]
  },
  {
   "cell_type": "code",
   "execution_count": 115,
   "metadata": {},
   "outputs": [
    {
     "name": "stdout",
     "output_type": "stream",
     "text": [
      "Model: \"sequential_25\"\n",
      "_________________________________________________________________\n",
      " Layer (type)                Output Shape              Param #   \n",
      "=================================================================\n",
      " sequential_24 (Sequential)  (None, 224, 224, 3)       0         \n",
      "                                                                 \n",
      " vgg16 (Functional)          (None, 7, 7, 512)         14714688  \n",
      "                                                                 \n",
      " flatten_10 (Flatten)        (None, 25088)             0         \n",
      "                                                                 \n",
      " dense_31 (Dense)            (None, 50)                1254450   \n",
      "                                                                 \n",
      " dense_32 (Dense)            (None, 20)                1020      \n",
      "                                                                 \n",
      " dense_33 (Dense)            (None, 5)                 105       \n",
      "                                                                 \n",
      "=================================================================\n",
      "Total params: 15,970,263\n",
      "Trainable params: 1,255,575\n",
      "Non-trainable params: 14,714,688\n",
      "_________________________________________________________________\n"
     ]
    }
   ],
   "source": [
    "# Model summary\n",
    "model.build((None, IMG_SIZE, IMG_SIZE, 3)) \n",
    "model.summary()"
   ]
  },
  {
   "cell_type": "code",
   "execution_count": 116,
   "metadata": {},
   "outputs": [
    {
     "name": "stdout",
     "output_type": "stream",
     "text": [
      "Epoch 1/30\n",
      "81/81 [==============================] - 6s 70ms/step - loss: 6.8345 - accuracy: 0.4488 - val_loss: 4.9742 - val_accuracy: 0.5309\n",
      "Epoch 2/30\n",
      "81/81 [==============================] - 5s 63ms/step - loss: 2.3585 - accuracy: 0.6057 - val_loss: 4.9943 - val_accuracy: 0.5109\n",
      "Epoch 3/30\n",
      "81/81 [==============================] - 5s 62ms/step - loss: 1.5926 - accuracy: 0.6715 - val_loss: 3.4295 - val_accuracy: 0.4982\n",
      "Epoch 4/30\n",
      "81/81 [==============================] - 5s 63ms/step - loss: 1.1495 - accuracy: 0.7018 - val_loss: 2.6792 - val_accuracy: 0.4945\n",
      "Epoch 5/30\n",
      "81/81 [==============================] - 5s 64ms/step - loss: 0.8800 - accuracy: 0.7408 - val_loss: 2.9468 - val_accuracy: 0.5345\n",
      "Epoch 6/30\n",
      "81/81 [==============================] - 5s 64ms/step - loss: 0.7379 - accuracy: 0.7583 - val_loss: 3.3328 - val_accuracy: 0.5364\n",
      "Epoch 7/30\n",
      "81/81 [==============================] - 5s 64ms/step - loss: 0.6090 - accuracy: 0.7953 - val_loss: 3.4104 - val_accuracy: 0.5400\n",
      "Epoch 8/30\n",
      "81/81 [==============================] - 5s 63ms/step - loss: 0.5749 - accuracy: 0.8038 - val_loss: 3.7982 - val_accuracy: 0.5400\n",
      "Epoch 9/30\n",
      "81/81 [==============================] - 5s 63ms/step - loss: 0.4967 - accuracy: 0.8229 - val_loss: 3.3736 - val_accuracy: 0.5291\n",
      "Epoch 10/30\n",
      "81/81 [==============================] - 5s 64ms/step - loss: 0.4531 - accuracy: 0.8400 - val_loss: 3.6615 - val_accuracy: 0.5473\n",
      "Epoch 11/30\n",
      "81/81 [==============================] - 5s 62ms/step - loss: 0.4178 - accuracy: 0.8533 - val_loss: 3.3831 - val_accuracy: 0.5509\n",
      "Epoch 12/30\n",
      "81/81 [==============================] - 5s 64ms/step - loss: 0.3699 - accuracy: 0.8770 - val_loss: 3.7509 - val_accuracy: 0.5509\n",
      "Epoch 13/30\n",
      "81/81 [==============================] - 6s 69ms/step - loss: 0.3378 - accuracy: 0.8852 - val_loss: 3.7514 - val_accuracy: 0.5455\n",
      "Epoch 14/30\n",
      "81/81 [==============================] - 5s 63ms/step - loss: 0.2742 - accuracy: 0.9058 - val_loss: 3.9081 - val_accuracy: 0.5564\n",
      "Epoch 15/30\n",
      "81/81 [==============================] - 5s 64ms/step - loss: 0.2959 - accuracy: 0.8961 - val_loss: 4.9239 - val_accuracy: 0.5309\n",
      "Epoch 16/30\n",
      "81/81 [==============================] - 5s 63ms/step - loss: 0.2967 - accuracy: 0.8933 - val_loss: 4.1650 - val_accuracy: 0.5527\n",
      "Epoch 17/30\n",
      "81/81 [==============================] - 5s 63ms/step - loss: 0.2423 - accuracy: 0.9206 - val_loss: 3.4899 - val_accuracy: 0.5727\n",
      "Epoch 18/30\n",
      "81/81 [==============================] - 5s 63ms/step - loss: 0.2006 - accuracy: 0.9323 - val_loss: 3.9036 - val_accuracy: 0.5655\n",
      "Epoch 19/30\n",
      "81/81 [==============================] - 5s 63ms/step - loss: 0.1995 - accuracy: 0.9303 - val_loss: 4.3918 - val_accuracy: 0.5545\n",
      "Epoch 20/30\n",
      "81/81 [==============================] - 5s 63ms/step - loss: 0.1924 - accuracy: 0.9276 - val_loss: 4.1384 - val_accuracy: 0.5345\n",
      "Epoch 21/30\n",
      "81/81 [==============================] - 5s 64ms/step - loss: 0.1815 - accuracy: 0.9373 - val_loss: 4.1301 - val_accuracy: 0.5455\n",
      "Epoch 22/30\n",
      "81/81 [==============================] - 5s 63ms/step - loss: 0.2508 - accuracy: 0.9155 - val_loss: 4.3845 - val_accuracy: 0.5509\n",
      "Epoch 23/30\n",
      "81/81 [==============================] - 5s 63ms/step - loss: 0.2225 - accuracy: 0.9253 - val_loss: 4.8935 - val_accuracy: 0.5473\n",
      "Epoch 24/30\n",
      "81/81 [==============================] - 5s 63ms/step - loss: 0.2179 - accuracy: 0.9225 - val_loss: 4.9763 - val_accuracy: 0.5545\n",
      "Epoch 25/30\n",
      "81/81 [==============================] - 5s 64ms/step - loss: 0.1904 - accuracy: 0.9369 - val_loss: 4.9671 - val_accuracy: 0.5418\n",
      "Epoch 26/30\n",
      "81/81 [==============================] - 5s 63ms/step - loss: 0.1820 - accuracy: 0.9393 - val_loss: 5.1499 - val_accuracy: 0.5564\n",
      "Epoch 27/30\n",
      "81/81 [==============================] - 5s 64ms/step - loss: 0.1361 - accuracy: 0.9529 - val_loss: 5.6721 - val_accuracy: 0.5455\n"
     ]
    }
   ],
   "source": [
    "history_fine = model.fit(train_ds, train_labels, epochs=30, validation_data=(val_ds, val_labels), batch_size=32, callbacks=[es])"
   ]
  },
  {
   "cell_type": "code",
   "execution_count": 117,
   "metadata": {},
   "outputs": [
    {
     "data": {
      "image/png": "[encoded data removed]",
      "text/plain": [
       "<Figure size 432x288 with 1 Axes>"
      ]
     },
     "metadata": {
      "needs_background": "light"
     },
     "output_type": "display_data"
    },
    {
     "data": {
      "image/png": "[encoded data removed]",
      "text/plain": [
       "<Figure size 432x288 with 1 Axes>"
      ]
     },
     "metadata": {
      "needs_background": "light"
     },
     "output_type": "display_data"
    }
   ],
   "source": [
    "# Eval loss\n",
    "plt.plot(history_fine.history['loss'], label='train loss')\n",
    "plt.plot(history_fine.history['val_loss'], label='val loss')\n",
    "plt.legend()\n",
    "plt.show()\n",
    "\n",
    "\n",
    "# Eval accuracies\n",
    "plt.plot(history_fine.history['accuracy'], label='train acc')\n",
    "plt.plot(history_fine.history['val_accuracy'], label='val acc')\n",
    "plt.legend()\n",
    "plt.show()\n"
   ]
  },
  {
   "cell_type": "code",
   "execution_count": 118,
   "metadata": {},
   "outputs": [
    {
     "name": "stdout",
     "output_type": "stream",
     "text": [
      "18/18 [==============================] - 1s 46ms/step - loss: 3.6223 - accuracy: 0.5862\n"
     ]
    },
    {
     "data": {
      "text/plain": [
       "[3.62229585647583, 0.5862069129943848]"
      ]
     },
     "execution_count": 118,
     "metadata": {},
     "output_type": "execute_result"
    }
   ],
   "source": [
    "model.evaluate(test_ds, test_labels)"
   ]
  }
 ],
 "metadata": {
  "kernelspec": {
   "display_name": "atml_202122",
   "language": "python",
   "name": "atml_202122"
  },
  "language_info": {
   "codemirror_mode": {
    "name": "ipython",
    "version": 3
   },
   "file_extension": ".py",
   "mimetype": "text/x-python",
   "name": "python",
   "nbconvert_exporter": "python",
   "pygments_lexer": "ipython3",
   "version": "3.8.3"
  },
  "nav_menu": {},
  "toc": {
   "navigate_menu": true,
   "number_sections": true,
   "sideBar": true,
   "threshold": 6,
   "toc_cell": false,
   "toc_section_display": "block",
   "toc_window_display": false
  }
 },
 "nbformat": 4,
 "nbformat_minor": 4
}
