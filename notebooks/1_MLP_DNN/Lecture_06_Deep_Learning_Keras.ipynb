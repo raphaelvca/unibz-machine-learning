{
 "cells": [
  {
   "cell_type": "markdown",
   "metadata": {},
   "source": [
    "# Lecture 05 Deep Learning with Keras"
   ]
  },
  {
   "cell_type": "markdown",
   "metadata": {},
   "source": [
    "## Setup"
   ]
  },
  {
   "cell_type": "markdown",
   "metadata": {},
   "source": [
    "First, let's import a few common modules, ensure MatplotLib plots figures inline and prepare a function to save the figures. We also check that Python 3.5 or later is installed (although Python 2.x may work, it is deprecated so we strongly recommend you use Python 3 instead), as well as Scikit-Learn ≥0.20 and TensorFlow ≥2.0."
   ]
  },
  {
   "cell_type": "code",
   "execution_count": 1,
   "metadata": {},
   "outputs": [],
   "source": [
    "# Python ≥3.5 is required\n",
    "import sys\n",
    "assert sys.version_info >= (3, 5)\n",
    "\n",
    "# Scikit-Learn ≥0.20 is required\n",
    "import sklearn\n",
    "assert sklearn.__version__ >= \"0.20\"\n",
    "\n",
    "try:\n",
    "    # %tensorflow_version only exists in Colab.\n",
    "    %tensorflow_version 2.x\n",
    "except Exception:\n",
    "    pass\n",
    "\n",
    "# TensorFlow ≥2.0 is required\n",
    "import tensorflow as tf\n",
    "assert tf.__version__ >= \"2.0\"\n",
    "\n",
    "# Common imports\n",
    "import numpy as np\n",
    "import os\n",
    "\n",
    "# to make this notebook's output stable across runs\n",
    "np.random.seed(42)\n",
    "\n",
    "# To plot pretty figures\n",
    "%matplotlib inline\n",
    "import matplotlib as mpl\n",
    "import matplotlib.pyplot as plt\n",
    "mpl.rc('axes', labelsize=14)\n",
    "mpl.rc('xtick', labelsize=12)\n",
    "mpl.rc('ytick', labelsize=12)\n",
    "\n",
    "# Where to save the figures\n",
    "PROJECT_ROOT_DIR = \".\"\n",
    "LECTURE_ID = \"05\"\n",
    "IMAGES_PATH = os.path.join(PROJECT_ROOT_DIR, \"images\", LECTURE_ID)\n",
    "os.makedirs(IMAGES_PATH, exist_ok=True)\n",
    "\n",
    "def save_fig(fig_id, tight_layout=True, fig_extension=\"png\", resolution=300):\n",
    "    path = os.path.join(IMAGES_PATH, fig_id + \".\" + fig_extension)\n",
    "    print(\"Saving figure\", fig_id)\n",
    "    if tight_layout:\n",
    "        plt.tight_layout()\n",
    "    plt.savefig(path, format=fig_extension, dpi=resolution)\n",
    "\n",
    "# Ignore useless warnings (see SciPy issue #5998)\n",
    "import warnings\n",
    "warnings.filterwarnings(action=\"ignore\", message=\"^internal gelsd\")"
   ]
  },
  {
   "cell_type": "markdown",
   "metadata": {},
   "source": [
    "# Building an Image Classifier"
   ]
  },
  {
   "cell_type": "markdown",
   "metadata": {},
   "source": [
    "First let's import TensorFlow and Keras."
   ]
  },
  {
   "cell_type": "code",
   "execution_count": 2,
   "metadata": {},
   "outputs": [],
   "source": [
    "import tensorflow as tf\n",
    "from tensorflow import keras"
   ]
  },
  {
   "cell_type": "code",
   "execution_count": 3,
   "metadata": {},
   "outputs": [
    {
     "data": {
      "text/plain": [
       "'2.1.0'"
      ]
     },
     "execution_count": 3,
     "metadata": {},
     "output_type": "execute_result"
    }
   ],
   "source": [
    "tf.__version__"
   ]
  },
  {
   "cell_type": "code",
   "execution_count": 4,
   "metadata": {},
   "outputs": [
    {
     "data": {
      "text/plain": [
       "'2.2.4-tf'"
      ]
     },
     "execution_count": 4,
     "metadata": {},
     "output_type": "execute_result"
    }
   ],
   "source": [
    "keras.__version__"
   ]
  },
  {
   "cell_type": "markdown",
   "metadata": {},
   "source": [
    "## Loading the dataset"
   ]
  },
  {
   "cell_type": "markdown",
   "metadata": {},
   "source": [
    "Let's start by loading the fashion MNIST dataset. Keras has a number of functions to load popular datasets in `keras.datasets`. The dataset is already split for you between a training set and a test set, but it can be useful to split the training set further to have a validation set:"
   ]
  },
  {
   "cell_type": "code",
   "execution_count": 5,
   "metadata": {},
   "outputs": [],
   "source": [
    "fashion_mnist = keras.datasets.fashion_mnist\n",
    "(X_train_full, y_train_full), (X_test, y_test) = fashion_mnist.load_data()"
   ]
  },
  {
   "cell_type": "markdown",
   "metadata": {},
   "source": [
    "The training set contains 60,000 grayscale images, each 28x28 pixels:"
   ]
  },
  {
   "cell_type": "code",
   "execution_count": 6,
   "metadata": {},
   "outputs": [
    {
     "data": {
      "text/plain": [
       "(60000, 28, 28)"
      ]
     },
     "execution_count": 6,
     "metadata": {},
     "output_type": "execute_result"
    }
   ],
   "source": [
    "X_train_full.shape"
   ]
  },
  {
   "cell_type": "markdown",
   "metadata": {},
   "source": [
    "Each pixel intensity is represented as a byte (0 to 255):"
   ]
  },
  {
   "cell_type": "code",
   "execution_count": 7,
   "metadata": {},
   "outputs": [
    {
     "data": {
      "text/plain": [
       "dtype('uint8')"
      ]
     },
     "execution_count": 7,
     "metadata": {},
     "output_type": "execute_result"
    }
   ],
   "source": [
    "X_train_full.dtype"
   ]
  },
  {
   "cell_type": "markdown",
   "metadata": {},
   "source": [
    "Let's split the full training set into a validation set and a (smaller) training set. We also scale the pixel intensities down to the 0-1 range and convert them to floats, by dividing by 255."
   ]
  },
  {
   "cell_type": "code",
   "execution_count": 8,
   "metadata": {},
   "outputs": [],
   "source": [
    "# nums = list(range(5))\n",
    "# print(nums[2:]), get a slice from index 2 to the end; prints \"[2, 3, 4]\"\n",
    "# print(nums[:2]), get a slice from the start to index 2 (exclusive); prints \"[0, 1]\"\n",
    "\n",
    "X_valid, X_train = X_train_full[:5000] / 255., X_train_full[5000:] / 255.\n",
    "y_valid, y_train = y_train_full[:5000], y_train_full[5000:]\n",
    "X_test = X_test / 255."
   ]
  },
  {
   "cell_type": "markdown",
   "metadata": {},
   "source": [
    "You can plot an image using Matplotlib's `imshow()` function, with a `'binary'`\n",
    " color map:"
   ]
  },
  {
   "cell_type": "code",
   "execution_count": 9,
   "metadata": {},
   "outputs": [
    {
     "data": {
      "image/png": "[encoded data removed]",
      "text/plain": [
       "<Figure size 432x288 with 1 Axes>"
      ]
     },
     "metadata": {
      "needs_background": "light"
     },
     "output_type": "display_data"
    }
   ],
   "source": [
    "plt.imshow(X_train[0], cmap=\"binary\")\n",
    "plt.axis('off')\n",
    "plt.show()"
   ]
  },
  {
   "cell_type": "markdown",
   "metadata": {},
   "source": [
    "The labels are the class IDs (represented as uint8), from 0 to 9:"
   ]
  },
  {
   "cell_type": "code",
   "execution_count": 10,
   "metadata": {},
   "outputs": [
    {
     "data": {
      "text/plain": [
       "array([4, 0, 7, ..., 3, 0, 5], dtype=uint8)"
      ]
     },
     "execution_count": 10,
     "metadata": {},
     "output_type": "execute_result"
    }
   ],
   "source": [
    "y_train"
   ]
  },
  {
   "cell_type": "markdown",
   "metadata": {},
   "source": [
    "Here are the corresponding class names:"
   ]
  },
  {
   "cell_type": "code",
   "execution_count": 11,
   "metadata": {},
   "outputs": [],
   "source": [
    "class_names = [\"T-shirt/top\", \"Trouser\", \"Pullover\", \"Dress\", \"Coat\",\n",
    "               \"Sandal\", \"Shirt\", \"Sneaker\", \"Bag\", \"Ankle boot\"]"
   ]
  },
  {
   "cell_type": "markdown",
   "metadata": {},
   "source": [
    "So the first image in the training set is a coat:"
   ]
  },
  {
   "cell_type": "code",
   "execution_count": 12,
   "metadata": {},
   "outputs": [
    {
     "data": {
      "text/plain": [
       "'Coat'"
      ]
     },
     "execution_count": 12,
     "metadata": {},
     "output_type": "execute_result"
    }
   ],
   "source": [
    "class_names[y_train[0]]"
   ]
  },
  {
   "cell_type": "markdown",
   "metadata": {},
   "source": [
    "The validation set contains 5,000 images, and the test set contains 10,000 images:"
   ]
  },
  {
   "cell_type": "code",
   "execution_count": 13,
   "metadata": {},
   "outputs": [
    {
     "data": {
      "text/plain": [
       "(5000, 28, 28)"
      ]
     },
     "execution_count": 13,
     "metadata": {},
     "output_type": "execute_result"
    }
   ],
   "source": [
    "X_valid.shape"
   ]
  },
  {
   "cell_type": "code",
   "execution_count": 14,
   "metadata": {},
   "outputs": [
    {
     "data": {
      "text/plain": [
       "(10000, 28, 28)"
      ]
     },
     "execution_count": 14,
     "metadata": {},
     "output_type": "execute_result"
    }
   ],
   "source": [
    "X_test.shape"
   ]
  },
  {
   "cell_type": "markdown",
   "metadata": {},
   "source": [
    "Let's take a look at a sample of the images in the dataset:"
   ]
  },
  {
   "cell_type": "code",
   "execution_count": 15,
   "metadata": {},
   "outputs": [
    {
     "name": "stdout",
     "output_type": "stream",
     "text": [
      "Saving figure fashion_mnist_plot\n"
     ]
    },
    {
     "data": {
      "image/png": "[encoded data removed]",
      "text/plain": [
       "<Figure size 864x345.6 with 40 Axes>"
      ]
     },
     "metadata": {
      "needs_background": "light"
     },
     "output_type": "display_data"
    }
   ],
   "source": [
    "n_rows = 4\n",
    "n_cols = 10\n",
    "plt.figure(figsize=(n_cols * 1.2, n_rows * 1.2))\n",
    "for row in range(n_rows):\n",
    "    for col in range(n_cols):\n",
    "        index = n_cols * row + col\n",
    "        plt.subplot(n_rows, n_cols, index + 1)\n",
    "        plt.imshow(X_train[index], cmap=\"binary\", interpolation=\"nearest\")\n",
    "        plt.axis('off')\n",
    "        plt.title(class_names[y_train[index]], fontsize=12)\n",
    "plt.subplots_adjust(wspace=0.2, hspace=0.5)\n",
    "save_fig('fashion_mnist_plot', tight_layout=False)\n",
    "plt.show()"
   ]
  },
  {
   "cell_type": "markdown",
   "metadata": {},
   "source": [
    "## Creating the model"
   ]
  },
  {
   "cell_type": "code",
   "execution_count": 16,
   "metadata": {},
   "outputs": [],
   "source": [
    "model = keras.models.Sequential()\n",
    "model.add(keras.layers.Flatten(input_shape=[28, 28]))\n",
    "model.add(keras.layers.Dense(300, activation=\"relu\"))\n",
    "model.add(keras.layers.Dense(100, activation=\"relu\"))\n",
    "model.add(keras.layers.Dense(10, activation=\"softmax\"))"
   ]
  },
  {
   "cell_type": "code",
   "execution_count": 17,
   "metadata": {},
   "outputs": [],
   "source": [
    "keras.backend.clear_session()\n",
    "np.random.seed(42)\n",
    "tf.random.set_seed(42)"
   ]
  },
  {
   "cell_type": "code",
   "execution_count": 18,
   "metadata": {},
   "outputs": [],
   "source": [
    "model = keras.models.Sequential([\n",
    "    keras.layers.Flatten(input_shape=[28, 28]),\n",
    "    keras.layers.Dense(300, activation=\"relu\"),\n",
    "    keras.layers.Dense(100, activation=\"relu\"),\n",
    "    keras.layers.Dense(10, activation=\"softmax\")\n",
    "])"
   ]
  },
  {
   "cell_type": "code",
   "execution_count": 19,
   "metadata": {},
   "outputs": [
    {
     "data": {
      "text/plain": [
       "[<tensorflow.python.keras.layers.core.Flatten at 0x1f67bcb6308>,\n",
       " <tensorflow.python.keras.layers.core.Dense at 0x1f67bcb64c8>,\n",
       " <tensorflow.python.keras.layers.core.Dense at 0x1f67bcb6708>,\n",
       " <tensorflow.python.keras.layers.core.Dense at 0x1f67bcb6948>]"
      ]
     },
     "execution_count": 19,
     "metadata": {},
     "output_type": "execute_result"
    }
   ],
   "source": [
    "model.layers"
   ]
  },
  {
   "cell_type": "code",
   "execution_count": 20,
   "metadata": {},
   "outputs": [
    {
     "name": "stdout",
     "output_type": "stream",
     "text": [
      "Model: \"sequential\"\n",
      "_________________________________________________________________\n",
      "Layer (type)                 Output Shape              Param #   \n",
      "=================================================================\n",
      "flatten (Flatten)            (None, 784)               0         \n",
      "_________________________________________________________________\n",
      "dense (Dense)                (None, 300)               235500    \n",
      "_________________________________________________________________\n",
      "dense_1 (Dense)              (None, 100)               30100     \n",
      "_________________________________________________________________\n",
      "dense_2 (Dense)              (None, 10)                1010      \n",
      "=================================================================\n",
      "Total params: 266,610\n",
      "Trainable params: 266,610\n",
      "Non-trainable params: 0\n",
      "_________________________________________________________________\n"
     ]
    }
   ],
   "source": [
    "model.summary()"
   ]
  },
  {
   "cell_type": "code",
   "execution_count": 21,
   "metadata": {},
   "outputs": [
    {
     "data": {
      "image/png": "[encoded data removed]",
      "text/plain": [
       "<IPython.core.display.Image object>"
      ]
     },
     "execution_count": 21,
     "metadata": {},
     "output_type": "execute_result"
    }
   ],
   "source": [
    "keras.utils.plot_model(model, \"my_fashion_mnist_model.png\", show_shapes=True)"
   ]
  },
  {
   "cell_type": "code",
   "execution_count": 22,
   "metadata": {},
   "outputs": [
    {
     "data": {
      "text/plain": [
       "'dense'"
      ]
     },
     "execution_count": 22,
     "metadata": {},
     "output_type": "execute_result"
    }
   ],
   "source": [
    "hidden1 = model.layers[1]\n",
    "hidden1.name"
   ]
  },
  {
   "cell_type": "code",
   "execution_count": 23,
   "metadata": {},
   "outputs": [
    {
     "data": {
      "text/plain": [
       "True"
      ]
     },
     "execution_count": 23,
     "metadata": {},
     "output_type": "execute_result"
    }
   ],
   "source": [
    "model.get_layer(hidden1.name) is hidden1"
   ]
  },
  {
   "cell_type": "code",
   "execution_count": 24,
   "metadata": {},
   "outputs": [],
   "source": [
    "weights, biases = hidden1.get_weights()"
   ]
  },
  {
   "cell_type": "code",
   "execution_count": 25,
   "metadata": {},
   "outputs": [
    {
     "data": {
      "text/plain": [
       "array([[ 0.02448617, -0.00877795, -0.02189048, ..., -0.02766046,\n",
       "         0.03859074, -0.06889391],\n",
       "       [ 0.00476504, -0.03105379, -0.0586676 , ...,  0.00602964,\n",
       "        -0.02763776, -0.04165364],\n",
       "       [-0.06189284, -0.06901957,  0.07102345, ..., -0.04238207,\n",
       "         0.07121518, -0.07331658],\n",
       "       ...,\n",
       "       [-0.03048757,  0.02155137, -0.05400612, ..., -0.00113463,\n",
       "         0.00228987,  0.05581069],\n",
       "       [ 0.07061854, -0.06960931,  0.07038955, ..., -0.00384101,\n",
       "         0.00034875,  0.02878492],\n",
       "       [-0.06022581,  0.01577859, -0.02585464, ..., -0.00527829,\n",
       "         0.00272203, -0.06793761]], dtype=float32)"
      ]
     },
     "execution_count": 25,
     "metadata": {},
     "output_type": "execute_result"
    }
   ],
   "source": [
    "weights"
   ]
  },
  {
   "cell_type": "code",
   "execution_count": 26,
   "metadata": {},
   "outputs": [
    {
     "data": {
      "text/plain": [
       "(784, 300)"
      ]
     },
     "execution_count": 26,
     "metadata": {},
     "output_type": "execute_result"
    }
   ],
   "source": [
    "weights.shape"
   ]
  },
  {
   "cell_type": "code",
   "execution_count": 27,
   "metadata": {},
   "outputs": [
    {
     "data": {
      "text/plain": [
       "array([0., 0., 0., 0., 0., 0., 0., 0., 0., 0., 0., 0., 0., 0., 0., 0., 0.,\n",
       "       0., 0., 0., 0., 0., 0., 0., 0., 0., 0., 0., 0., 0., 0., 0., 0., 0.,\n",
       "       0., 0., 0., 0., 0., 0., 0., 0., 0., 0., 0., 0., 0., 0., 0., 0., 0.,\n",
       "       0., 0., 0., 0., 0., 0., 0., 0., 0., 0., 0., 0., 0., 0., 0., 0., 0.,\n",
       "       0., 0., 0., 0., 0., 0., 0., 0., 0., 0., 0., 0., 0., 0., 0., 0., 0.,\n",
       "       0., 0., 0., 0., 0., 0., 0., 0., 0., 0., 0., 0., 0., 0., 0., 0., 0.,\n",
       "       0., 0., 0., 0., 0., 0., 0., 0., 0., 0., 0., 0., 0., 0., 0., 0., 0.,\n",
       "       0., 0., 0., 0., 0., 0., 0., 0., 0., 0., 0., 0., 0., 0., 0., 0., 0.,\n",
       "       0., 0., 0., 0., 0., 0., 0., 0., 0., 0., 0., 0., 0., 0., 0., 0., 0.,\n",
       "       0., 0., 0., 0., 0., 0., 0., 0., 0., 0., 0., 0., 0., 0., 0., 0., 0.,\n",
       "       0., 0., 0., 0., 0., 0., 0., 0., 0., 0., 0., 0., 0., 0., 0., 0., 0.,\n",
       "       0., 0., 0., 0., 0., 0., 0., 0., 0., 0., 0., 0., 0., 0., 0., 0., 0.,\n",
       "       0., 0., 0., 0., 0., 0., 0., 0., 0., 0., 0., 0., 0., 0., 0., 0., 0.,\n",
       "       0., 0., 0., 0., 0., 0., 0., 0., 0., 0., 0., 0., 0., 0., 0., 0., 0.,\n",
       "       0., 0., 0., 0., 0., 0., 0., 0., 0., 0., 0., 0., 0., 0., 0., 0., 0.,\n",
       "       0., 0., 0., 0., 0., 0., 0., 0., 0., 0., 0., 0., 0., 0., 0., 0., 0.,\n",
       "       0., 0., 0., 0., 0., 0., 0., 0., 0., 0., 0., 0., 0., 0., 0., 0., 0.,\n",
       "       0., 0., 0., 0., 0., 0., 0., 0., 0., 0., 0.], dtype=float32)"
      ]
     },
     "execution_count": 27,
     "metadata": {},
     "output_type": "execute_result"
    }
   ],
   "source": [
    "biases"
   ]
  },
  {
   "cell_type": "code",
   "execution_count": 28,
   "metadata": {},
   "outputs": [
    {
     "data": {
      "text/plain": [
       "(300,)"
      ]
     },
     "execution_count": 28,
     "metadata": {},
     "output_type": "execute_result"
    }
   ],
   "source": [
    "biases.shape"
   ]
  },
  {
   "cell_type": "markdown",
   "metadata": {},
   "source": [
    "## Compiling the model"
   ]
  },
  {
   "cell_type": "code",
   "execution_count": 29,
   "metadata": {},
   "outputs": [],
   "source": [
    "model.compile(loss=\"sparse_categorical_crossentropy\",\n",
    "              optimizer=keras.optimizers.SGD(lr=0.01),\n",
    "              metrics=[\"accuracy\"])"
   ]
  },
  {
   "cell_type": "markdown",
   "metadata": {},
   "source": [
    "This is equivalent to:"
   ]
  },
  {
   "cell_type": "markdown",
   "metadata": {},
   "source": [
    "```python\n",
    "model.compile(loss=keras.losses.sparse_categorical_crossentropy,\n",
    "              optimizer=keras.optimizers.SGD(),\n",
    "              metrics=[keras.metrics.sparse_categorical_accuracy])\n",
    "```"
   ]
  },
  {
   "cell_type": "markdown",
   "metadata": {},
   "source": [
    "## Training and evaluating the model"
   ]
  },
  {
   "cell_type": "code",
   "execution_count": 30,
   "metadata": {},
   "outputs": [
    {
     "name": "stdout",
     "output_type": "stream",
     "text": [
      "Train on 55000 samples, validate on 5000 samples\n",
      "Epoch 1/30\n",
      "55000/55000 [==============================] - 10s 186us/sample - loss: 0.7226 - accuracy: 0.7641 - val_loss: 0.5073 - val_accuracy: 0.8320\n",
      "Epoch 2/30\n",
      "55000/55000 [==============================] - 9s 165us/sample - loss: 0.4844 - accuracy: 0.8323 - val_loss: 0.4538 - val_accuracy: 0.8488\n",
      "Epoch 3/30\n",
      "55000/55000 [==============================] - 9s 166us/sample - loss: 0.4414 - accuracy: 0.8463 - val_loss: 0.4377 - val_accuracy: 0.8506\n",
      "Epoch 4/30\n",
      "55000/55000 [==============================] - 10s 184us/sample - loss: 0.4130 - accuracy: 0.8548 - val_loss: 0.4153 - val_accuracy: 0.8562\n",
      "Epoch 5/30\n",
      "55000/55000 [==============================] - 9s 165us/sample - loss: 0.3927 - accuracy: 0.8617 - val_loss: 0.3815 - val_accuracy: 0.8638\n",
      "Epoch 6/30\n",
      "55000/55000 [==============================] - 10s 179us/sample - loss: 0.3769 - accuracy: 0.8667 - val_loss: 0.3723 - val_accuracy: 0.8678\n",
      "Epoch 7/30\n",
      "55000/55000 [==============================] - 9s 172us/sample - loss: 0.3625 - accuracy: 0.8727 - val_loss: 0.3699 - val_accuracy: 0.8702\n",
      "Epoch 8/30\n",
      "55000/55000 [==============================] - 9s 170us/sample - loss: 0.3516 - accuracy: 0.8745 - val_loss: 0.3660 - val_accuracy: 0.8702\n",
      "Epoch 9/30\n",
      "55000/55000 [==============================] - 10s 184us/sample - loss: 0.3419 - accuracy: 0.8773 - val_loss: 0.3437 - val_accuracy: 0.8792\n",
      "Epoch 10/30\n",
      "55000/55000 [==============================] - 9s 172us/sample - loss: 0.3324 - accuracy: 0.8811 - val_loss: 0.3514 - val_accuracy: 0.8766\n",
      "Epoch 11/30\n",
      "55000/55000 [==============================] - 9s 172us/sample - loss: 0.3240 - accuracy: 0.8840 - val_loss: 0.3367 - val_accuracy: 0.8810\n",
      "Epoch 12/30\n",
      "55000/55000 [==============================] - 10s 173us/sample - loss: 0.3160 - accuracy: 0.8872 - val_loss: 0.3319 - val_accuracy: 0.8834\n",
      "Epoch 13/30\n",
      "55000/55000 [==============================] - 9s 173us/sample - loss: 0.3073 - accuracy: 0.8905 - val_loss: 0.3319 - val_accuracy: 0.8828\n",
      "Epoch 14/30\n",
      "55000/55000 [==============================] - 10s 173us/sample - loss: 0.3017 - accuracy: 0.8922 - val_loss: 0.3240 - val_accuracy: 0.8856\n",
      "Epoch 15/30\n",
      "55000/55000 [==============================] - 9s 172us/sample - loss: 0.2953 - accuracy: 0.8937 - val_loss: 0.3170 - val_accuracy: 0.8892\n",
      "Epoch 16/30\n",
      "55000/55000 [==============================] - 9s 171us/sample - loss: 0.2899 - accuracy: 0.8963 - val_loss: 0.3246 - val_accuracy: 0.8886\n",
      "Epoch 17/30\n",
      "55000/55000 [==============================] - 10s 175us/sample - loss: 0.2834 - accuracy: 0.8991 - val_loss: 0.3166 - val_accuracy: 0.8916\n",
      "Epoch 18/30\n",
      "55000/55000 [==============================] - 9s 166us/sample - loss: 0.2782 - accuracy: 0.8999 - val_loss: 0.3102 - val_accuracy: 0.8898\n",
      "Epoch 19/30\n",
      "55000/55000 [==============================] - 9s 168us/sample - loss: 0.2730 - accuracy: 0.9022 - val_loss: 0.3179 - val_accuracy: 0.8844\n",
      "Epoch 20/30\n",
      "55000/55000 [==============================] - 14s 253us/sample - loss: 0.2680 - accuracy: 0.9039 - val_loss: 0.3206 - val_accuracy: 0.8850\n",
      "Epoch 21/30\n",
      "55000/55000 [==============================] - 10s 179us/sample - loss: 0.2634 - accuracy: 0.9046 - val_loss: 0.2998 - val_accuracy: 0.8950\n",
      "Epoch 22/30\n",
      "55000/55000 [==============================] - 9s 163us/sample - loss: 0.2577 - accuracy: 0.9070 - val_loss: 0.3100 - val_accuracy: 0.8884\n",
      "Epoch 23/30\n",
      "55000/55000 [==============================] - 10s 177us/sample - loss: 0.2539 - accuracy: 0.9089 - val_loss: 0.3000 - val_accuracy: 0.8914\n",
      "Epoch 24/30\n",
      "55000/55000 [==============================] - 9s 172us/sample - loss: 0.2492 - accuracy: 0.9104 - val_loss: 0.3105 - val_accuracy: 0.8838\n",
      "Epoch 25/30\n",
      "55000/55000 [==============================] - 9s 168us/sample - loss: 0.2453 - accuracy: 0.9127 - val_loss: 0.3077 - val_accuracy: 0.8900\n",
      "Epoch 26/30\n",
      "55000/55000 [==============================] - 9s 172us/sample - loss: 0.2408 - accuracy: 0.9141 - val_loss: 0.3252 - val_accuracy: 0.8822\n",
      "Epoch 27/30\n",
      "55000/55000 [==============================] - 9s 162us/sample - loss: 0.2368 - accuracy: 0.9152 - val_loss: 0.3105 - val_accuracy: 0.8870\n",
      "Epoch 28/30\n",
      "55000/55000 [==============================] - 10s 185us/sample - loss: 0.2323 - accuracy: 0.9179 - val_loss: 0.2927 - val_accuracy: 0.8942\n",
      "Epoch 29/30\n",
      "55000/55000 [==============================] - 9s 170us/sample - loss: 0.2288 - accuracy: 0.9183 - val_loss: 0.2998 - val_accuracy: 0.8930\n",
      "Epoch 30/30\n",
      "55000/55000 [==============================] - 9s 167us/sample - loss: 0.2258 - accuracy: 0.9189 - val_loss: 0.3025 - val_accuracy: 0.8894\n"
     ]
    }
   ],
   "source": [
    "history = model.fit(X_train, y_train, epochs=30,\n",
    "                    validation_data=(X_valid, y_valid))"
   ]
  },
  {
   "cell_type": "code",
   "execution_count": 31,
   "metadata": {},
   "outputs": [
    {
     "data": {
      "text/plain": [
       "{'batch_size': 32,\n",
       " 'epochs': 30,\n",
       " 'steps': 1719,\n",
       " 'samples': 55000,\n",
       " 'verbose': 0,\n",
       " 'do_validation': True,\n",
       " 'metrics': ['loss', 'accuracy', 'val_loss', 'val_accuracy']}"
      ]
     },
     "execution_count": 31,
     "metadata": {},
     "output_type": "execute_result"
    }
   ],
   "source": [
    "history.params"
   ]
  },
  {
   "cell_type": "code",
   "execution_count": 32,
   "metadata": {},
   "outputs": [
    {
     "name": "stdout",
     "output_type": "stream",
     "text": [
      "[0, 1, 2, 3, 4, 5, 6, 7, 8, 9, 10, 11, 12, 13, 14, 15, 16, 17, 18, 19, 20, 21, 22, 23, 24, 25, 26, 27, 28, 29]\n"
     ]
    }
   ],
   "source": [
    "print(history.epoch)"
   ]
  },
  {
   "cell_type": "code",
   "execution_count": 33,
   "metadata": {},
   "outputs": [
    {
     "data": {
      "text/plain": [
       "dict_keys(['loss', 'accuracy', 'val_loss', 'val_accuracy'])"
      ]
     },
     "execution_count": 33,
     "metadata": {},
     "output_type": "execute_result"
    }
   ],
   "source": [
    "history.history.keys()"
   ]
  },
  {
   "cell_type": "code",
   "execution_count": 34,
   "metadata": {},
   "outputs": [
    {
     "name": "stdout",
     "output_type": "stream",
     "text": [
      "Saving figure keras_learning_curves_plot\n"
     ]
    },
    {
     "data": {
      "image/png": "[encoded data removed]",
      "text/plain": [
       "<Figure size 576x360 with 1 Axes>"
      ]
     },
     "metadata": {
      "needs_background": "light"
     },
     "output_type": "display_data"
    }
   ],
   "source": [
    "import pandas as pd\n",
    "\n",
    "pd.DataFrame(history.history).plot(figsize=(8, 5))\n",
    "plt.grid(True)\n",
    "plt.gca().set_ylim(0, 1)\n",
    "save_fig(\"keras_learning_curves_plot\")\n",
    "plt.show()"
   ]
  },
  {
   "cell_type": "code",
   "execution_count": 35,
   "metadata": {},
   "outputs": [
    {
     "name": "stdout",
     "output_type": "stream",
     "text": [
      "10000/10000 [==============================] - 1s 107us/sample - loss: 0.3364 - accuracy: 0.8780\n"
     ]
    },
    {
     "data": {
      "text/plain": [
       "[0.33636010887622836, 0.878]"
      ]
     },
     "execution_count": 35,
     "metadata": {},
     "output_type": "execute_result"
    }
   ],
   "source": [
    "model.evaluate(X_test, y_test)"
   ]
  },
  {
   "cell_type": "markdown",
   "metadata": {},
   "source": [
    "## Making Predictions"
   ]
  },
  {
   "cell_type": "code",
   "execution_count": 36,
   "metadata": {},
   "outputs": [
    {
     "data": {
      "text/plain": [
       "array([[0.  , 0.  , 0.  , 0.  , 0.  , 0.  , 0.  , 0.01, 0.  , 0.98],\n",
       "       [0.  , 0.  , 0.99, 0.  , 0.  , 0.  , 0.  , 0.  , 0.  , 0.  ],\n",
       "       [0.  , 1.  , 0.  , 0.  , 0.  , 0.  , 0.  , 0.  , 0.  , 0.  ]],\n",
       "      dtype=float32)"
      ]
     },
     "execution_count": 36,
     "metadata": {},
     "output_type": "execute_result"
    }
   ],
   "source": [
    "X_new = X_test[:3]\n",
    "y_proba = model.predict(X_new)\n",
    "y_proba.round(2)"
   ]
  },
  {
   "cell_type": "code",
   "execution_count": 37,
   "metadata": {},
   "outputs": [
    {
     "data": {
      "text/plain": [
       "array([9, 2, 1], dtype=int64)"
      ]
     },
     "execution_count": 37,
     "metadata": {},
     "output_type": "execute_result"
    }
   ],
   "source": [
    "y_pred = model.predict_classes(X_new)\n",
    "y_pred"
   ]
  },
  {
   "cell_type": "code",
   "execution_count": 38,
   "metadata": {},
   "outputs": [
    {
     "data": {
      "text/plain": [
       "array(['Ankle boot', 'Pullover', 'Trouser'], dtype='<U11')"
      ]
     },
     "execution_count": 38,
     "metadata": {},
     "output_type": "execute_result"
    }
   ],
   "source": [
    "np.array(class_names)[y_pred]"
   ]
  },
  {
   "cell_type": "code",
   "execution_count": 39,
   "metadata": {},
   "outputs": [
    {
     "data": {
      "text/plain": [
       "array([9, 2, 1], dtype=uint8)"
      ]
     },
     "execution_count": 39,
     "metadata": {},
     "output_type": "execute_result"
    }
   ],
   "source": [
    "y_new = y_test[:3]\n",
    "y_new"
   ]
  },
  {
   "cell_type": "code",
   "execution_count": 40,
   "metadata": {},
   "outputs": [
    {
     "name": "stdout",
     "output_type": "stream",
     "text": [
      "Saving figure fashion_mnist_images_plot\n"
     ]
    },
    {
     "data": {
      "image/png": "[encoded data removed]",
      "text/plain": [
       "<Figure size 518.4x172.8 with 3 Axes>"
      ]
     },
     "metadata": {
      "needs_background": "light"
     },
     "output_type": "display_data"
    }
   ],
   "source": [
    "plt.figure(figsize=(7.2, 2.4))\n",
    "for index, image in enumerate(X_new):\n",
    "    plt.subplot(1, 3, index + 1)\n",
    "    plt.imshow(image, cmap=\"binary\", interpolation=\"nearest\")\n",
    "    plt.axis('off')\n",
    "    plt.title(class_names[y_test[index]], fontsize=12)\n",
    "plt.subplots_adjust(wspace=0.2, hspace=0.5)\n",
    "save_fig('fashion_mnist_images_plot', tight_layout=False)\n",
    "plt.show()"
   ]
  },
  {
   "cell_type": "markdown",
   "metadata": {},
   "source": [
    "# Regression MLP"
   ]
  },
  {
   "cell_type": "markdown",
   "metadata": {},
   "source": [
    "Let's load, split and scale the California housing dataset"
   ]
  },
  {
   "cell_type": "code",
   "execution_count": 41,
   "metadata": {},
   "outputs": [
    {
     "name": "stderr",
     "output_type": "stream",
     "text": [
      "Downloading Cal. housing from https://ndownloader.figshare.com/files/5976036 to C:\\Users\\User\\scikit_learn_data\n"
     ]
    }
   ],
   "source": [
    "from sklearn.datasets import fetch_california_housing\n",
    "from sklearn.model_selection import train_test_split\n",
    "from sklearn.preprocessing import StandardScaler\n",
    "\n",
    "housing = fetch_california_housing()\n",
    "\n",
    "X_train_full, X_test, y_train_full, y_test = train_test_split(housing.data, housing.target, random_state=42)\n",
    "X_train, X_valid, y_train, y_valid = train_test_split(X_train_full, y_train_full, random_state=42)\n",
    "\n",
    "scaler = StandardScaler()\n",
    "X_train = scaler.fit_transform(X_train)\n",
    "X_valid = scaler.transform(X_valid)\n",
    "X_test = scaler.transform(X_test)"
   ]
  },
  {
   "cell_type": "code",
   "execution_count": 42,
   "metadata": {},
   "outputs": [
    {
     "data": {
      "text/plain": [
       "(8,)"
      ]
     },
     "execution_count": 42,
     "metadata": {},
     "output_type": "execute_result"
    }
   ],
   "source": [
    "np.random.seed(42)\n",
    "tf.random.set_seed(42)\n",
    "X_train.shape[1:]"
   ]
  },
  {
   "cell_type": "code",
   "execution_count": 43,
   "metadata": {},
   "outputs": [
    {
     "name": "stdout",
     "output_type": "stream",
     "text": [
      "Train on 11610 samples, validate on 3870 samples\n",
      "Epoch 1/20\n",
      "11610/11610 [==============================] - 2s 166us/sample - loss: 1.6205 - val_loss: 2.0374\n",
      "Epoch 2/20\n",
      "11610/11610 [==============================] - 1s 87us/sample - loss: 0.7162 - val_loss: 0.6571\n",
      "Epoch 3/20\n",
      "11610/11610 [==============================] - 1s 88us/sample - loss: 0.6356 - val_loss: 0.5996\n",
      "Epoch 4/20\n",
      "11610/11610 [==============================] - 1s 92us/sample - loss: 0.5989 - val_loss: 0.5662\n",
      "Epoch 5/20\n",
      "11610/11610 [==============================] - 2s 130us/sample - loss: 0.5713 - val_loss: 0.5489\n",
      "Epoch 6/20\n",
      "11610/11610 [==============================] - 1s 92us/sample - loss: 0.5491 - val_loss: 0.5204\n",
      "Epoch 7/20\n",
      "11610/11610 [==============================] - 1s 94us/sample - loss: 0.5301 - val_loss: 0.5018\n",
      "Epoch 8/20\n",
      "11610/11610 [==============================] - 1s 96us/sample - loss: 0.5142 - val_loss: 0.4815\n",
      "Epoch 9/20\n",
      "11610/11610 [==============================] - 1s 89us/sample - loss: 0.5004 - val_loss: 0.4695\n",
      "Epoch 10/20\n",
      "11610/11610 [==============================] - 1s 87us/sample - loss: 0.4883 - val_loss: 0.4605\n",
      "Epoch 11/20\n",
      "11610/11610 [==============================] - 1s 97us/sample - loss: 0.4786 - val_loss: 0.4495\n",
      "Epoch 12/20\n",
      "11610/11610 [==============================] - 1s 89us/sample - loss: 0.4697 - val_loss: 0.4382\n",
      "Epoch 13/20\n",
      "11610/11610 [==============================] - 1s 93us/sample - loss: 0.4621 - val_loss: 0.4309\n",
      "Epoch 14/20\n",
      "11610/11610 [==============================] - 1s 88us/sample - loss: 0.4556 - val_loss: 0.4247\n",
      "Epoch 15/20\n",
      "11610/11610 [==============================] - 1s 118us/sample - loss: 0.4497 - val_loss: 0.4200\n",
      "Epoch 16/20\n",
      "11610/11610 [==============================] - 1s 90us/sample - loss: 0.4443 - val_loss: 0.4149\n",
      "Epoch 17/20\n",
      "11610/11610 [==============================] - 1s 103us/sample - loss: 0.4397 - val_loss: 0.4108\n",
      "Epoch 18/20\n",
      "11610/11610 [==============================] - 1s 91us/sample - loss: 0.4354 - val_loss: 0.4059\n",
      "Epoch 19/20\n",
      "11610/11610 [==============================] - 1s 93us/sample - loss: 0.4315 - val_loss: 0.4003\n",
      "Epoch 20/20\n",
      "11610/11610 [==============================] - 1s 104us/sample - loss: 0.4281 - val_loss: 0.3981\n",
      "5160/5160 [==============================] - 0s 56us/sample - loss: 0.4218\n"
     ]
    }
   ],
   "source": [
    "model = keras.models.Sequential([\n",
    "    keras.layers.Dense(30, activation=\"relu\", input_shape=X_train.shape[1:]),\n",
    "    keras.layers.Dense(1)\n",
    "])\n",
    "model.compile(loss=\"mean_squared_error\", optimizer=keras.optimizers.SGD(lr=1e-3))\n",
    "history = model.fit(X_train, y_train, epochs=20, validation_data=(X_valid, y_valid))\n",
    "mse_test = model.evaluate(X_test, y_test)\n",
    "X_new = X_test[:3]\n",
    "y_pred = model.predict(X_new)"
   ]
  },
  {
   "cell_type": "code",
   "execution_count": 44,
   "metadata": {},
   "outputs": [
    {
     "data": {
      "image/png": "[encoded data removed]",
      "text/plain": [
       "<Figure size 432x288 with 1 Axes>"
      ]
     },
     "metadata": {
      "needs_background": "light"
     },
     "output_type": "display_data"
    }
   ],
   "source": [
    "plt.plot(pd.DataFrame(history.history))\n",
    "plt.grid(True)\n",
    "plt.gca().set_ylim(0, 1)\n",
    "plt.show()"
   ]
  },
  {
   "cell_type": "code",
   "execution_count": 45,
   "metadata": {},
   "outputs": [
    {
     "data": {
      "text/plain": [
       "array([[0.37310064],\n",
       "       [1.6790789 ],\n",
       "       [3.0817137 ]], dtype=float32)"
      ]
     },
     "execution_count": 45,
     "metadata": {},
     "output_type": "execute_result"
    }
   ],
   "source": [
    "y_pred"
   ]
  },
  {
   "cell_type": "markdown",
   "metadata": {},
   "source": [
    "# Saving and Restoring"
   ]
  },
  {
   "cell_type": "code",
   "execution_count": 46,
   "metadata": {},
   "outputs": [],
   "source": [
    "np.random.seed(42)\n",
    "tf.random.set_seed(42)"
   ]
  },
  {
   "cell_type": "code",
   "execution_count": 47,
   "metadata": {},
   "outputs": [],
   "source": [
    "model = keras.models.Sequential([\n",
    "    keras.layers.Dense(30, activation=\"relu\", input_shape=[8]),\n",
    "    keras.layers.Dense(30, activation=\"relu\"),\n",
    "    keras.layers.Dense(1)\n",
    "])    "
   ]
  },
  {
   "cell_type": "code",
   "execution_count": 48,
   "metadata": {},
   "outputs": [
    {
     "name": "stdout",
     "output_type": "stream",
     "text": [
      "Train on 11610 samples, validate on 3870 samples\n",
      "Epoch 1/10\n",
      "11610/11610 [==============================] - 2s 155us/sample - loss: 1.8423 - val_loss: 5.2165\n",
      "Epoch 2/10\n",
      "11610/11610 [==============================] - 1s 92us/sample - loss: 0.6876 - val_loss: 0.7732\n",
      "Epoch 3/10\n",
      "11610/11610 [==============================] - 1s 91us/sample - loss: 0.5954 - val_loss: 0.5446\n",
      "Epoch 4/10\n",
      "11610/11610 [==============================] - 1s 93us/sample - loss: 0.5553 - val_loss: 0.5425\n",
      "Epoch 5/10\n",
      "11610/11610 [==============================] - 1s 91us/sample - loss: 0.5268 - val_loss: 0.5539\n",
      "Epoch 6/10\n",
      "11610/11610 [==============================] - 1s 93us/sample - loss: 0.5049 - val_loss: 0.4701\n",
      "Epoch 7/10\n",
      "11610/11610 [==============================] - 1s 103us/sample - loss: 0.4852 - val_loss: 0.4562\n",
      "Epoch 8/10\n",
      "11610/11610 [==============================] - 1s 102us/sample - loss: 0.4706 - val_loss: 0.4452\n",
      "Epoch 9/10\n",
      "11610/11610 [==============================] - 1s 105us/sample - loss: 0.4576 - val_loss: 0.4406\n",
      "Epoch 10/10\n",
      "11610/11610 [==============================] - 1s 91us/sample - loss: 0.4476 - val_loss: 0.4185\n",
      "5160/5160 [==============================] - 0s 50us/sample - loss: 0.4376\n"
     ]
    }
   ],
   "source": [
    "model.compile(loss=\"mse\", optimizer=keras.optimizers.SGD(lr=1e-3))\n",
    "history = model.fit(X_train, y_train, epochs=10, validation_data=(X_valid, y_valid))\n",
    "mse_test = model.evaluate(X_test, y_test)"
   ]
  },
  {
   "cell_type": "code",
   "execution_count": 49,
   "metadata": {},
   "outputs": [],
   "source": [
    "model.save(\"my_keras_model.h5\")"
   ]
  },
  {
   "cell_type": "code",
   "execution_count": 52,
   "metadata": {},
   "outputs": [
    {
     "name": "stderr",
     "output_type": "stream",
     "text": [
      "ERROR:root:Internal Python error in the inspect module.\n",
      "Below is the traceback from this internal error.\n",
      "\n"
     ]
    },
    {
     "name": "stdout",
     "output_type": "stream",
     "text": [
      "Traceback (most recent call last):\n",
      "  File \"C:\\Users\\User\\Anaconda3\\envs\\atml_202122\\lib\\site-packages\\IPython\\core\\interactiveshell.py\", line 3319, in run_code\n",
      "    exec(code_obj, self.user_global_ns, self.user_ns)\n",
      "  File \"<ipython-input-52-bbbea3858516>\", line 1, in <module>\n",
      "    import tensorflow_core.estimator\n",
      "ModuleNotFoundError: No module named 'tensorflow_core.estimator'\n",
      "\n",
      "During handling of the above exception, another exception occurred:\n",
      "\n",
      "Traceback (most recent call last):\n",
      "  File \"C:\\Users\\User\\Anaconda3\\envs\\atml_202122\\lib\\site-packages\\IPython\\core\\interactiveshell.py\", line 2034, in showtraceback\n",
      "    stb = value._render_traceback_()\n",
      "AttributeError: 'ModuleNotFoundError' object has no attribute '_render_traceback_'\n",
      "\n",
      "During handling of the above exception, another exception occurred:\n",
      "\n",
      "Traceback (most recent call last):\n",
      "  File \"C:\\Users\\User\\Anaconda3\\envs\\atml_202122\\lib\\site-packages\\IPython\\core\\ultratb.py\", line 1101, in get_records\n",
      "    return _fixed_getinnerframes(etb, number_of_lines_of_context, tb_offset)\n",
      "  File \"C:\\Users\\User\\Anaconda3\\envs\\atml_202122\\lib\\site-packages\\IPython\\core\\ultratb.py\", line 319, in wrapped\n",
      "    return f(*args, **kwargs)\n",
      "  File \"C:\\Users\\User\\Anaconda3\\envs\\atml_202122\\lib\\site-packages\\IPython\\core\\ultratb.py\", line 353, in _fixed_getinnerframes\n",
      "    records = fix_frame_records_filenames(inspect.getinnerframes(etb, context))\n",
      "  File \"C:\\Users\\User\\Anaconda3\\envs\\atml_202122\\lib\\inspect.py\", line 1502, in getinnerframes\n",
      "    frameinfo = (tb.tb_frame,) + getframeinfo(tb, context)\n",
      "  File \"C:\\Users\\User\\Anaconda3\\envs\\atml_202122\\lib\\inspect.py\", line 1460, in getframeinfo\n",
      "    filename = getsourcefile(frame) or getfile(frame)\n",
      "  File \"C:\\Users\\User\\Anaconda3\\envs\\atml_202122\\lib\\inspect.py\", line 696, in getsourcefile\n",
      "    if getattr(getmodule(object, filename), '__loader__', None) is not None:\n",
      "  File \"C:\\Users\\User\\Anaconda3\\envs\\atml_202122\\lib\\inspect.py\", line 733, in getmodule\n",
      "    if ismodule(module) and hasattr(module, '__file__'):\n",
      "  File \"C:\\Users\\User\\Anaconda3\\envs\\atml_202122\\lib\\site-packages\\tensorflow\\__init__.py\", line 50, in __getattr__\n",
      "    module = self._load()\n",
      "  File \"C:\\Users\\User\\Anaconda3\\envs\\atml_202122\\lib\\site-packages\\tensorflow\\__init__.py\", line 44, in _load\n",
      "    module = _importlib.import_module(self.__name__)\n",
      "  File \"C:\\Users\\User\\Anaconda3\\envs\\atml_202122\\lib\\importlib\\__init__.py\", line 127, in import_module\n",
      "    return _bootstrap._gcd_import(name[level:], package, level)\n",
      "  File \"<frozen importlib._bootstrap>\", line 1006, in _gcd_import\n",
      "  File \"<frozen importlib._bootstrap>\", line 983, in _find_and_load\n",
      "  File \"<frozen importlib._bootstrap>\", line 965, in _find_and_load_unlocked\n",
      "ModuleNotFoundError: No module named 'tensorflow_core.estimator'\n"
     ]
    },
    {
     "ename": "ModuleNotFoundError",
     "evalue": "No module named 'tensorflow_core.estimator'",
     "output_type": "error",
     "traceback": [
      "\u001b[1;31m---------------------------------------------------------------------------\u001b[0m"
     ]
    }
   ],
   "source": [
    "import tensorflow_core.estimator\n",
    "\n",
    "model = keras.models.load_model(\"my_keras_model.h5\")"
   ]
  },
  {
   "cell_type": "code",
   "execution_count": 51,
   "metadata": {},
   "outputs": [
    {
     "data": {
      "text/plain": [
       "array([[0.551559 ],\n",
       "       [1.6555369],\n",
       "       [3.0014234]], dtype=float32)"
      ]
     },
     "execution_count": 51,
     "metadata": {},
     "output_type": "execute_result"
    }
   ],
   "source": [
    "model.predict(X_new)"
   ]
  },
  {
   "cell_type": "code",
   "execution_count": 26,
   "metadata": {},
   "outputs": [],
   "source": [
    "model.save_weights(\"my_keras_weights.ckpt\")"
   ]
  },
  {
   "cell_type": "code",
   "execution_count": 27,
   "metadata": {},
   "outputs": [
    {
     "data": {
      "text/plain": [
       "<tensorflow.python.training.tracking.util.CheckpointLoadStatus at 0x146f30b10>"
      ]
     },
     "execution_count": 27,
     "metadata": {},
     "output_type": "execute_result"
    }
   ],
   "source": [
    "model.load_weights(\"my_keras_weights.ckpt\")"
   ]
  },
  {
   "cell_type": "markdown",
   "metadata": {},
   "source": [
    "# Using Callbacks during Training"
   ]
  },
  {
   "cell_type": "code",
   "execution_count": 28,
   "metadata": {},
   "outputs": [],
   "source": [
    "keras.backend.clear_session()\n",
    "np.random.seed(42)\n",
    "tf.random.set_seed(42)"
   ]
  },
  {
   "cell_type": "code",
   "execution_count": 29,
   "metadata": {},
   "outputs": [],
   "source": [
    "model = keras.models.Sequential([\n",
    "    keras.layers.Dense(30, activation=\"relu\", input_shape=[8]),\n",
    "    keras.layers.Dense(30, activation=\"relu\"),\n",
    "    keras.layers.Dense(1)\n",
    "])    "
   ]
  },
  {
   "cell_type": "code",
   "execution_count": 30,
   "metadata": {},
   "outputs": [
    {
     "name": "stdout",
     "output_type": "stream",
     "text": [
      "Train on 11610 samples, validate on 3870 samples\n",
      "Epoch 1/10\n",
      "11610/11610 [==============================] - 1s 89us/sample - loss: 1.8423 - val_loss: 5.2165\n",
      "Epoch 2/10\n",
      "11610/11610 [==============================] - 1s 78us/sample - loss: 0.6876 - val_loss: 0.7732\n",
      "Epoch 3/10\n",
      "11610/11610 [==============================] - 1s 64us/sample - loss: 0.5954 - val_loss: 0.5446\n",
      "Epoch 4/10\n",
      "11610/11610 [==============================] - 1s 62us/sample - loss: 0.5553 - val_loss: 0.5425\n",
      "Epoch 5/10\n",
      "11610/11610 [==============================] - 1s 60us/sample - loss: 0.5268 - val_loss: 0.5539\n",
      "Epoch 6/10\n",
      "11610/11610 [==============================] - 1s 60us/sample - loss: 0.5049 - val_loss: 0.4701\n",
      "Epoch 7/10\n",
      "11610/11610 [==============================] - 1s 59us/sample - loss: 0.4852 - val_loss: 0.4562\n",
      "Epoch 8/10\n",
      "11610/11610 [==============================] - 1s 69us/sample - loss: 0.4706 - val_loss: 0.4452\n",
      "Epoch 9/10\n",
      "11610/11610 [==============================] - 1s 82us/sample - loss: 0.4576 - val_loss: 0.4406\n",
      "Epoch 10/10\n",
      "11610/11610 [==============================] - 1s 63us/sample - loss: 0.4476 - val_loss: 0.4185\n",
      "5160/5160 [==============================] - 0s 42us/sample - loss: 0.4376\n"
     ]
    }
   ],
   "source": [
    "model.compile(loss=\"mse\", optimizer=keras.optimizers.SGD(lr=1e-3))\n",
    "checkpoint_cb = keras.callbacks.ModelCheckpoint(\"my_keras_model.h5\", save_best_only=True)\n",
    "history = model.fit(X_train, y_train, epochs=10,\n",
    "                    validation_data=(X_valid, y_valid),\n",
    "                    callbacks=[checkpoint_cb])\n",
    "model = keras.models.load_model(\"my_keras_model.h5\") # rollback to best model\n",
    "mse_test = model.evaluate(X_test, y_test)"
   ]
  },
  {
   "cell_type": "code",
   "execution_count": 31,
   "metadata": {},
   "outputs": [
    {
     "name": "stdout",
     "output_type": "stream",
     "text": [
      "Train on 11610 samples, validate on 3870 samples\n",
      "Epoch 1/100\n",
      "11610/11610 [==============================] - 1s 70us/sample - loss: 0.4385 - val_loss: 0.4287\n",
      "Epoch 2/100\n",
      "11610/11610 [==============================] - 1s 51us/sample - loss: 0.4319 - val_loss: 0.4117\n",
      "Epoch 3/100\n",
      "11610/11610 [==============================] - 1s 54us/sample - loss: 0.4252 - val_loss: 0.3975\n",
      "Epoch 4/100\n",
      "11610/11610 [==============================] - 1s 51us/sample - loss: 0.4199 - val_loss: 0.3943\n",
      "Epoch 5/100\n",
      "11610/11610 [==============================] - 1s 56us/sample - loss: 0.4150 - val_loss: 0.3964\n",
      "Epoch 6/100\n",
      "11610/11610 [==============================] - 1s 78us/sample - loss: 0.4110 - val_loss: 0.3907\n",
      "Epoch 7/100\n",
      "11610/11610 [==============================] - 1s 79us/sample - loss: 0.4070 - val_loss: 0.3823\n",
      "Epoch 8/100\n",
      "11610/11610 [==============================] - 1s 77us/sample - loss: 0.4036 - val_loss: 0.3786\n",
      "Epoch 9/100\n",
      "11610/11610 [==============================] - 1s 61us/sample - loss: 0.4003 - val_loss: 0.3739\n",
      "Epoch 10/100\n",
      "11610/11610 [==============================] - 1s 61us/sample - loss: 0.3973 - val_loss: 0.3724\n",
      "Epoch 11/100\n",
      "11610/11610 [==============================] - 1s 68us/sample - loss: 0.3944 - val_loss: 0.3697\n",
      "Epoch 12/100\n",
      "11610/11610 [==============================] - 1s 56us/sample - loss: 0.3916 - val_loss: 0.3670\n",
      "Epoch 13/100\n",
      "11610/11610 [==============================] - 1s 59us/sample - loss: 0.3892 - val_loss: 0.3638\n",
      "Epoch 14/100\n",
      "11610/11610 [==============================] - 1s 56us/sample - loss: 0.3869 - val_loss: 0.3633\n",
      "Epoch 15/100\n",
      "11610/11610 [==============================] - 1s 53us/sample - loss: 0.3845 - val_loss: 0.4051\n",
      "Epoch 16/100\n",
      "11610/11610 [==============================] - 1s 52us/sample - loss: 0.3826 - val_loss: 0.3662\n",
      "Epoch 17/100\n",
      "11610/11610 [==============================] - 1s 52us/sample - loss: 0.3805 - val_loss: 0.3554\n",
      "Epoch 18/100\n",
      "11610/11610 [==============================] - 1s 56us/sample - loss: 0.3782 - val_loss: 0.3684\n",
      "Epoch 19/100\n",
      "11610/11610 [==============================] - 1s 77us/sample - loss: 0.3762 - val_loss: 0.3523\n",
      "Epoch 20/100\n",
      "11610/11610 [==============================] - 1s 66us/sample - loss: 0.3744 - val_loss: 0.3622\n",
      "Epoch 21/100\n",
      "11610/11610 [==============================] - 1s 73us/sample - loss: 0.3727 - val_loss: 0.3498\n",
      "Epoch 22/100\n",
      "11610/11610 [==============================] - 1s 78us/sample - loss: 0.3709 - val_loss: 0.3651\n",
      "Epoch 23/100\n",
      "11610/11610 [==============================] - 1s 73us/sample - loss: 0.3694 - val_loss: 0.3538\n",
      "Epoch 24/100\n",
      "11610/11610 [==============================] - 1s 63us/sample - loss: 0.3681 - val_loss: 0.3479\n",
      "Epoch 25/100\n",
      "11610/11610 [==============================] - 1s 60us/sample - loss: 0.3668 - val_loss: 0.3475\n",
      "Epoch 26/100\n",
      "11610/11610 [==============================] - 1s 54us/sample - loss: 0.3654 - val_loss: 0.3483\n",
      "Epoch 27/100\n",
      "11610/11610 [==============================] - 1s 59us/sample - loss: 0.3641 - val_loss: 0.3787\n",
      "Epoch 28/100\n",
      "11610/11610 [==============================] - 1s 56us/sample - loss: 0.3631 - val_loss: 0.3461\n",
      "Epoch 29/100\n",
      "11610/11610 [==============================] - 1s 56us/sample - loss: 0.3618 - val_loss: 0.3709\n",
      "Epoch 30/100\n",
      "11610/11610 [==============================] - 1s 63us/sample - loss: 0.3607 - val_loss: 0.3530\n",
      "Epoch 31/100\n",
      "11610/11610 [==============================] - 1s 76us/sample - loss: 0.3596 - val_loss: 0.3429\n",
      "Epoch 32/100\n",
      "11610/11610 [==============================] - 1s 64us/sample - loss: 0.3586 - val_loss: 0.3441\n",
      "Epoch 33/100\n",
      "11610/11610 [==============================] - 1s 99us/sample - loss: 0.3577 - val_loss: 0.3534\n",
      "Epoch 34/100\n",
      "11610/11610 [==============================] - 1s 70us/sample - loss: 0.3567 - val_loss: 0.3359\n",
      "Epoch 35/100\n",
      "11610/11610 [==============================] - 1s 65us/sample - loss: 0.3557 - val_loss: 0.3828\n",
      "Epoch 36/100\n",
      "11610/11610 [==============================] - 1s 97us/sample - loss: 0.3551 - val_loss: 0.3345\n",
      "Epoch 37/100\n",
      "11610/11610 [==============================] - 1s 84us/sample - loss: 0.3541 - val_loss: 0.3843\n",
      "Epoch 38/100\n",
      "11610/11610 [==============================] - 1s 87us/sample - loss: 0.3534 - val_loss: 0.3329\n",
      "Epoch 39/100\n",
      "11610/11610 [==============================] - 1s 62us/sample - loss: 0.3524 - val_loss: 0.3933\n",
      "Epoch 40/100\n",
      "11610/11610 [==============================] - 1s 60us/sample - loss: 0.3522 - val_loss: 0.3314\n",
      "Epoch 41/100\n",
      "11610/11610 [==============================] - 1s 81us/sample - loss: 0.3510 - val_loss: 0.3985\n",
      "Epoch 42/100\n",
      "11610/11610 [==============================] - 1s 70us/sample - loss: 0.3507 - val_loss: 0.3299\n",
      "Epoch 43/100\n",
      "11610/11610 [==============================] - 1s 106us/sample - loss: 0.3498 - val_loss: 0.3466\n",
      "Epoch 44/100\n",
      "11610/11610 [==============================] - 1s 72us/sample - loss: 0.3488 - val_loss: 0.3414\n",
      "Epoch 45/100\n",
      "11610/11610 [==============================] - 1s 72us/sample - loss: 0.3484 - val_loss: 0.3436\n",
      "Epoch 46/100\n",
      "11610/11610 [==============================] - 1s 74us/sample - loss: 0.3479 - val_loss: 0.3289\n",
      "Epoch 47/100\n",
      "11610/11610 [==============================] - 1s 62us/sample - loss: 0.3468 - val_loss: 0.3655\n",
      "Epoch 48/100\n",
      "11610/11610 [==============================] - 1s 53us/sample - loss: 0.3467 - val_loss: 0.3285\n",
      "Epoch 49/100\n",
      "11610/11610 [==============================] - 1s 52us/sample - loss: 0.3461 - val_loss: 0.3964\n",
      "Epoch 50/100\n",
      "11610/11610 [==============================] - 1s 55us/sample - loss: 0.3455 - val_loss: 0.3299\n",
      "Epoch 51/100\n",
      "11610/11610 [==============================] - 1s 52us/sample - loss: 0.3451 - val_loss: 0.3349\n",
      "Epoch 52/100\n",
      "11610/11610 [==============================] - 1s 54us/sample - loss: 0.3446 - val_loss: 0.3328\n",
      "Epoch 53/100\n",
      "11610/11610 [==============================] - 1s 55us/sample - loss: 0.3440 - val_loss: 0.3580\n",
      "Epoch 54/100\n",
      "11610/11610 [==============================] - 1s 52us/sample - loss: 0.3433 - val_loss: 0.3316\n",
      "Epoch 55/100\n",
      "11610/11610 [==============================] - 1s 52us/sample - loss: 0.3429 - val_loss: 0.3252\n",
      "Epoch 56/100\n",
      "11610/11610 [==============================] - 1s 54us/sample - loss: 0.3422 - val_loss: 0.3857\n",
      "Epoch 57/100\n",
      "11610/11610 [==============================] - 1s 53us/sample - loss: 0.3422 - val_loss: 0.3237\n",
      "Epoch 58/100\n",
      "11610/11610 [==============================] - 1s 54us/sample - loss: 0.3414 - val_loss: 0.3387\n",
      "Epoch 59/100\n",
      "11610/11610 [==============================] - 1s 52us/sample - loss: 0.3409 - val_loss: 0.3226\n",
      "Epoch 60/100\n",
      "11610/11610 [==============================] - 1s 55us/sample - loss: 0.3403 - val_loss: 0.4004\n",
      "Epoch 61/100\n",
      "11610/11610 [==============================] - 1s 60us/sample - loss: 0.3406 - val_loss: 0.3220\n",
      "Epoch 62/100\n",
      "11610/11610 [==============================] - 1s 52us/sample - loss: 0.3396 - val_loss: 0.3940\n",
      "Epoch 63/100\n",
      "11610/11610 [==============================] - 1s 52us/sample - loss: 0.3393 - val_loss: 0.3282\n",
      "Epoch 64/100\n",
      "11610/11610 [==============================] - 1s 51us/sample - loss: 0.3391 - val_loss: 0.3584\n",
      "Epoch 65/100\n",
      "11610/11610 [==============================] - 1s 52us/sample - loss: 0.3383 - val_loss: 0.3217\n",
      "Epoch 66/100\n",
      "11610/11610 [==============================] - 1s 52us/sample - loss: 0.3380 - val_loss: 0.3738\n",
      "Epoch 67/100\n",
      "11610/11610 [==============================] - 1s 51us/sample - loss: 0.3378 - val_loss: 0.3397\n",
      "Epoch 68/100\n",
      "11610/11610 [==============================] - 1s 53us/sample - loss: 0.3373 - val_loss: 0.3194\n",
      "Epoch 69/100\n",
      "11610/11610 [==============================] - 1s 55us/sample - loss: 0.3367 - val_loss: 0.3785\n",
      "Epoch 70/100\n",
      "11610/11610 [==============================] - 1s 55us/sample - loss: 0.3368 - val_loss: 0.3205\n",
      "Epoch 71/100\n",
      "11610/11610 [==============================] - 1s 59us/sample - loss: 0.3358 - val_loss: 0.3817\n",
      "Epoch 72/100\n",
      "11610/11610 [==============================] - 1s 70us/sample - loss: 0.3358 - val_loss: 0.3350\n",
      "Epoch 73/100\n",
      "11610/11610 [==============================] - 1s 61us/sample - loss: 0.3350 - val_loss: 0.3332\n",
      "Epoch 74/100\n",
      "11610/11610 [==============================] - 1s 101us/sample - loss: 0.3350 - val_loss: 0.3179\n",
      "Epoch 75/100\n",
      "11610/11610 [==============================] - 1s 77us/sample - loss: 0.3345 - val_loss: 0.3476\n"
     ]
    },
    {
     "name": "stdout",
     "output_type": "stream",
     "text": [
      "Epoch 76/100\n",
      "11610/11610 [==============================] - 1s 61us/sample - loss: 0.3341 - val_loss: 0.3196\n",
      "Epoch 77/100\n",
      "11610/11610 [==============================] - 1s 62us/sample - loss: 0.3338 - val_loss: 0.3608\n",
      "Epoch 78/100\n",
      "11610/11610 [==============================] - 1s 76us/sample - loss: 0.3336 - val_loss: 0.3295\n",
      "Epoch 79/100\n",
      "11610/11610 [==============================] - 1s 83us/sample - loss: 0.3331 - val_loss: 0.3927\n",
      "Epoch 80/100\n",
      "11610/11610 [==============================] - 1s 69us/sample - loss: 0.3332 - val_loss: 0.3167\n",
      "Epoch 81/100\n",
      "11610/11610 [==============================] - 1s 87us/sample - loss: 0.3317 - val_loss: 0.3783\n",
      "Epoch 82/100\n",
      "11610/11610 [==============================] - 1s 62us/sample - loss: 0.3322 - val_loss: 0.3154\n",
      "Epoch 83/100\n",
      "11610/11610 [==============================] - 1s 56us/sample - loss: 0.3315 - val_loss: 0.3538\n",
      "Epoch 84/100\n",
      "11610/11610 [==============================] - 1s 56us/sample - loss: 0.3312 - val_loss: 0.3282\n",
      "Epoch 85/100\n",
      "11610/11610 [==============================] - 1s 62us/sample - loss: 0.3307 - val_loss: 0.3379\n",
      "Epoch 86/100\n",
      "11610/11610 [==============================] - 1s 67us/sample - loss: 0.3306 - val_loss: 0.3163\n",
      "Epoch 87/100\n",
      "11610/11610 [==============================] - 1s 66us/sample - loss: 0.3302 - val_loss: 0.3377\n",
      "Epoch 88/100\n",
      "11610/11610 [==============================] - 1s 92us/sample - loss: 0.3300 - val_loss: 0.3340\n",
      "Epoch 89/100\n",
      "11610/11610 [==============================] - 1s 79us/sample - loss: 0.3295 - val_loss: 0.3158\n",
      "Epoch 90/100\n",
      "11610/11610 [==============================] - 1s 86us/sample - loss: 0.3294 - val_loss: 0.3519\n",
      "Epoch 91/100\n",
      "11610/11610 [==============================] - 1s 75us/sample - loss: 0.3289 - val_loss: 0.3142\n",
      "Epoch 92/100\n",
      "11610/11610 [==============================] - 1s 76us/sample - loss: 0.3286 - val_loss: 0.3619\n",
      "Epoch 93/100\n",
      "11610/11610 [==============================] - 1s 79us/sample - loss: 0.3282 - val_loss: 0.3270\n",
      "Epoch 94/100\n",
      "11610/11610 [==============================] - 1s 61us/sample - loss: 0.3282 - val_loss: 0.4632\n",
      "Epoch 95/100\n",
      "11610/11610 [==============================] - 1s 62us/sample - loss: 0.3284 - val_loss: 0.3371\n",
      "Epoch 96/100\n",
      "11610/11610 [==============================] - 1s 60us/sample - loss: 0.3275 - val_loss: 0.4659\n",
      "Epoch 97/100\n",
      "11610/11610 [==============================] - 1s 57us/sample - loss: 0.3278 - val_loss: 0.3156\n",
      "Epoch 98/100\n",
      "11610/11610 [==============================] - 1s 66us/sample - loss: 0.3265 - val_loss: 0.3259\n",
      "Epoch 99/100\n",
      "11610/11610 [==============================] - 1s 65us/sample - loss: 0.3262 - val_loss: 0.3407\n",
      "Epoch 100/100\n",
      "11610/11610 [==============================] - 1s 67us/sample - loss: 0.3264 - val_loss: 0.3176\n",
      "5160/5160 [==============================] - 0s 31us/sample - loss: 0.3271\n"
     ]
    }
   ],
   "source": [
    "model.compile(loss=\"mse\", optimizer=keras.optimizers.SGD(lr=1e-3))\n",
    "early_stopping_cb = keras.callbacks.EarlyStopping(patience=10,\n",
    "                                                  restore_best_weights=True)\n",
    "history = model.fit(X_train, y_train, epochs=100,\n",
    "                    validation_data=(X_valid, y_valid),\n",
    "                    callbacks=[checkpoint_cb, early_stopping_cb])\n",
    "mse_test = model.evaluate(X_test, y_test)"
   ]
  },
  {
   "cell_type": "markdown",
   "metadata": {},
   "source": [
    "# TensorBoard"
   ]
  },
  {
   "cell_type": "code",
   "execution_count": 32,
   "metadata": {},
   "outputs": [],
   "source": [
    "root_logdir = os.path.join(os.curdir, \"my_logs\")"
   ]
  },
  {
   "cell_type": "code",
   "execution_count": 33,
   "metadata": {},
   "outputs": [
    {
     "data": {
      "text/plain": [
       "'./my_logs/run_2020_10_20-13_19_36'"
      ]
     },
     "execution_count": 33,
     "metadata": {},
     "output_type": "execute_result"
    }
   ],
   "source": [
    "def get_run_logdir():\n",
    "    import time\n",
    "    run_id = time.strftime(\"run_%Y_%m_%d-%H_%M_%S\")\n",
    "    return os.path.join(root_logdir, run_id)\n",
    "\n",
    "run_logdir = get_run_logdir()\n",
    "run_logdir"
   ]
  },
  {
   "cell_type": "code",
   "execution_count": 34,
   "metadata": {},
   "outputs": [],
   "source": [
    "model = keras.models.Sequential([\n",
    "    keras.layers.Dense(30, activation=\"relu\", input_shape=[8]),\n",
    "    keras.layers.Dense(30, activation=\"relu\"),\n",
    "    keras.layers.Dense(1)\n",
    "])    \n",
    "model.compile(loss=\"mse\", optimizer=keras.optimizers.SGD(lr=1e-3))"
   ]
  },
  {
   "cell_type": "code",
   "execution_count": 35,
   "metadata": {},
   "outputs": [
    {
     "name": "stdout",
     "output_type": "stream",
     "text": [
      "Train on 11610 samples, validate on 3870 samples\n",
      "Epoch 1/30\n",
      "11610/11610 [==============================] - 1s 123us/sample - loss: 1.4548 - val_loss: 0.8192\n",
      "Epoch 2/30\n",
      "11610/11610 [==============================] - 1s 98us/sample - loss: 0.7412 - val_loss: 0.6668\n",
      "Epoch 3/30\n",
      "11610/11610 [==============================] - 1s 98us/sample - loss: 0.6521 - val_loss: 0.6015\n",
      "Epoch 4/30\n",
      "11610/11610 [==============================] - 1s 82us/sample - loss: 0.5952 - val_loss: 0.5492\n",
      "Epoch 5/30\n",
      "11610/11610 [==============================] - 1s 82us/sample - loss: 0.5530 - val_loss: 0.5147\n",
      "Epoch 6/30\n",
      "11610/11610 [==============================] - 1s 83us/sample - loss: 0.5200 - val_loss: 0.4739\n",
      "Epoch 7/30\n",
      "11610/11610 [==============================] - 1s 73us/sample - loss: 0.4933 - val_loss: 0.4511\n",
      "Epoch 8/30\n",
      "11610/11610 [==============================] - 1s 93us/sample - loss: 0.4724 - val_loss: 0.4351\n",
      "Epoch 9/30\n",
      "11610/11610 [==============================] - 1s 71us/sample - loss: 0.4558 - val_loss: 0.4300\n",
      "Epoch 10/30\n",
      "11610/11610 [==============================] - 1s 82us/sample - loss: 0.4427 - val_loss: 0.4282\n",
      "Epoch 11/30\n",
      "11610/11610 [==============================] - 1s 77us/sample - loss: 0.4325 - val_loss: 0.4247\n",
      "Epoch 12/30\n",
      "11610/11610 [==============================] - 1s 72us/sample - loss: 0.4241 - val_loss: 0.4280\n",
      "Epoch 13/30\n",
      "11610/11610 [==============================] - 1s 67us/sample - loss: 0.4175 - val_loss: 0.4232\n",
      "Epoch 14/30\n",
      "11610/11610 [==============================] - 1s 88us/sample - loss: 0.4123 - val_loss: 0.4295\n",
      "Epoch 15/30\n",
      "11610/11610 [==============================] - 1s 80us/sample - loss: 0.4075 - val_loss: 0.4714\n",
      "Epoch 16/30\n",
      "11610/11610 [==============================] - 1s 81us/sample - loss: 0.4035 - val_loss: 0.4352\n",
      "Epoch 17/30\n",
      "11610/11610 [==============================] - 1s 98us/sample - loss: 0.4002 - val_loss: 0.4267\n",
      "Epoch 18/30\n",
      "11610/11610 [==============================] - 1s 105us/sample - loss: 0.3966 - val_loss: 0.4640\n",
      "Epoch 19/30\n",
      "11610/11610 [==============================] - 1s 80us/sample - loss: 0.3939 - val_loss: 0.4478\n",
      "Epoch 20/30\n",
      "11610/11610 [==============================] - 1s 71us/sample - loss: 0.3913 - val_loss: 0.4676\n",
      "Epoch 21/30\n",
      "11610/11610 [==============================] - 1s 72us/sample - loss: 0.3888 - val_loss: 0.4402\n",
      "Epoch 22/30\n",
      "11610/11610 [==============================] - 1s 74us/sample - loss: 0.3865 - val_loss: 0.4618\n",
      "Epoch 23/30\n",
      "11610/11610 [==============================] - 1s 71us/sample - loss: 0.3846 - val_loss: 0.4388\n",
      "Epoch 24/30\n",
      "11610/11610 [==============================] - 1s 84us/sample - loss: 0.3826 - val_loss: 0.4190\n",
      "Epoch 25/30\n",
      "11610/11610 [==============================] - 1s 94us/sample - loss: 0.3807 - val_loss: 0.4293\n",
      "Epoch 26/30\n",
      "11610/11610 [==============================] - 1s 72us/sample - loss: 0.3792 - val_loss: 0.4315\n",
      "Epoch 27/30\n",
      "11610/11610 [==============================] - 1s 66us/sample - loss: 0.3771 - val_loss: 0.4570\n",
      "Epoch 28/30\n",
      "11610/11610 [==============================] - 1s 69us/sample - loss: 0.3759 - val_loss: 0.4309\n",
      "Epoch 29/30\n",
      "11610/11610 [==============================] - 1s 69us/sample - loss: 0.3744 - val_loss: 0.4741\n",
      "Epoch 30/30\n",
      "11610/11610 [==============================] - 1s 71us/sample - loss: 0.3732 - val_loss: 0.4445\n"
     ]
    }
   ],
   "source": [
    "tensorboard_cb = keras.callbacks.TensorBoard(run_logdir)\n",
    "history = model.fit(X_train, y_train, epochs=30,\n",
    "                    validation_data=(X_valid, y_valid),\n",
    "                    callbacks=[checkpoint_cb, tensorboard_cb])"
   ]
  },
  {
   "cell_type": "markdown",
   "metadata": {},
   "source": [
    "To start the TensorBoard server, one option is to open a terminal, if needed activate the virtualenv where you installed TensorBoard, go to this notebook's directory, then type:\n",
    "\n",
    "```bash\n",
    "$ tensorboard --logdir=./my_logs --port=6006\n",
    "```\n",
    "\n",
    "You can then open your web browser to [localhost:6006](http://localhost:6006) and use TensorBoard. Once you are done, press Ctrl-C in the terminal window, this will shutdown the TensorBoard server.\n",
    "\n",
    "Alternatively, you can load TensorBoard's Jupyter extension and run it like this:"
   ]
  },
  {
   "cell_type": "code",
   "execution_count": 36,
   "metadata": {},
   "outputs": [
    {
     "data": {
      "text/plain": [
       "Reusing TensorBoard on port 6006 (pid 96088), started 3:10:44 ago. (Use '!kill 96088' to kill it.)"
      ]
     },
     "metadata": {},
     "output_type": "display_data"
    },
    {
     "data": {
      "text/html": [
       "\n",
       "      <iframe id=\"tensorboard-frame-886b8629acf08871\" width=\"100%\" height=\"800\" frameborder=\"0\">\n",
       "      </iframe>\n",
       "      <script>\n",
       "        (function() {\n",
       "          const frame = document.getElementById(\"tensorboard-frame-886b8629acf08871\");\n",
       "          const url = new URL(\"/\", window.location);\n",
       "          url.port = 6006;\n",
       "          frame.src = url;\n",
       "        })();\n",
       "      </script>\n",
       "  "
      ],
      "text/plain": [
       "<IPython.core.display.HTML object>"
      ]
     },
     "metadata": {},
     "output_type": "display_data"
    }
   ],
   "source": [
    "%load_ext tensorboard\n",
    "%tensorboard --logdir=./my_logs --port=6006"
   ]
  },
  {
   "cell_type": "code",
   "execution_count": 37,
   "metadata": {},
   "outputs": [
    {
     "data": {
      "text/plain": [
       "'./my_logs/run_2020_10_20-13_21_44'"
      ]
     },
     "execution_count": 37,
     "metadata": {},
     "output_type": "execute_result"
    }
   ],
   "source": [
    "run_logdir2 = get_run_logdir()\n",
    "run_logdir2"
   ]
  },
  {
   "cell_type": "code",
   "execution_count": 38,
   "metadata": {},
   "outputs": [],
   "source": [
    "keras.backend.clear_session()\n",
    "np.random.seed(42)\n",
    "tf.random.set_seed(42)"
   ]
  },
  {
   "cell_type": "code",
   "execution_count": 39,
   "metadata": {},
   "outputs": [],
   "source": [
    "model = keras.models.Sequential([\n",
    "    keras.layers.Dense(30, activation=\"relu\", input_shape=[8]),\n",
    "    keras.layers.Dense(30, activation=\"relu\"),\n",
    "    keras.layers.Dense(1)\n",
    "])    \n",
    "model.compile(loss=\"mse\", optimizer=keras.optimizers.SGD(lr=0.05))"
   ]
  },
  {
   "cell_type": "code",
   "execution_count": 40,
   "metadata": {},
   "outputs": [
    {
     "name": "stdout",
     "output_type": "stream",
     "text": [
      "Train on 11610 samples, validate on 3870 samples\n",
      "Epoch 1/30\n",
      "11610/11610 [==============================] - 1s 92us/sample - loss: 5.6341 - val_loss: 1.3205\n",
      "Epoch 2/30\n",
      "11610/11610 [==============================] - 1s 70us/sample - loss: 1.2704 - val_loss: 1.0757\n",
      "Epoch 3/30\n",
      "11610/11610 [==============================] - 1s 85us/sample - loss: 0.9370 - val_loss: 0.7769\n",
      "Epoch 4/30\n",
      "11610/11610 [==============================] - 1s 84us/sample - loss: 0.8854 - val_loss: 0.8254\n",
      "Epoch 5/30\n",
      "11610/11610 [==============================] - 1s 76us/sample - loss: 0.9501 - val_loss: 0.9415\n",
      "Epoch 6/30\n",
      "11610/11610 [==============================] - 1s 89us/sample - loss: 0.8283 - val_loss: 0.6111\n",
      "Epoch 7/30\n",
      "11610/11610 [==============================] - 1s 101us/sample - loss: 0.8095 - val_loss: 0.7394\n",
      "Epoch 8/30\n",
      "11610/11610 [==============================] - 1s 91us/sample - loss: 1.1857 - val_loss: 1.0356\n",
      "Epoch 9/30\n",
      "11610/11610 [==============================] - 1s 72us/sample - loss: 0.8920 - val_loss: 0.6564\n",
      "Epoch 10/30\n",
      "11610/11610 [==============================] - 1s 73us/sample - loss: 1.2295 - val_loss: 1.1277\n",
      "Epoch 11/30\n",
      "11610/11610 [==============================] - 1s 67us/sample - loss: 0.8992 - val_loss: 0.6219\n",
      "Epoch 12/30\n",
      "11610/11610 [==============================] - 1s 112us/sample - loss: 0.7697 - val_loss: 0.6959\n",
      "Epoch 13/30\n",
      "11610/11610 [==============================] - 1s 87us/sample - loss: 0.7375 - val_loss: 0.6471\n",
      "Epoch 14/30\n",
      "11610/11610 [==============================] - 1s 91us/sample - loss: 0.9825 - val_loss: 1.0278\n",
      "Epoch 15/30\n",
      "11610/11610 [==============================] - 1s 100us/sample - loss: 0.9653 - val_loss: 0.9092\n",
      "Epoch 16/30\n",
      "11610/11610 [==============================] - 1s 69us/sample - loss: 0.9008 - val_loss: 0.8451\n",
      "Epoch 17/30\n",
      "11610/11610 [==============================] - 1s 92us/sample - loss: 0.7838 - val_loss: 0.5818\n",
      "Epoch 18/30\n",
      "11610/11610 [==============================] - 1s 96us/sample - loss: 0.9960 - val_loss: 1.0598\n",
      "Epoch 19/30\n",
      "11610/11610 [==============================] - 1s 77us/sample - loss: 0.7887 - val_loss: 0.6405\n",
      "Epoch 20/30\n",
      "11610/11610 [==============================] - 1s 73us/sample - loss: 0.5706 - val_loss: 0.5093\n",
      "Epoch 21/30\n",
      "11610/11610 [==============================] - 1s 69us/sample - loss: 0.5192 - val_loss: 0.5457\n",
      "Epoch 22/30\n",
      "11610/11610 [==============================] - 1s 69us/sample - loss: 0.4971 - val_loss: 0.4644\n",
      "Epoch 23/30\n",
      "11610/11610 [==============================] - 1s 65us/sample - loss: 0.4815 - val_loss: 0.4120\n",
      "Epoch 24/30\n",
      "11610/11610 [==============================] - 1s 63us/sample - loss: 0.4678 - val_loss: 0.4853\n",
      "Epoch 25/30\n",
      "11610/11610 [==============================] - 1s 63us/sample - loss: 0.4490 - val_loss: 0.3972\n",
      "Epoch 26/30\n",
      "11610/11610 [==============================] - 1s 68us/sample - loss: 0.4348 - val_loss: 0.4258\n",
      "Epoch 27/30\n",
      "11610/11610 [==============================] - 1s 64us/sample - loss: 0.4377 - val_loss: 0.3829\n",
      "Epoch 28/30\n",
      "11610/11610 [==============================] - 1s 69us/sample - loss: 0.4353 - val_loss: 0.3860\n",
      "Epoch 29/30\n",
      "11610/11610 [==============================] - 1s 71us/sample - loss: 0.4209 - val_loss: 0.3763\n",
      "Epoch 30/30\n",
      "11610/11610 [==============================] - 1s 69us/sample - loss: 0.4441 - val_loss: 0.4186\n"
     ]
    }
   ],
   "source": [
    "tensorboard_cb = keras.callbacks.TensorBoard(run_logdir2)\n",
    "history = model.fit(X_train, y_train, epochs=30,\n",
    "                    validation_data=(X_valid, y_valid),\n",
    "                    callbacks=[checkpoint_cb, tensorboard_cb])"
   ]
  },
  {
   "cell_type": "markdown",
   "metadata": {},
   "source": [
    "Notice how TensorBoard now sees two runs, and you can compare the learning curves."
   ]
  },
  {
   "cell_type": "markdown",
   "metadata": {},
   "source": [
    "Check out the other available logging options:"
   ]
  },
  {
   "cell_type": "code",
   "execution_count": 92,
   "metadata": {},
   "outputs": [
    {
     "name": "stdout",
     "output_type": "stream",
     "text": [
      "Help on function __init__ in module tensorflow.python.keras.callbacks:\n",
      "\n",
      "__init__(self, log_dir='logs', histogram_freq=0, write_graph=True, write_images=False, update_freq='epoch', profile_batch=2, embeddings_freq=0, embeddings_metadata=None, **kwargs)\n",
      "    Initialize self.  See help(type(self)) for accurate signature.\n",
      "\n"
     ]
    }
   ],
   "source": [
    "help(keras.callbacks.TensorBoard.__init__)"
   ]
  },
  {
   "cell_type": "markdown",
   "metadata": {},
   "source": [
    "# Hyperparameter Tuning"
   ]
  },
  {
   "cell_type": "code",
   "execution_count": 64,
   "metadata": {},
   "outputs": [],
   "source": [
    "keras.backend.clear_session()\n",
    "np.random.seed(42)\n",
    "tf.random.set_seed(42)"
   ]
  },
  {
   "cell_type": "code",
   "execution_count": 65,
   "metadata": {},
   "outputs": [
    {
     "name": "stderr",
     "output_type": "stream",
     "text": [
      "Downloading Cal. housing from https://ndownloader.figshare.com/files/5976036 to /Users/rconfalonieri/scikit_learn_data\n"
     ]
    }
   ],
   "source": [
    "from sklearn.datasets import fetch_california_housing\n",
    "from sklearn.model_selection import train_test_split\n",
    "from sklearn.preprocessing import StandardScaler\n",
    "\n",
    "housing = fetch_california_housing()\n",
    "\n",
    "X_train_full, X_test, y_train_full, y_test = train_test_split(housing.data, housing.target, random_state=42)\n",
    "X_train, X_valid, y_train, y_valid = train_test_split(X_train_full, y_train_full, random_state=42)\n",
    "\n",
    "scaler = StandardScaler()\n",
    "X_train = scaler.fit_transform(X_train)\n",
    "X_valid = scaler.transform(X_valid)\n",
    "X_test = scaler.transform(X_test)"
   ]
  },
  {
   "cell_type": "code",
   "execution_count": 67,
   "metadata": {},
   "outputs": [],
   "source": [
    "def build_model(n_hidden=1, n_neurons=30, learning_rate=3e-3, input_shape=[8]):\n",
    "    model = keras.models.Sequential()\n",
    "    model.add(keras.layers.InputLayer(input_shape=input_shape))\n",
    "    for layer in range(n_hidden):\n",
    "        model.add(keras.layers.Dense(n_neurons, activation=\"relu\"))\n",
    "    model.add(keras.layers.Dense(1))\n",
    "    optimizer = keras.optimizers.SGD(lr=learning_rate)\n",
    "    model.compile(loss=\"mse\", optimizer=optimizer)\n",
    "    return model"
   ]
  },
  {
   "cell_type": "code",
   "execution_count": 68,
   "metadata": {},
   "outputs": [],
   "source": [
    "keras_reg = keras.wrappers.scikit_learn.KerasRegressor(build_model)"
   ]
  },
  {
   "cell_type": "code",
   "execution_count": 69,
   "metadata": {},
   "outputs": [
    {
     "name": "stdout",
     "output_type": "stream",
     "text": [
      "Train on 11610 samples, validate on 3870 samples\n",
      "Epoch 1/100\n",
      "11610/11610 [==============================] - 1s 63us/sample - loss: 1.1399 - val_loss: 24.4309\n",
      "Epoch 2/100\n",
      "11610/11610 [==============================] - 0s 38us/sample - loss: 0.7393 - val_loss: 3.2896\n",
      "Epoch 3/100\n",
      "11610/11610 [==============================] - 1s 51us/sample - loss: 0.5374 - val_loss: 0.6080\n",
      "Epoch 4/100\n",
      "11610/11610 [==============================] - 0s 37us/sample - loss: 0.4796 - val_loss: 0.4532\n",
      "Epoch 5/100\n",
      "11610/11610 [==============================] - 1s 43us/sample - loss: 0.4536 - val_loss: 0.4221\n",
      "Epoch 6/100\n",
      "11610/11610 [==============================] - 0s 38us/sample - loss: 0.4373 - val_loss: 0.4144\n",
      "Epoch 7/100\n",
      "11610/11610 [==============================] - 0s 39us/sample - loss: 0.4256 - val_loss: 0.4025\n",
      "Epoch 8/100\n",
      "11610/11610 [==============================] - 0s 40us/sample - loss: 0.4178 - val_loss: 0.3938\n",
      "Epoch 9/100\n",
      "11610/11610 [==============================] - 0s 39us/sample - loss: 0.4114 - val_loss: 0.4085\n",
      "Epoch 10/100\n",
      "11610/11610 [==============================] - 0s 40us/sample - loss: 0.4060 - val_loss: 0.3974\n",
      "Epoch 11/100\n",
      "11610/11610 [==============================] - 0s 40us/sample - loss: 0.4018 - val_loss: 0.3847\n",
      "Epoch 12/100\n",
      "11610/11610 [==============================] - 0s 42us/sample - loss: 0.3978 - val_loss: 0.3818\n",
      "Epoch 13/100\n",
      "11610/11610 [==============================] - 1s 44us/sample - loss: 0.3943 - val_loss: 0.3820\n",
      "Epoch 14/100\n",
      "11610/11610 [==============================] - 0s 41us/sample - loss: 0.3915 - val_loss: 0.3766\n",
      "Epoch 15/100\n",
      "11610/11610 [==============================] - 0s 39us/sample - loss: 0.3888 - val_loss: 0.4268\n",
      "Epoch 16/100\n",
      "11610/11610 [==============================] - 1s 46us/sample - loss: 0.3862 - val_loss: 0.3638\n",
      "Epoch 17/100\n",
      "11610/11610 [==============================] - 0s 41us/sample - loss: 0.3842 - val_loss: 0.3666\n",
      "Epoch 18/100\n",
      "11610/11610 [==============================] - 1s 48us/sample - loss: 0.3815 - val_loss: 0.3948\n",
      "Epoch 19/100\n",
      "11610/11610 [==============================] - 1s 45us/sample - loss: 0.3797 - val_loss: 0.3589\n",
      "Epoch 20/100\n",
      "11610/11610 [==============================] - 0s 42us/sample - loss: 0.3777 - val_loss: 0.4058\n",
      "Epoch 21/100\n",
      "11610/11610 [==============================] - 0s 41us/sample - loss: 0.3763 - val_loss: 0.3662\n",
      "Epoch 22/100\n",
      "11610/11610 [==============================] - 1s 46us/sample - loss: 0.3742 - val_loss: 0.4100\n",
      "Epoch 23/100\n",
      "11610/11610 [==============================] - 1s 51us/sample - loss: 0.3729 - val_loss: 0.3522\n",
      "Epoch 24/100\n",
      "11610/11610 [==============================] - 1s 45us/sample - loss: 0.3718 - val_loss: 0.3518\n",
      "Epoch 25/100\n",
      "11610/11610 [==============================] - 0s 42us/sample - loss: 0.3701 - val_loss: 0.3586\n",
      "Epoch 26/100\n",
      "11610/11610 [==============================] - 1s 52us/sample - loss: 0.3689 - val_loss: 0.3600\n",
      "Epoch 27/100\n",
      "11610/11610 [==============================] - 1s 51us/sample - loss: 0.3674 - val_loss: 0.4042\n",
      "Epoch 28/100\n",
      "11610/11610 [==============================] - 1s 43us/sample - loss: 0.3666 - val_loss: 0.3520\n",
      "Epoch 29/100\n",
      "11610/11610 [==============================] - 1s 56us/sample - loss: 0.3649 - val_loss: 0.4091\n",
      "Epoch 30/100\n",
      "11610/11610 [==============================] - 1s 47us/sample - loss: 0.3645 - val_loss: 0.3916\n",
      "Epoch 31/100\n",
      "11610/11610 [==============================] - 1s 51us/sample - loss: 0.3636 - val_loss: 0.3426\n",
      "Epoch 32/100\n",
      "11610/11610 [==============================] - 1s 48us/sample - loss: 0.3626 - val_loss: 0.3516\n",
      "Epoch 33/100\n",
      "11610/11610 [==============================] - 0s 41us/sample - loss: 0.3616 - val_loss: 0.3830\n",
      "Epoch 34/100\n",
      "11610/11610 [==============================] - 0s 40us/sample - loss: 0.3613 - val_loss: 0.3411\n",
      "Epoch 35/100\n",
      "11610/11610 [==============================] - 0s 41us/sample - loss: 0.3600 - val_loss: 0.3656\n",
      "Epoch 36/100\n",
      "11610/11610 [==============================] - 1s 45us/sample - loss: 0.3593 - val_loss: 0.3402\n",
      "Epoch 37/100\n",
      "11610/11610 [==============================] - 1s 46us/sample - loss: 0.3583 - val_loss: 0.3949\n",
      "Epoch 38/100\n",
      "11610/11610 [==============================] - 0s 42us/sample - loss: 0.3578 - val_loss: 0.3376\n",
      "Epoch 39/100\n",
      "11610/11610 [==============================] - 1s 45us/sample - loss: 0.3563 - val_loss: 0.4037\n",
      "Epoch 40/100\n",
      "11610/11610 [==============================] - 0s 43us/sample - loss: 0.3567 - val_loss: 0.3391\n",
      "Epoch 41/100\n",
      "11610/11610 [==============================] - 0s 40us/sample - loss: 0.3553 - val_loss: 0.4145\n",
      "Epoch 42/100\n",
      "11610/11610 [==============================] - 0s 40us/sample - loss: 0.3552 - val_loss: 0.3376\n",
      "Epoch 43/100\n",
      "11610/11610 [==============================] - 0s 41us/sample - loss: 0.3539 - val_loss: 0.3485\n",
      "Epoch 44/100\n",
      "11610/11610 [==============================] - 1s 51us/sample - loss: 0.3533 - val_loss: 0.3355\n",
      "Epoch 45/100\n",
      "11610/11610 [==============================] - 1s 46us/sample - loss: 0.3529 - val_loss: 0.3329\n",
      "Epoch 46/100\n",
      "11610/11610 [==============================] - 0s 41us/sample - loss: 0.3522 - val_loss: 0.3393\n",
      "Epoch 47/100\n",
      "11610/11610 [==============================] - 0s 41us/sample - loss: 0.3510 - val_loss: 0.4172\n",
      "Epoch 48/100\n",
      "11610/11610 [==============================] - 0s 38us/sample - loss: 0.3515 - val_loss: 0.3758\n",
      "Epoch 49/100\n",
      "11610/11610 [==============================] - 0s 39us/sample - loss: 0.3506 - val_loss: 0.4285\n",
      "Epoch 50/100\n",
      "11610/11610 [==============================] - 1s 45us/sample - loss: 0.3506 - val_loss: 0.4004\n",
      "Epoch 51/100\n",
      "11610/11610 [==============================] - 1s 45us/sample - loss: 0.3501 - val_loss: 0.3300\n",
      "Epoch 52/100\n",
      "11610/11610 [==============================] - 0s 39us/sample - loss: 0.3495 - val_loss: 0.3300\n",
      "Epoch 53/100\n",
      "11610/11610 [==============================] - 1s 48us/sample - loss: 0.3485 - val_loss: 0.3599\n",
      "Epoch 54/100\n",
      "11610/11610 [==============================] - 1s 51us/sample - loss: 0.3479 - val_loss: 0.3424\n",
      "Epoch 55/100\n",
      "11610/11610 [==============================] - 1s 46us/sample - loss: 0.3475 - val_loss: 0.3752\n",
      "Epoch 56/100\n",
      "11610/11610 [==============================] - 1s 44us/sample - loss: 0.3472 - val_loss: 0.4231\n",
      "Epoch 57/100\n",
      "11610/11610 [==============================] - 0s 40us/sample - loss: 0.3474 - val_loss: 0.3728\n",
      "Epoch 58/100\n",
      "11610/11610 [==============================] - 0s 37us/sample - loss: 0.3464 - val_loss: 0.3455\n",
      "Epoch 59/100\n",
      "11610/11610 [==============================] - 1s 54us/sample - loss: 0.3458 - val_loss: 0.3647\n",
      "Epoch 60/100\n",
      "11610/11610 [==============================] - 1s 58us/sample - loss: 0.3451 - val_loss: 0.4226\n",
      "Epoch 61/100\n",
      "11610/11610 [==============================] - 1s 49us/sample - loss: 0.3456 - val_loss: 0.3635\n"
     ]
    },
    {
     "data": {
      "text/plain": [
       "<tensorflow.python.keras.callbacks.History at 0x142eb2dd0>"
      ]
     },
     "execution_count": 69,
     "metadata": {},
     "output_type": "execute_result"
    }
   ],
   "source": [
    "keras_reg.fit(X_train, y_train, epochs=100,\n",
    "              validation_data=(X_valid, y_valid),\n",
    "              callbacks=[keras.callbacks.EarlyStopping(patience=10)])"
   ]
  },
  {
   "cell_type": "code",
   "execution_count": 70,
   "metadata": {},
   "outputs": [
    {
     "name": "stdout",
     "output_type": "stream",
     "text": [
      "5160/5160 [==============================] - 0s 29us/sample - loss: 0.3464\n"
     ]
    }
   ],
   "source": [
    "mse_test = keras_reg.score(X_test, y_test)"
   ]
  },
  {
   "cell_type": "code",
   "execution_count": 73,
   "metadata": {},
   "outputs": [],
   "source": [
    "X_new = X_test[:3]\n",
    "y_pred = keras_reg.predict(X_new)"
   ]
  },
  {
   "cell_type": "code",
   "execution_count": 74,
   "metadata": {},
   "outputs": [],
   "source": [
    "np.random.seed(42)\n",
    "tf.random.set_seed(42)"
   ]
  },
  {
   "cell_type": "markdown",
   "metadata": {},
   "source": [
    "**Warning**: the following cell crashes at the end of training. This seems to be caused by [Keras issue #13586](https://github.com/keras-team/keras/issues/13586), which was triggered by a recent change in Scikit-Learn. [Pull Request #13598](https://github.com/keras-team/keras/pull/13598) seems to fix the issue, so this problem should be resolved soon."
   ]
  },
  {
   "cell_type": "code",
   "execution_count": 75,
   "metadata": {},
   "outputs": [
    {
     "name": "stdout",
     "output_type": "stream",
     "text": [
      "Fitting 3 folds for each of 10 candidates, totalling 30 fits\n",
      "[CV] learning_rate=0.001683454924600351, n_hidden=0, n_neurons=15 ....\n",
      "Train on 7740 samples, validate on 3870 samples\n",
      "Epoch 1/100\n"
     ]
    },
    {
     "name": "stderr",
     "output_type": "stream",
     "text": [
      "[Parallel(n_jobs=1)]: Using backend SequentialBackend with 1 concurrent workers.\n"
     ]
    },
    {
     "name": "stdout",
     "output_type": "stream",
     "text": [
      "7740/7740 [==============================] - 1s 76us/sample - loss: 3.5574 - val_loss: 1.8536\n",
      "Epoch 2/100\n",
      "7740/7740 [==============================] - 0s 45us/sample - loss: 1.3316 - val_loss: 0.9380\n",
      "Epoch 3/100\n",
      "7740/7740 [==============================] - 0s 49us/sample - loss: 0.8573 - val_loss: 0.8545\n",
      "Epoch 4/100\n",
      "7740/7740 [==============================] - 0s 47us/sample - loss: 0.7344 - val_loss: 0.9545\n",
      "Epoch 5/100\n",
      "7740/7740 [==============================] - 0s 41us/sample - loss: 0.6943 - val_loss: 0.7248\n",
      "Epoch 6/100\n",
      "7740/7740 [==============================] - 0s 54us/sample - loss: 0.6682 - val_loss: 0.7356\n",
      "Epoch 7/100\n",
      "7740/7740 [==============================] - 0s 40us/sample - loss: 0.6494 - val_loss: 0.9732\n",
      "Epoch 8/100\n",
      "7740/7740 [==============================] - 0s 50us/sample - loss: 0.6408 - val_loss: 0.6175\n",
      "Epoch 9/100\n",
      "7740/7740 [==============================] - 0s 40us/sample - loss: 0.6256 - val_loss: 0.5877\n",
      "Epoch 10/100\n",
      "7740/7740 [==============================] - 0s 43us/sample - loss: 0.6149 - val_loss: 0.6164\n",
      "Epoch 11/100\n",
      "7740/7740 [==============================] - 0s 54us/sample - loss: 0.6058 - val_loss: 0.5851\n",
      "Epoch 12/100\n",
      "7740/7740 [==============================] - 0s 41us/sample - loss: 0.5961 - val_loss: 0.7040\n",
      "Epoch 13/100\n",
      "7740/7740 [==============================] - 0s 43us/sample - loss: 0.5905 - val_loss: 0.5594\n",
      "Epoch 14/100\n",
      "7740/7740 [==============================] - 0s 40us/sample - loss: 0.5797 - val_loss: 0.8668\n",
      "Epoch 15/100\n",
      "7740/7740 [==============================] - 0s 40us/sample - loss: 0.5764 - val_loss: 0.9031\n",
      "Epoch 16/100\n",
      "7740/7740 [==============================] - 0s 49us/sample - loss: 0.5745 - val_loss: 0.5583\n",
      "Epoch 17/100\n",
      "7740/7740 [==============================] - 0s 49us/sample - loss: 0.5635 - val_loss: 0.9090\n",
      "Epoch 18/100\n",
      "7740/7740 [==============================] - 0s 48us/sample - loss: 0.5639 - val_loss: 0.7540\n",
      "Epoch 19/100\n",
      "7740/7740 [==============================] - 0s 42us/sample - loss: 0.5608 - val_loss: 0.5828\n",
      "Epoch 20/100\n",
      "7740/7740 [==============================] - 0s 47us/sample - loss: 0.5562 - val_loss: 0.5237\n",
      "Epoch 21/100\n",
      "7740/7740 [==============================] - 0s 41us/sample - loss: 0.5528 - val_loss: 0.5610\n",
      "Epoch 22/100\n",
      "7740/7740 [==============================] - 0s 42us/sample - loss: 0.5497 - val_loss: 0.6308\n",
      "Epoch 23/100\n",
      "7740/7740 [==============================] - 0s 42us/sample - loss: 0.5466 - val_loss: 0.7470\n",
      "Epoch 24/100\n",
      "7740/7740 [==============================] - 0s 42us/sample - loss: 0.5477 - val_loss: 0.5209\n",
      "Epoch 25/100\n",
      "7740/7740 [==============================] - 0s 41us/sample - loss: 0.5416 - val_loss: 0.7251\n",
      "Epoch 26/100\n",
      "7740/7740 [==============================] - 0s 41us/sample - loss: 0.5432 - val_loss: 0.6298\n",
      "Epoch 27/100\n",
      "7740/7740 [==============================] - 0s 42us/sample - loss: 0.5390 - val_loss: 0.8002\n",
      "Epoch 28/100\n",
      "7740/7740 [==============================] - 0s 41us/sample - loss: 0.5417 - val_loss: 0.5708\n",
      "Epoch 29/100\n",
      "7740/7740 [==============================] - 0s 43us/sample - loss: 0.5380 - val_loss: 0.5888\n",
      "Epoch 30/100\n",
      "7740/7740 [==============================] - 0s 42us/sample - loss: 0.5356 - val_loss: 0.7386\n",
      "Epoch 31/100\n",
      "7740/7740 [==============================] - 0s 43us/sample - loss: 0.5382 - val_loss: 0.5329\n",
      "Epoch 32/100\n",
      "7740/7740 [==============================] - 0s 40us/sample - loss: 0.5334 - val_loss: 0.7252\n",
      "Epoch 33/100\n",
      "7740/7740 [==============================] - 0s 42us/sample - loss: 0.5364 - val_loss: 0.5224\n",
      "Epoch 34/100\n",
      "7740/7740 [==============================] - 0s 43us/sample - loss: 0.5339 - val_loss: 0.5262\n",
      "3870/3870 [==============================] - 0s 23us/sample - loss: 0.5463\n",
      "[CV]  learning_rate=0.001683454924600351, n_hidden=0, n_neurons=15, total=  12.0s\n",
      "[CV] learning_rate=0.001683454924600351, n_hidden=0, n_neurons=15 ....\n",
      "Train on 7740 samples, validate on 3870 samples\n",
      "Epoch 1/100\n"
     ]
    },
    {
     "name": "stderr",
     "output_type": "stream",
     "text": [
      "[Parallel(n_jobs=1)]: Done   1 out of   1 | elapsed:   12.0s remaining:    0.0s\n"
     ]
    },
    {
     "name": "stdout",
     "output_type": "stream",
     "text": [
      "7740/7740 [==============================] - 0s 64us/sample - loss: 3.5541 - val_loss: 23.2063\n",
      "Epoch 2/100\n",
      "7740/7740 [==============================] - 0s 41us/sample - loss: 1.4756 - val_loss: 10.9096\n",
      "Epoch 3/100\n",
      "7740/7740 [==============================] - 0s 40us/sample - loss: 1.0159 - val_loss: 4.5194\n",
      "Epoch 4/100\n",
      "7740/7740 [==============================] - 0s 41us/sample - loss: 0.8738 - val_loss: 1.5793\n",
      "Epoch 5/100\n",
      "7740/7740 [==============================] - 0s 40us/sample - loss: 0.8034 - val_loss: 0.7218\n",
      "Epoch 6/100\n",
      "7740/7740 [==============================] - 0s 40us/sample - loss: 0.7549 - val_loss: 1.1511\n",
      "Epoch 7/100\n",
      "7740/7740 [==============================] - 0s 41us/sample - loss: 0.7166 - val_loss: 2.3325\n",
      "Epoch 8/100\n",
      "7740/7740 [==============================] - 0s 43us/sample - loss: 0.6854 - val_loss: 3.9493\n",
      "Epoch 9/100\n",
      "7740/7740 [==============================] - 0s 41us/sample - loss: 0.6593 - val_loss: 5.7393\n",
      "Epoch 10/100\n",
      "7740/7740 [==============================] - 0s 42us/sample - loss: 0.6375 - val_loss: 7.6052\n",
      "Epoch 11/100\n",
      "7740/7740 [==============================] - 0s 57us/sample - loss: 0.6190 - val_loss: 9.3527\n",
      "Epoch 12/100\n",
      "7740/7740 [==============================] - 0s 45us/sample - loss: 0.6033 - val_loss: 11.0010\n",
      "Epoch 13/100\n",
      "7740/7740 [==============================] - 0s 59us/sample - loss: 0.5898 - val_loss: 12.6250\n",
      "Epoch 14/100\n",
      "7740/7740 [==============================] - 0s 42us/sample - loss: 0.5783 - val_loss: 13.9778\n",
      "Epoch 15/100\n",
      "7740/7740 [==============================] - 0s 38us/sample - loss: 0.5684 - val_loss: 15.1585\n",
      "3870/3870 [==============================] - 0s 19us/sample - loss: 0.9136\n",
      "[CV]  learning_rate=0.001683454924600351, n_hidden=0, n_neurons=15, total=   5.4s\n",
      "[CV] learning_rate=0.001683454924600351, n_hidden=0, n_neurons=15 ....\n",
      "Train on 7740 samples, validate on 3870 samples\n",
      "Epoch 1/100\n",
      "7740/7740 [==============================] - 1s 83us/sample - loss: 3.2309 - val_loss: 1.4092\n",
      "Epoch 2/100\n",
      "7740/7740 [==============================] - 0s 50us/sample - loss: 0.9653 - val_loss: 0.7052\n",
      "Epoch 3/100\n",
      "7740/7740 [==============================] - 1s 86us/sample - loss: 0.6144 - val_loss: 0.7331\n",
      "Epoch 4/100\n",
      "7740/7740 [==============================] - 0s 59us/sample - loss: 0.5510 - val_loss: 0.5728\n",
      "Epoch 5/100\n",
      "7740/7740 [==============================] - 0s 47us/sample - loss: 0.5343 - val_loss: 0.7233\n",
      "Epoch 6/100\n",
      "7740/7740 [==============================] - 0s 50us/sample - loss: 0.5342 - val_loss: 0.6482\n",
      "Epoch 7/100\n",
      "7740/7740 [==============================] - 1s 97us/sample - loss: 0.5322 - val_loss: 0.6808\n",
      "Epoch 8/100\n",
      "7740/7740 [==============================] - 0s 58us/sample - loss: 0.5310 - val_loss: 0.7642\n",
      "Epoch 9/100\n",
      "7740/7740 [==============================] - 0s 57us/sample - loss: 0.5310 - val_loss: 0.8269\n",
      "Epoch 10/100\n",
      "7740/7740 [==============================] - 0s 58us/sample - loss: 0.5318 - val_loss: 0.8031\n",
      "Epoch 11/100\n",
      "7740/7740 [==============================] - 0s 48us/sample - loss: 0.5335 - val_loss: 0.5911\n",
      "Epoch 12/100\n",
      "7740/7740 [==============================] - 1s 89us/sample - loss: 0.5310 - val_loss: 0.6315\n",
      "Epoch 13/100\n",
      "7740/7740 [==============================] - 0s 64us/sample - loss: 0.5319 - val_loss: 0.4982\n",
      "Epoch 14/100\n",
      "7740/7740 [==============================] - 1s 76us/sample - loss: 0.5308 - val_loss: 0.5125\n",
      "Epoch 15/100\n",
      "7740/7740 [==============================] - 1s 69us/sample - loss: 0.5309 - val_loss: 0.4935\n",
      "Epoch 16/100\n",
      "7740/7740 [==============================] - 0s 48us/sample - loss: 0.5303 - val_loss: 0.5501\n",
      "Epoch 17/100\n",
      "7740/7740 [==============================] - 0s 58us/sample - loss: 0.5289 - val_loss: 0.6833\n",
      "Epoch 18/100\n",
      "7740/7740 [==============================] - 0s 46us/sample - loss: 0.5320 - val_loss: 0.5203\n",
      "Epoch 19/100\n",
      "7740/7740 [==============================] - 0s 59us/sample - loss: 0.5297 - val_loss: 0.5818\n",
      "Epoch 20/100\n",
      "7740/7740 [==============================] - 0s 47us/sample - loss: 0.5290 - val_loss: 0.6962\n",
      "Epoch 21/100\n",
      "7740/7740 [==============================] - 0s 43us/sample - loss: 0.5309 - val_loss: 0.6175\n",
      "Epoch 22/100\n",
      "7740/7740 [==============================] - 0s 42us/sample - loss: 0.5303 - val_loss: 0.6093\n",
      "Epoch 23/100\n",
      "7740/7740 [==============================] - 0s 41us/sample - loss: 0.5301 - val_loss: 0.6215\n",
      "Epoch 24/100\n",
      "7740/7740 [==============================] - 0s 41us/sample - loss: 0.5308 - val_loss: 0.5782\n",
      "Epoch 25/100\n",
      "7740/7740 [==============================] - 0s 49us/sample - loss: 0.5302 - val_loss: 0.5895\n",
      "3870/3870 [==============================] - 0s 22us/sample - loss: 0.5308\n",
      "[CV]  learning_rate=0.001683454924600351, n_hidden=0, n_neurons=15, total=  11.5s\n",
      "[CV] learning_rate=0.008731907739399206, n_hidden=0, n_neurons=21 ....\n",
      "Train on 7740 samples, validate on 3870 samples\n",
      "Epoch 1/100\n",
      "7740/7740 [==============================] - 1s 65us/sample - loss: 1.4568 - val_loss: 10.1894\n",
      "Epoch 2/100\n",
      "7740/7740 [==============================] - 0s 41us/sample - loss: 0.6432 - val_loss: 0.8423\n",
      "Epoch 3/100\n",
      "7740/7740 [==============================] - 0s 41us/sample - loss: 0.5927 - val_loss: 0.5931\n",
      "Epoch 4/100\n",
      "7740/7740 [==============================] - 0s 47us/sample - loss: 0.5738 - val_loss: 0.9545\n",
      "Epoch 5/100\n",
      "7740/7740 [==============================] - 0s 48us/sample - loss: 0.6437 - val_loss: 26.9553\n",
      "Epoch 6/100\n",
      "7740/7740 [==============================] - 0s 43us/sample - loss: 0.6352 - val_loss: 49.8458\n",
      "Epoch 7/100\n",
      "7740/7740 [==============================] - 0s 47us/sample - loss: 2.0469 - val_loss: 161.2909\n",
      "Epoch 8/100\n",
      "7740/7740 [==============================] - 0s 44us/sample - loss: 1.0236 - val_loss: 296.4855\n",
      "Epoch 9/100\n",
      "7740/7740 [==============================] - 0s 44us/sample - loss: 2.0421 - val_loss: 1833.8984\n",
      "Epoch 10/100\n",
      "7740/7740 [==============================] - 0s 42us/sample - loss: 10.1616 - val_loss: 6133.6058\n",
      "Epoch 11/100\n",
      "7740/7740 [==============================] - 0s 42us/sample - loss: 37.8901 - val_loss: 26555.2970\n",
      "Epoch 12/100\n",
      "7740/7740 [==============================] - 0s 45us/sample - loss: 252.6434 - val_loss: 101521.9690\n",
      "Epoch 13/100\n",
      "7740/7740 [==============================] - 0s 39us/sample - loss: 492.7466 - val_loss: 415890.0651\n",
      "3870/3870 [==============================] - 0s 21us/sample - loss: 1144.4789\n",
      "[CV]  learning_rate=0.008731907739399206, n_hidden=0, n_neurons=21, total=   4.7s\n",
      "[CV] learning_rate=0.008731907739399206, n_hidden=0, n_neurons=21 ....\n",
      "Train on 7740 samples, validate on 3870 samples\n",
      "Epoch 1/100\n",
      "7740/7740 [==============================] - 0s 60us/sample - loss: 1.1508 - val_loss: 21.3931\n",
      "Epoch 2/100\n",
      "7740/7740 [==============================] - 0s 40us/sample - loss: 0.5340 - val_loss: 21.6021\n",
      "Epoch 3/100\n",
      "7740/7740 [==============================] - 0s 46us/sample - loss: 0.5226 - val_loss: 21.4140\n",
      "Epoch 4/100\n",
      "7740/7740 [==============================] - 0s 47us/sample - loss: 0.5148 - val_loss: 19.0061\n",
      "Epoch 5/100\n",
      "7740/7740 [==============================] - 1s 79us/sample - loss: 0.5125 - val_loss: 18.3419\n",
      "Epoch 6/100\n",
      "7740/7740 [==============================] - 1s 92us/sample - loss: 0.5082 - val_loss: 18.0573\n",
      "Epoch 7/100\n",
      "7740/7740 [==============================] - 0s 50us/sample - loss: 0.5050 - val_loss: 16.9085\n",
      "Epoch 8/100\n",
      "7740/7740 [==============================] - 1s 66us/sample - loss: 0.5058 - val_loss: 17.2824\n",
      "Epoch 9/100\n",
      "7740/7740 [==============================] - 0s 54us/sample - loss: 0.5057 - val_loss: 16.9900\n",
      "Epoch 10/100\n",
      "7740/7740 [==============================] - 0s 40us/sample - loss: 0.5035 - val_loss: 18.3345\n",
      "Epoch 11/100\n",
      "7740/7740 [==============================] - 0s 63us/sample - loss: 0.5045 - val_loss: 16.7249\n",
      "Epoch 12/100\n",
      "7740/7740 [==============================] - 0s 46us/sample - loss: 0.5023 - val_loss: 16.9628\n",
      "Epoch 13/100\n",
      "7740/7740 [==============================] - 0s 46us/sample - loss: 0.5023 - val_loss: 19.5300\n",
      "Epoch 14/100\n",
      "7740/7740 [==============================] - 0s 45us/sample - loss: 0.5022 - val_loss: 18.6929\n",
      "Epoch 15/100\n",
      "7740/7740 [==============================] - 0s 40us/sample - loss: 0.5031 - val_loss: 17.7248\n",
      "Epoch 16/100\n",
      "7740/7740 [==============================] - 0s 43us/sample - loss: 0.5027 - val_loss: 20.9402\n",
      "Epoch 17/100\n",
      "7740/7740 [==============================] - 0s 51us/sample - loss: 0.5022 - val_loss: 20.5891\n",
      "Epoch 18/100\n",
      "7740/7740 [==============================] - 0s 49us/sample - loss: 0.5031 - val_loss: 20.7123\n",
      "Epoch 19/100\n",
      "7740/7740 [==============================] - 0s 48us/sample - loss: 0.5014 - val_loss: 17.3551\n",
      "Epoch 20/100\n",
      "7740/7740 [==============================] - 0s 46us/sample - loss: 0.5013 - val_loss: 20.4442\n",
      "Epoch 21/100\n",
      "7740/7740 [==============================] - 0s 40us/sample - loss: 0.5037 - val_loss: 20.7221\n",
      "3870/3870 [==============================] - 0s 23us/sample - loss: 1.0074\n",
      "[CV]  learning_rate=0.008731907739399206, n_hidden=0, n_neurons=21, total=   8.7s\n",
      "[CV] learning_rate=0.008731907739399206, n_hidden=0, n_neurons=21 ....\n",
      "Train on 7740 samples, validate on 3870 samples\n",
      "Epoch 1/100\n",
      "7740/7740 [==============================] - 1s 113us/sample - loss: 1.4056 - val_loss: 28.7777\n",
      "Epoch 2/100\n",
      "7740/7740 [==============================] - 0s 60us/sample - loss: 0.9238 - val_loss: 125.2706\n",
      "Epoch 3/100\n",
      "7740/7740 [==============================] - 0s 42us/sample - loss: 2.8216 - val_loss: 268.4825\n",
      "Epoch 4/100\n",
      "7740/7740 [==============================] - 0s 41us/sample - loss: 4.9607 - val_loss: 622.8712\n",
      "Epoch 5/100\n",
      "7740/7740 [==============================] - 0s 40us/sample - loss: 11.6930 - val_loss: 1247.5503\n",
      "Epoch 6/100\n",
      "7740/7740 [==============================] - 0s 45us/sample - loss: 16.1341 - val_loss: 2481.0882\n",
      "Epoch 7/100\n",
      "7740/7740 [==============================] - 0s 40us/sample - loss: 48.1242 - val_loss: 4792.8348\n",
      "Epoch 8/100\n",
      "7740/7740 [==============================] - 0s 41us/sample - loss: 119.1232 - val_loss: 8994.9969\n",
      "Epoch 9/100\n",
      "7740/7740 [==============================] - 0s 40us/sample - loss: 266.2211 - val_loss: 17774.0706\n",
      "Epoch 10/100\n",
      "7740/7740 [==============================] - 0s 42us/sample - loss: 489.5452 - val_loss: 33844.4918\n",
      "Epoch 11/100\n",
      "7740/7740 [==============================] - 0s 40us/sample - loss: 370.8847 - val_loss: 64184.8462\n",
      "3870/3870 [==============================] - 0s 21us/sample - loss: 65.7429\n",
      "[CV]  learning_rate=0.008731907739399206, n_hidden=0, n_neurons=21, total=   4.4s\n",
      "[CV] learning_rate=0.0006154014789262348, n_hidden=2, n_neurons=87 ...\n",
      "Train on 7740 samples, validate on 3870 samples\n",
      "Epoch 1/100\n",
      "7740/7740 [==============================] - 1s 73us/sample - loss: 2.4669 - val_loss: 5.0606\n",
      "Epoch 2/100\n",
      "7740/7740 [==============================] - 0s 49us/sample - loss: 1.1144 - val_loss: 1.4034\n",
      "Epoch 3/100\n",
      "7740/7740 [==============================] - 0s 49us/sample - loss: 0.8083 - val_loss: 0.7548\n",
      "Epoch 4/100\n",
      "7740/7740 [==============================] - 0s 47us/sample - loss: 0.7204 - val_loss: 0.6779\n",
      "Epoch 5/100\n",
      "7740/7740 [==============================] - 0s 49us/sample - loss: 0.6790 - val_loss: 0.6473\n",
      "Epoch 6/100\n",
      "7740/7740 [==============================] - 0s 47us/sample - loss: 0.6502 - val_loss: 0.6205\n",
      "Epoch 7/100\n",
      "7740/7740 [==============================] - 0s 47us/sample - loss: 0.6261 - val_loss: 0.6041\n",
      "Epoch 8/100\n",
      "7740/7740 [==============================] - 0s 48us/sample - loss: 0.6055 - val_loss: 0.5773\n",
      "Epoch 9/100\n",
      "7740/7740 [==============================] - 0s 48us/sample - loss: 0.5870 - val_loss: 0.5580\n",
      "Epoch 10/100\n",
      "7740/7740 [==============================] - 0s 49us/sample - loss: 0.5703 - val_loss: 0.5421\n",
      "Epoch 11/100\n",
      "7740/7740 [==============================] - 0s 50us/sample - loss: 0.5549 - val_loss: 0.5271\n",
      "Epoch 12/100\n",
      "7740/7740 [==============================] - 0s 48us/sample - loss: 0.5409 - val_loss: 0.5152\n",
      "Epoch 13/100\n",
      "7740/7740 [==============================] - 0s 49us/sample - loss: 0.5281 - val_loss: 0.5013\n",
      "Epoch 14/100\n",
      "7740/7740 [==============================] - 0s 52us/sample - loss: 0.5158 - val_loss: 0.4916\n",
      "Epoch 15/100\n",
      "7740/7740 [==============================] - 0s 47us/sample - loss: 0.5054 - val_loss: 0.4796\n",
      "Epoch 16/100\n",
      "7740/7740 [==============================] - 0s 43us/sample - loss: 0.4950 - val_loss: 0.4721\n",
      "Epoch 17/100\n",
      "7740/7740 [==============================] - 0s 48us/sample - loss: 0.4859 - val_loss: 0.4610\n",
      "Epoch 18/100\n",
      "7740/7740 [==============================] - 0s 47us/sample - loss: 0.4775 - val_loss: 0.4528\n",
      "Epoch 19/100\n",
      "7740/7740 [==============================] - 0s 48us/sample - loss: 0.4697 - val_loss: 0.4477\n",
      "Epoch 20/100\n",
      "7740/7740 [==============================] - 0s 47us/sample - loss: 0.4622 - val_loss: 0.4394\n",
      "Epoch 21/100\n",
      "7740/7740 [==============================] - 0s 44us/sample - loss: 0.4557 - val_loss: 0.4368\n",
      "Epoch 22/100\n",
      "7740/7740 [==============================] - 0s 46us/sample - loss: 0.4498 - val_loss: 0.4277\n",
      "Epoch 23/100\n",
      "7740/7740 [==============================] - 0s 46us/sample - loss: 0.4440 - val_loss: 0.4261\n",
      "Epoch 24/100\n",
      "7740/7740 [==============================] - 0s 45us/sample - loss: 0.4388 - val_loss: 0.4190\n",
      "Epoch 25/100\n",
      "7740/7740 [==============================] - 0s 44us/sample - loss: 0.4339 - val_loss: 0.4201\n",
      "Epoch 26/100\n",
      "7740/7740 [==============================] - 0s 48us/sample - loss: 0.4296 - val_loss: 0.4125\n",
      "Epoch 27/100\n",
      "7740/7740 [==============================] - 0s 47us/sample - loss: 0.4254 - val_loss: 0.4095\n",
      "Epoch 28/100\n",
      "7740/7740 [==============================] - 0s 49us/sample - loss: 0.4218 - val_loss: 0.4107\n",
      "Epoch 29/100\n",
      "7740/7740 [==============================] - 0s 56us/sample - loss: 0.4183 - val_loss: 0.4035\n",
      "Epoch 30/100\n",
      "7740/7740 [==============================] - 0s 51us/sample - loss: 0.4150 - val_loss: 0.4046\n",
      "Epoch 31/100\n",
      "7740/7740 [==============================] - 0s 47us/sample - loss: 0.4119 - val_loss: 0.4032\n",
      "Epoch 32/100\n",
      "7740/7740 [==============================] - 0s 47us/sample - loss: 0.4089 - val_loss: 0.4043\n",
      "Epoch 33/100\n",
      "7740/7740 [==============================] - 0s 49us/sample - loss: 0.4062 - val_loss: 0.3991\n",
      "Epoch 34/100\n",
      "7740/7740 [==============================] - 0s 47us/sample - loss: 0.4036 - val_loss: 0.4024\n",
      "Epoch 35/100\n",
      "7740/7740 [==============================] - 0s 48us/sample - loss: 0.4012 - val_loss: 0.3986\n",
      "Epoch 36/100\n",
      "7740/7740 [==============================] - 0s 46us/sample - loss: 0.3985 - val_loss: 0.3892\n",
      "Epoch 37/100\n",
      "7740/7740 [==============================] - 0s 46us/sample - loss: 0.3968 - val_loss: 0.3883\n",
      "Epoch 38/100\n",
      "7740/7740 [==============================] - 0s 47us/sample - loss: 0.3945 - val_loss: 0.3954\n",
      "Epoch 39/100\n",
      "7740/7740 [==============================] - 0s 49us/sample - loss: 0.3927 - val_loss: 0.3982\n",
      "Epoch 40/100\n",
      "7740/7740 [==============================] - 0s 49us/sample - loss: 0.3908 - val_loss: 0.3901\n",
      "Epoch 41/100\n",
      "7740/7740 [==============================] - 0s 49us/sample - loss: 0.3891 - val_loss: 0.3864\n",
      "Epoch 42/100\n",
      "7740/7740 [==============================] - 0s 49us/sample - loss: 0.3873 - val_loss: 0.3872\n",
      "Epoch 43/100\n",
      "7740/7740 [==============================] - 1s 72us/sample - loss: 0.3856 - val_loss: 0.3946\n",
      "Epoch 44/100\n",
      "7740/7740 [==============================] - 0s 54us/sample - loss: 0.3840 - val_loss: 0.3847\n",
      "Epoch 45/100\n",
      "7740/7740 [==============================] - 0s 63us/sample - loss: 0.3825 - val_loss: 0.3998\n",
      "Epoch 46/100\n",
      "7740/7740 [==============================] - 0s 55us/sample - loss: 0.3811 - val_loss: 0.3924\n",
      "Epoch 47/100\n",
      "7740/7740 [==============================] - 0s 50us/sample - loss: 0.3797 - val_loss: 0.4011\n",
      "Epoch 48/100\n",
      "7740/7740 [==============================] - 1s 65us/sample - loss: 0.3781 - val_loss: 0.3934\n",
      "Epoch 49/100\n",
      "7740/7740 [==============================] - 0s 49us/sample - loss: 0.3770 - val_loss: 0.3778\n",
      "Epoch 50/100\n",
      "7740/7740 [==============================] - 0s 63us/sample - loss: 0.3759 - val_loss: 0.3736\n",
      "Epoch 51/100\n",
      "7740/7740 [==============================] - 0s 48us/sample - loss: 0.3746 - val_loss: 0.3914\n",
      "Epoch 52/100\n",
      "7740/7740 [==============================] - 0s 46us/sample - loss: 0.3734 - val_loss: 0.3860\n",
      "Epoch 53/100\n",
      "7740/7740 [==============================] - 0s 47us/sample - loss: 0.3722 - val_loss: 0.3707\n",
      "Epoch 54/100\n",
      "7740/7740 [==============================] - 0s 49us/sample - loss: 0.3713 - val_loss: 0.3751\n",
      "Epoch 55/100\n"
     ]
    },
    {
     "name": "stdout",
     "output_type": "stream",
     "text": [
      "7740/7740 [==============================] - 0s 49us/sample - loss: 0.3700 - val_loss: 0.3698\n",
      "Epoch 56/100\n",
      "7740/7740 [==============================] - 0s 48us/sample - loss: 0.3691 - val_loss: 0.3854\n",
      "Epoch 57/100\n",
      "7740/7740 [==============================] - 0s 46us/sample - loss: 0.3682 - val_loss: 0.3874\n",
      "Epoch 58/100\n",
      "7740/7740 [==============================] - 0s 46us/sample - loss: 0.3670 - val_loss: 0.3942\n",
      "Epoch 59/100\n",
      "7740/7740 [==============================] - 0s 45us/sample - loss: 0.3663 - val_loss: 0.3821\n",
      "Epoch 60/100\n",
      "7740/7740 [==============================] - 0s 46us/sample - loss: 0.3654 - val_loss: 0.3882\n",
      "Epoch 61/100\n",
      "7740/7740 [==============================] - 0s 46us/sample - loss: 0.3644 - val_loss: 0.3779\n",
      "Epoch 62/100\n",
      "7740/7740 [==============================] - 0s 46us/sample - loss: 0.3634 - val_loss: 0.3693\n",
      "Epoch 63/100\n",
      "7740/7740 [==============================] - 0s 46us/sample - loss: 0.3628 - val_loss: 0.3734\n",
      "Epoch 64/100\n",
      "7740/7740 [==============================] - 0s 47us/sample - loss: 0.3619 - val_loss: 0.3695\n",
      "Epoch 65/100\n",
      "7740/7740 [==============================] - 0s 48us/sample - loss: 0.3610 - val_loss: 0.3745\n",
      "Epoch 66/100\n",
      "7740/7740 [==============================] - 0s 51us/sample - loss: 0.3603 - val_loss: 0.3764\n",
      "Epoch 67/100\n",
      "7740/7740 [==============================] - 0s 62us/sample - loss: 0.3596 - val_loss: 0.3654\n",
      "Epoch 68/100\n",
      "7740/7740 [==============================] - 1s 70us/sample - loss: 0.3588 - val_loss: 0.3681\n",
      "Epoch 69/100\n",
      "7740/7740 [==============================] - 1s 88us/sample - loss: 0.3579 - val_loss: 0.3829\n",
      "Epoch 70/100\n",
      "7740/7740 [==============================] - 1s 81us/sample - loss: 0.3574 - val_loss: 0.3662\n",
      "Epoch 71/100\n",
      "7740/7740 [==============================] - 1s 65us/sample - loss: 0.3565 - val_loss: 0.3689\n",
      "Epoch 72/100\n",
      "7740/7740 [==============================] - 0s 50us/sample - loss: 0.3560 - val_loss: 0.3616\n",
      "Epoch 73/100\n",
      "7740/7740 [==============================] - 0s 58us/sample - loss: 0.3553 - val_loss: 0.3783\n",
      "Epoch 74/100\n",
      "7740/7740 [==============================] - 0s 60us/sample - loss: 0.3544 - val_loss: 0.3938\n",
      "Epoch 75/100\n",
      "7740/7740 [==============================] - 0s 63us/sample - loss: 0.3541 - val_loss: 0.3822\n",
      "Epoch 76/100\n",
      "7740/7740 [==============================] - 0s 56us/sample - loss: 0.3535 - val_loss: 0.3626\n",
      "Epoch 77/100\n",
      "7740/7740 [==============================] - 0s 60us/sample - loss: 0.3528 - val_loss: 0.3579\n",
      "Epoch 78/100\n",
      "7740/7740 [==============================] - 0s 50us/sample - loss: 0.3520 - val_loss: 0.3700\n",
      "Epoch 79/100\n",
      "7740/7740 [==============================] - 0s 55us/sample - loss: 0.3515 - val_loss: 0.3780\n",
      "Epoch 80/100\n",
      "7740/7740 [==============================] - 0s 55us/sample - loss: 0.3509 - val_loss: 0.3747\n",
      "Epoch 81/100\n",
      "7740/7740 [==============================] - 0s 62us/sample - loss: 0.3504 - val_loss: 0.3704\n",
      "Epoch 82/100\n",
      "7740/7740 [==============================] - 0s 51us/sample - loss: 0.3499 - val_loss: 0.3727\n",
      "Epoch 83/100\n",
      "7740/7740 [==============================] - 0s 59us/sample - loss: 0.3493 - val_loss: 0.3852\n",
      "Epoch 84/100\n",
      "7740/7740 [==============================] - 0s 53us/sample - loss: 0.3488 - val_loss: 0.3726\n",
      "Epoch 85/100\n",
      "7740/7740 [==============================] - 0s 49us/sample - loss: 0.3482 - val_loss: 0.3575\n",
      "Epoch 86/100\n",
      "7740/7740 [==============================] - 0s 47us/sample - loss: 0.3476 - val_loss: 0.3785\n",
      "Epoch 87/100\n",
      "7740/7740 [==============================] - 0s 49us/sample - loss: 0.3469 - val_loss: 0.3832\n",
      "Epoch 88/100\n",
      "7740/7740 [==============================] - 0s 46us/sample - loss: 0.3468 - val_loss: 0.3625\n",
      "Epoch 89/100\n",
      "7740/7740 [==============================] - 0s 54us/sample - loss: 0.3462 - val_loss: 0.3652\n",
      "Epoch 90/100\n",
      "7740/7740 [==============================] - 0s 49us/sample - loss: 0.3456 - val_loss: 0.3666\n",
      "Epoch 91/100\n",
      "7740/7740 [==============================] - 0s 44us/sample - loss: 0.3453 - val_loss: 0.3603\n",
      "Epoch 92/100\n",
      "7740/7740 [==============================] - 0s 48us/sample - loss: 0.3447 - val_loss: 0.3770\n",
      "Epoch 93/100\n",
      "7740/7740 [==============================] - 1s 69us/sample - loss: 0.3443 - val_loss: 0.3721\n",
      "Epoch 94/100\n",
      "7740/7740 [==============================] - 0s 59us/sample - loss: 0.3439 - val_loss: 0.3569\n",
      "Epoch 95/100\n",
      "7740/7740 [==============================] - 0s 47us/sample - loss: 0.3432 - val_loss: 0.3556\n",
      "Epoch 96/100\n",
      "7740/7740 [==============================] - 0s 60us/sample - loss: 0.3429 - val_loss: 0.3712\n",
      "Epoch 97/100\n",
      "7740/7740 [==============================] - 0s 56us/sample - loss: 0.3426 - val_loss: 0.3563\n",
      "Epoch 98/100\n",
      "7740/7740 [==============================] - 0s 56us/sample - loss: 0.3420 - val_loss: 0.3756\n",
      "Epoch 99/100\n",
      "7740/7740 [==============================] - 0s 57us/sample - loss: 0.3413 - val_loss: 0.3725\n",
      "Epoch 100/100\n",
      "7740/7740 [==============================] - 0s 57us/sample - loss: 0.3413 - val_loss: 0.3547\n",
      "3870/3870 [==============================] - 0s 29us/sample - loss: 0.3647\n",
      "[CV]  learning_rate=0.0006154014789262348, n_hidden=2, n_neurons=87, total=  40.6s\n",
      "[CV] learning_rate=0.0006154014789262348, n_hidden=2, n_neurons=87 ...\n",
      "Train on 7740 samples, validate on 3870 samples\n",
      "Epoch 1/100\n",
      "7740/7740 [==============================] - 1s 81us/sample - loss: 2.7764 - val_loss: 17.7273\n",
      "Epoch 2/100\n",
      "7740/7740 [==============================] - 0s 56us/sample - loss: 1.1021 - val_loss: 14.8833\n",
      "Epoch 3/100\n",
      "7740/7740 [==============================] - 0s 54us/sample - loss: 0.8031 - val_loss: 10.7757\n",
      "Epoch 4/100\n",
      "7740/7740 [==============================] - 0s 49us/sample - loss: 0.7045 - val_loss: 7.9756\n",
      "Epoch 5/100\n",
      "7740/7740 [==============================] - 0s 49us/sample - loss: 0.6578 - val_loss: 6.0529\n",
      "Epoch 6/100\n",
      "7740/7740 [==============================] - 0s 50us/sample - loss: 0.6260 - val_loss: 4.7215\n",
      "Epoch 7/100\n",
      "7740/7740 [==============================] - 0s 52us/sample - loss: 0.6005 - val_loss: 3.5591\n",
      "Epoch 8/100\n",
      "7740/7740 [==============================] - 1s 79us/sample - loss: 0.5789 - val_loss: 2.8484\n",
      "Epoch 9/100\n",
      "7740/7740 [==============================] - 0s 50us/sample - loss: 0.5598 - val_loss: 2.1834\n",
      "Epoch 10/100\n",
      "7740/7740 [==============================] - 0s 50us/sample - loss: 0.5433 - val_loss: 1.8093\n",
      "Epoch 11/100\n",
      "7740/7740 [==============================] - 0s 49us/sample - loss: 0.5284 - val_loss: 1.4123\n",
      "Epoch 12/100\n",
      "7740/7740 [==============================] - 0s 50us/sample - loss: 0.5151 - val_loss: 1.1408\n",
      "Epoch 13/100\n",
      "7740/7740 [==============================] - 0s 48us/sample - loss: 0.5037 - val_loss: 0.9795\n",
      "Epoch 14/100\n",
      "7740/7740 [==============================] - 0s 50us/sample - loss: 0.4931 - val_loss: 0.8257\n",
      "Epoch 15/100\n",
      "7740/7740 [==============================] - 0s 49us/sample - loss: 0.4838 - val_loss: 0.7039\n",
      "Epoch 16/100\n",
      "7740/7740 [==============================] - 0s 47us/sample - loss: 0.4755 - val_loss: 0.6402\n",
      "Epoch 17/100\n",
      "7740/7740 [==============================] - 0s 48us/sample - loss: 0.4679 - val_loss: 0.5641\n",
      "Epoch 18/100\n",
      "7740/7740 [==============================] - 0s 47us/sample - loss: 0.4611 - val_loss: 0.5326\n",
      "Epoch 19/100\n",
      "7740/7740 [==============================] - 0s 48us/sample - loss: 0.4550 - val_loss: 0.4901\n",
      "Epoch 20/100\n",
      "7740/7740 [==============================] - 0s 48us/sample - loss: 0.4492 - val_loss: 0.4640\n",
      "Epoch 21/100\n",
      "7740/7740 [==============================] - 0s 46us/sample - loss: 0.4443 - val_loss: 0.4593\n",
      "Epoch 22/100\n",
      "7740/7740 [==============================] - 0s 49us/sample - loss: 0.4396 - val_loss: 0.4449\n",
      "Epoch 23/100\n",
      "7740/7740 [==============================] - 0s 52us/sample - loss: 0.4353 - val_loss: 0.4364\n",
      "Epoch 24/100\n",
      "7740/7740 [==============================] - 0s 51us/sample - loss: 0.4313 - val_loss: 0.4345\n",
      "Epoch 25/100\n",
      "7740/7740 [==============================] - 0s 50us/sample - loss: 0.4276 - val_loss: 0.4275\n",
      "Epoch 26/100\n",
      "7740/7740 [==============================] - 0s 47us/sample - loss: 0.4240 - val_loss: 0.4316\n",
      "Epoch 27/100\n",
      "7740/7740 [==============================] - 0s 44us/sample - loss: 0.4209 - val_loss: 0.4256\n",
      "Epoch 28/100\n",
      "7740/7740 [==============================] - 0s 44us/sample - loss: 0.4180 - val_loss: 0.4302\n",
      "Epoch 29/100\n",
      "7740/7740 [==============================] - 0s 47us/sample - loss: 0.4152 - val_loss: 0.4260\n",
      "Epoch 30/100\n",
      "7740/7740 [==============================] - 0s 50us/sample - loss: 0.4125 - val_loss: 0.4350\n",
      "Epoch 31/100\n",
      "7740/7740 [==============================] - 0s 47us/sample - loss: 0.4099 - val_loss: 0.4413\n",
      "Epoch 32/100\n",
      "7740/7740 [==============================] - 0s 47us/sample - loss: 0.4076 - val_loss: 0.4439\n",
      "Epoch 33/100\n",
      "7740/7740 [==============================] - 0s 53us/sample - loss: 0.4052 - val_loss: 0.4513\n",
      "Epoch 34/100\n",
      "7740/7740 [==============================] - 1s 84us/sample - loss: 0.4029 - val_loss: 0.4671\n",
      "Epoch 35/100\n",
      "7740/7740 [==============================] - 1s 77us/sample - loss: 0.4010 - val_loss: 0.4686\n",
      "Epoch 36/100\n",
      "7740/7740 [==============================] - 1s 68us/sample - loss: 0.3988 - val_loss: 0.4745\n",
      "Epoch 37/100\n",
      "7740/7740 [==============================] - 1s 75us/sample - loss: 0.3971 - val_loss: 0.4899\n",
      "3870/3870 [==============================] - 0s 20us/sample - loss: 0.4098\n",
      "[CV]  learning_rate=0.0006154014789262348, n_hidden=2, n_neurons=87, total=  15.6s\n",
      "[CV] learning_rate=0.0006154014789262348, n_hidden=2, n_neurons=87 ...\n",
      "Train on 7740 samples, validate on 3870 samples\n",
      "Epoch 1/100\n",
      "7740/7740 [==============================] - 1s 77us/sample - loss: 2.8244 - val_loss: 4.9928\n",
      "Epoch 2/100\n",
      "7740/7740 [==============================] - 1s 66us/sample - loss: 1.1397 - val_loss: 1.1758\n",
      "Epoch 3/100\n",
      "7740/7740 [==============================] - 1s 65us/sample - loss: 0.8399 - val_loss: 0.8181\n",
      "Epoch 4/100\n",
      "7740/7740 [==============================] - 0s 49us/sample - loss: 0.7621 - val_loss: 0.7366\n",
      "Epoch 5/100\n",
      "7740/7740 [==============================] - 0s 46us/sample - loss: 0.7220 - val_loss: 0.6865\n",
      "Epoch 6/100\n",
      "7740/7740 [==============================] - 0s 48us/sample - loss: 0.6927 - val_loss: 0.6574\n",
      "Epoch 7/100\n",
      "7740/7740 [==============================] - 0s 46us/sample - loss: 0.6684 - val_loss: 0.6344\n",
      "Epoch 8/100\n",
      "7740/7740 [==============================] - 0s 48us/sample - loss: 0.6467 - val_loss: 0.6140\n",
      "Epoch 9/100\n",
      "7740/7740 [==============================] - 0s 48us/sample - loss: 0.6270 - val_loss: 0.5933\n",
      "Epoch 10/100\n",
      "7740/7740 [==============================] - 0s 51us/sample - loss: 0.6087 - val_loss: 0.5820\n",
      "Epoch 11/100\n",
      "7740/7740 [==============================] - 0s 51us/sample - loss: 0.5914 - val_loss: 0.5628\n",
      "Epoch 12/100\n",
      "7740/7740 [==============================] - 0s 50us/sample - loss: 0.5756 - val_loss: 0.5565\n",
      "Epoch 13/100\n",
      "7740/7740 [==============================] - 0s 42us/sample - loss: 0.5606 - val_loss: 0.5512\n",
      "Epoch 14/100\n",
      "7740/7740 [==============================] - 0s 48us/sample - loss: 0.5470 - val_loss: 0.5477\n",
      "Epoch 15/100\n",
      "7740/7740 [==============================] - 0s 44us/sample - loss: 0.5345 - val_loss: 0.5238\n",
      "Epoch 16/100\n",
      "7740/7740 [==============================] - 0s 46us/sample - loss: 0.5229 - val_loss: 0.5164\n",
      "Epoch 17/100\n",
      "7740/7740 [==============================] - 0s 47us/sample - loss: 0.5122 - val_loss: 0.4974\n",
      "Epoch 18/100\n",
      "7740/7740 [==============================] - 0s 46us/sample - loss: 0.5021 - val_loss: 0.4972\n",
      "Epoch 19/100\n",
      "7740/7740 [==============================] - 0s 46us/sample - loss: 0.4932 - val_loss: 0.4757\n",
      "Epoch 20/100\n",
      "7740/7740 [==============================] - 0s 44us/sample - loss: 0.4848 - val_loss: 0.4819\n",
      "Epoch 21/100\n",
      "7740/7740 [==============================] - 0s 43us/sample - loss: 0.4772 - val_loss: 0.4767\n",
      "Epoch 22/100\n",
      "7740/7740 [==============================] - 0s 50us/sample - loss: 0.4702 - val_loss: 0.4618\n",
      "Epoch 23/100\n",
      "7740/7740 [==============================] - 0s 48us/sample - loss: 0.4636 - val_loss: 0.4468\n",
      "Epoch 24/100\n",
      "7740/7740 [==============================] - 0s 50us/sample - loss: 0.4577 - val_loss: 0.4685\n",
      "Epoch 25/100\n",
      "7740/7740 [==============================] - 1s 77us/sample - loss: 0.4521 - val_loss: 0.4504\n",
      "Epoch 26/100\n",
      "7740/7740 [==============================] - 0s 64us/sample - loss: 0.4470 - val_loss: 0.4555\n",
      "Epoch 27/100\n",
      "7740/7740 [==============================] - 0s 61us/sample - loss: 0.4423 - val_loss: 0.4597\n",
      "Epoch 28/100\n",
      "7740/7740 [==============================] - 0s 53us/sample - loss: 0.4379 - val_loss: 0.4511\n",
      "Epoch 29/100\n",
      "7740/7740 [==============================] - 0s 49us/sample - loss: 0.4338 - val_loss: 0.4288\n",
      "Epoch 30/100\n",
      "7740/7740 [==============================] - 0s 46us/sample - loss: 0.4300 - val_loss: 0.4415\n",
      "Epoch 31/100\n",
      "7740/7740 [==============================] - 0s 47us/sample - loss: 0.4265 - val_loss: 0.4289\n",
      "Epoch 32/100\n",
      "7740/7740 [==============================] - 0s 47us/sample - loss: 0.4233 - val_loss: 0.4365\n",
      "Epoch 33/100\n",
      "7740/7740 [==============================] - 0s 65us/sample - loss: 0.4202 - val_loss: 0.4348\n",
      "Epoch 34/100\n",
      "7740/7740 [==============================] - 0s 49us/sample - loss: 0.4172 - val_loss: 0.4616\n",
      "Epoch 35/100\n",
      "7740/7740 [==============================] - 0s 51us/sample - loss: 0.4149 - val_loss: 0.4292\n",
      "Epoch 36/100\n",
      "7740/7740 [==============================] - 0s 47us/sample - loss: 0.4123 - val_loss: 0.4169\n",
      "Epoch 37/100\n",
      "7740/7740 [==============================] - 0s 62us/sample - loss: 0.4099 - val_loss: 0.4306\n",
      "Epoch 38/100\n",
      "7740/7740 [==============================] - 0s 50us/sample - loss: 0.4079 - val_loss: 0.4425\n",
      "Epoch 39/100\n",
      "7740/7740 [==============================] - 0s 56us/sample - loss: 0.4057 - val_loss: 0.4601\n",
      "Epoch 40/100\n",
      "7740/7740 [==============================] - 0s 49us/sample - loss: 0.4039 - val_loss: 0.4113\n",
      "Epoch 41/100\n",
      "7740/7740 [==============================] - 0s 51us/sample - loss: 0.4019 - val_loss: 0.4174\n",
      "Epoch 42/100\n",
      "7740/7740 [==============================] - 0s 62us/sample - loss: 0.4000 - val_loss: 0.4290\n",
      "Epoch 43/100\n",
      "7740/7740 [==============================] - 0s 49us/sample - loss: 0.3983 - val_loss: 0.4090\n",
      "Epoch 44/100\n",
      "7740/7740 [==============================] - 0s 61us/sample - loss: 0.3965 - val_loss: 0.4463\n",
      "Epoch 45/100\n",
      "7740/7740 [==============================] - 1s 76us/sample - loss: 0.3951 - val_loss: 0.4082\n",
      "Epoch 46/100\n",
      "7740/7740 [==============================] - 0s 61us/sample - loss: 0.3935 - val_loss: 0.4151\n",
      "Epoch 47/100\n",
      "7740/7740 [==============================] - 0s 62us/sample - loss: 0.3921 - val_loss: 0.4175\n",
      "Epoch 48/100\n",
      "7740/7740 [==============================] - 0s 59us/sample - loss: 0.3909 - val_loss: 0.4151\n",
      "Epoch 49/100\n",
      "7740/7740 [==============================] - 1s 67us/sample - loss: 0.3895 - val_loss: 0.4195\n",
      "Epoch 50/100\n",
      "7740/7740 [==============================] - 0s 58us/sample - loss: 0.3883 - val_loss: 0.3947\n",
      "Epoch 51/100\n",
      "7740/7740 [==============================] - 1s 80us/sample - loss: 0.3870 - val_loss: 0.3989\n",
      "Epoch 52/100\n",
      "7740/7740 [==============================] - 0s 50us/sample - loss: 0.3860 - val_loss: 0.3990\n",
      "Epoch 53/100\n",
      "7740/7740 [==============================] - 0s 53us/sample - loss: 0.3849 - val_loss: 0.3995\n",
      "Epoch 54/100\n",
      "7740/7740 [==============================] - 0s 55us/sample - loss: 0.3837 - val_loss: 0.3998\n",
      "Epoch 55/100\n",
      "7740/7740 [==============================] - 0s 49us/sample - loss: 0.3826 - val_loss: 0.4360\n",
      "Epoch 56/100\n",
      "7740/7740 [==============================] - 0s 50us/sample - loss: 0.3817 - val_loss: 0.4396\n",
      "Epoch 57/100\n",
      "7740/7740 [==============================] - 0s 64us/sample - loss: 0.3807 - val_loss: 0.4018\n",
      "Epoch 58/100\n",
      "7740/7740 [==============================] - 0s 53us/sample - loss: 0.3797 - val_loss: 0.4392\n",
      "Epoch 59/100\n",
      "7740/7740 [==============================] - 0s 52us/sample - loss: 0.3789 - val_loss: 0.4291\n",
      "Epoch 60/100\n",
      "7740/7740 [==============================] - 0s 55us/sample - loss: 0.3781 - val_loss: 0.4254\n",
      "3870/3870 [==============================] - 0s 25us/sample - loss: 0.3767\n",
      "[CV]  learning_rate=0.0006154014789262348, n_hidden=2, n_neurons=87, total=  25.3s\n",
      "[CV] learning_rate=0.0003920021771415983, n_hidden=3, n_neurons=24 ...\n",
      "Train on 7740 samples, validate on 3870 samples\n",
      "Epoch 1/100\n",
      "7740/7740 [==============================] - 1s 88us/sample - loss: 2.3872 - val_loss: 13.9258\n",
      "Epoch 2/100\n",
      "7740/7740 [==============================] - 1s 71us/sample - loss: 1.2068 - val_loss: 6.0674\n",
      "Epoch 3/100\n"
     ]
    },
    {
     "name": "stdout",
     "output_type": "stream",
     "text": [
      "7740/7740 [==============================] - 1s 69us/sample - loss: 0.8942 - val_loss: 4.2789\n",
      "Epoch 4/100\n",
      "7740/7740 [==============================] - 0s 54us/sample - loss: 0.8105 - val_loss: 3.3544\n",
      "Epoch 5/100\n",
      "7740/7740 [==============================] - 0s 46us/sample - loss: 0.7686 - val_loss: 2.6742\n",
      "Epoch 6/100\n",
      "7740/7740 [==============================] - 0s 46us/sample - loss: 0.7406 - val_loss: 2.2971\n",
      "Epoch 7/100\n",
      "7740/7740 [==============================] - 0s 46us/sample - loss: 0.7187 - val_loss: 2.0216\n",
      "Epoch 8/100\n",
      "7740/7740 [==============================] - 0s 51us/sample - loss: 0.7000 - val_loss: 1.7849\n",
      "Epoch 9/100\n",
      "7740/7740 [==============================] - 0s 44us/sample - loss: 0.6825 - val_loss: 1.5810\n",
      "Epoch 10/100\n",
      "7740/7740 [==============================] - 0s 50us/sample - loss: 0.6676 - val_loss: 1.4502\n",
      "Epoch 11/100\n",
      "7740/7740 [==============================] - 0s 48us/sample - loss: 0.6530 - val_loss: 1.3239\n",
      "Epoch 12/100\n",
      "7740/7740 [==============================] - 0s 46us/sample - loss: 0.6398 - val_loss: 1.2281\n",
      "Epoch 13/100\n",
      "7740/7740 [==============================] - 0s 44us/sample - loss: 0.6268 - val_loss: 1.1328\n",
      "Epoch 14/100\n",
      "7740/7740 [==============================] - 0s 49us/sample - loss: 0.6144 - val_loss: 1.0549\n",
      "Epoch 15/100\n",
      "7740/7740 [==============================] - 0s 47us/sample - loss: 0.6030 - val_loss: 0.9907\n",
      "Epoch 16/100\n",
      "7740/7740 [==============================] - 0s 50us/sample - loss: 0.5915 - val_loss: 0.9391\n",
      "Epoch 17/100\n",
      "7740/7740 [==============================] - 0s 63us/sample - loss: 0.5809 - val_loss: 0.8841\n",
      "Epoch 18/100\n",
      "7740/7740 [==============================] - 0s 63us/sample - loss: 0.5706 - val_loss: 0.8441\n",
      "Epoch 19/100\n",
      "7740/7740 [==============================] - 1s 72us/sample - loss: 0.5607 - val_loss: 0.8049\n",
      "Epoch 20/100\n",
      "7740/7740 [==============================] - 1s 68us/sample - loss: 0.5511 - val_loss: 0.7653\n",
      "Epoch 21/100\n",
      "7740/7740 [==============================] - 0s 55us/sample - loss: 0.5420 - val_loss: 0.7430\n",
      "Epoch 22/100\n",
      "7740/7740 [==============================] - 0s 53us/sample - loss: 0.5336 - val_loss: 0.7090\n",
      "Epoch 23/100\n",
      "7740/7740 [==============================] - 0s 49us/sample - loss: 0.5251 - val_loss: 0.6863\n",
      "Epoch 24/100\n",
      "7740/7740 [==============================] - 0s 54us/sample - loss: 0.5170 - val_loss: 0.6606\n",
      "Epoch 25/100\n",
      "7740/7740 [==============================] - 0s 47us/sample - loss: 0.5093 - val_loss: 0.6392\n",
      "Epoch 26/100\n",
      "7740/7740 [==============================] - 0s 49us/sample - loss: 0.5021 - val_loss: 0.6219\n",
      "Epoch 27/100\n",
      "7740/7740 [==============================] - 0s 47us/sample - loss: 0.4951 - val_loss: 0.6045\n",
      "Epoch 28/100\n",
      "7740/7740 [==============================] - 0s 46us/sample - loss: 0.4886 - val_loss: 0.5937\n",
      "Epoch 29/100\n",
      "7740/7740 [==============================] - 0s 46us/sample - loss: 0.4824 - val_loss: 0.5804\n",
      "Epoch 30/100\n",
      "7740/7740 [==============================] - 0s 46us/sample - loss: 0.4765 - val_loss: 0.5690\n",
      "Epoch 31/100\n",
      "7740/7740 [==============================] - 0s 46us/sample - loss: 0.4709 - val_loss: 0.5579\n",
      "Epoch 32/100\n",
      "7740/7740 [==============================] - 0s 47us/sample - loss: 0.4656 - val_loss: 0.5460\n",
      "Epoch 33/100\n",
      "7740/7740 [==============================] - 0s 47us/sample - loss: 0.4606 - val_loss: 0.5374\n",
      "Epoch 34/100\n",
      "7740/7740 [==============================] - 0s 45us/sample - loss: 0.4559 - val_loss: 0.5302\n",
      "Epoch 35/100\n",
      "7740/7740 [==============================] - 0s 44us/sample - loss: 0.4515 - val_loss: 0.5217\n",
      "Epoch 36/100\n",
      "7740/7740 [==============================] - 0s 46us/sample - loss: 0.4469 - val_loss: 0.5129\n",
      "Epoch 37/100\n",
      "7740/7740 [==============================] - 0s 44us/sample - loss: 0.4435 - val_loss: 0.5092\n",
      "Epoch 38/100\n",
      "7740/7740 [==============================] - 0s 47us/sample - loss: 0.4397 - val_loss: 0.5048\n",
      "Epoch 39/100\n",
      "7740/7740 [==============================] - 0s 47us/sample - loss: 0.4362 - val_loss: 0.4998\n",
      "Epoch 40/100\n",
      "7740/7740 [==============================] - 0s 45us/sample - loss: 0.4330 - val_loss: 0.4964\n",
      "Epoch 41/100\n",
      "7740/7740 [==============================] - 0s 47us/sample - loss: 0.4301 - val_loss: 0.4919\n",
      "Epoch 42/100\n",
      "7740/7740 [==============================] - 0s 46us/sample - loss: 0.4271 - val_loss: 0.4881\n",
      "Epoch 43/100\n",
      "7740/7740 [==============================] - 0s 45us/sample - loss: 0.4243 - val_loss: 0.4855\n",
      "Epoch 44/100\n",
      "7740/7740 [==============================] - ETA: 0s - loss: 0.423 - 0s 46us/sample - loss: 0.4217 - val_loss: 0.4819\n",
      "Epoch 45/100\n",
      "7740/7740 [==============================] - 0s 47us/sample - loss: 0.4193 - val_loss: 0.4816\n",
      "Epoch 46/100\n",
      "7740/7740 [==============================] - 0s 47us/sample - loss: 0.4171 - val_loss: 0.4787\n",
      "Epoch 47/100\n",
      "7740/7740 [==============================] - 0s 46us/sample - loss: 0.4147 - val_loss: 0.4792\n",
      "Epoch 48/100\n",
      "7740/7740 [==============================] - 0s 46us/sample - loss: 0.4126 - val_loss: 0.4752\n",
      "Epoch 49/100\n",
      "7740/7740 [==============================] - 0s 46us/sample - loss: 0.4105 - val_loss: 0.4720\n",
      "Epoch 50/100\n",
      "7740/7740 [==============================] - 0s 46us/sample - loss: 0.4088 - val_loss: 0.4707\n",
      "Epoch 51/100\n",
      "7740/7740 [==============================] - 0s 49us/sample - loss: 0.4071 - val_loss: 0.4716\n",
      "Epoch 52/100\n",
      "7740/7740 [==============================] - 0s 51us/sample - loss: 0.4053 - val_loss: 0.4717\n",
      "Epoch 53/100\n",
      "7740/7740 [==============================] - 0s 48us/sample - loss: 0.4037 - val_loss: 0.4692\n",
      "Epoch 54/100\n",
      "7740/7740 [==============================] - 0s 48us/sample - loss: 0.4022 - val_loss: 0.4693\n",
      "Epoch 55/100\n",
      "7740/7740 [==============================] - 0s 58us/sample - loss: 0.4005 - val_loss: 0.4673\n",
      "Epoch 56/100\n",
      "7740/7740 [==============================] - 0s 52us/sample - loss: 0.3993 - val_loss: 0.4693\n",
      "Epoch 57/100\n",
      "7740/7740 [==============================] - 0s 48us/sample - loss: 0.3979 - val_loss: 0.4681\n",
      "Epoch 58/100\n",
      "7740/7740 [==============================] - 0s 49us/sample - loss: 0.3964 - val_loss: 0.4700\n",
      "Epoch 59/100\n",
      "7740/7740 [==============================] - 0s 58us/sample - loss: 0.3953 - val_loss: 0.4698\n",
      "Epoch 60/100\n",
      "7740/7740 [==============================] - 0s 64us/sample - loss: 0.3941 - val_loss: 0.4687\n",
      "Epoch 61/100\n",
      "7740/7740 [==============================] - 0s 52us/sample - loss: 0.3928 - val_loss: 0.4699\n",
      "Epoch 62/100\n",
      "7740/7740 [==============================] - 0s 45us/sample - loss: 0.3915 - val_loss: 0.4665\n",
      "Epoch 63/100\n",
      "7740/7740 [==============================] - 0s 51us/sample - loss: 0.3908 - val_loss: 0.4677\n",
      "Epoch 64/100\n",
      "7740/7740 [==============================] - 0s 54us/sample - loss: 0.3896 - val_loss: 0.4700\n",
      "Epoch 65/100\n",
      "7740/7740 [==============================] - 0s 56us/sample - loss: 0.3887 - val_loss: 0.4674\n",
      "Epoch 66/100\n",
      "7740/7740 [==============================] - 0s 47us/sample - loss: 0.3878 - val_loss: 0.4681\n",
      "Epoch 67/100\n",
      "7740/7740 [==============================] - 0s 56us/sample - loss: 0.3868 - val_loss: 0.4682\n",
      "Epoch 68/100\n",
      "7740/7740 [==============================] - 0s 51us/sample - loss: 0.3859 - val_loss: 0.4698\n",
      "Epoch 69/100\n",
      "7740/7740 [==============================] - 0s 48us/sample - loss: 0.3850 - val_loss: 0.4696\n",
      "Epoch 70/100\n",
      "7740/7740 [==============================] - 0s 54us/sample - loss: 0.3842 - val_loss: 0.4680\n",
      "Epoch 71/100\n",
      "7740/7740 [==============================] - 0s 46us/sample - loss: 0.3832 - val_loss: 0.4710\n",
      "Epoch 72/100\n",
      "7740/7740 [==============================] - 0s 46us/sample - loss: 0.3826 - val_loss: 0.4682\n",
      "3870/3870 [==============================] - 0s 21us/sample - loss: 0.3982\n",
      "[CV]  learning_rate=0.0003920021771415983, n_hidden=3, n_neurons=24, total=  28.6s\n",
      "[CV] learning_rate=0.0003920021771415983, n_hidden=3, n_neurons=24 ...\n",
      "Train on 7740 samples, validate on 3870 samples\n",
      "Epoch 1/100\n",
      "7740/7740 [==============================] - 1s 70us/sample - loss: 3.7649 - val_loss: 27.7302\n",
      "Epoch 2/100\n",
      "7740/7740 [==============================] - 0s 44us/sample - loss: 2.0518 - val_loss: 41.6834\n",
      "Epoch 3/100\n",
      "7740/7740 [==============================] - 0s 46us/sample - loss: 1.6095 - val_loss: 36.3809\n",
      "Epoch 4/100\n",
      "7740/7740 [==============================] - 0s 46us/sample - loss: 1.3573 - val_loss: 27.7242\n"
     ]
    },
    {
     "name": "stdout",
     "output_type": "stream",
     "text": [
      "Epoch 5/100\n",
      "7740/7740 [==============================] - 0s 44us/sample - loss: 1.1658 - val_loss: 20.2997\n",
      "Epoch 6/100\n",
      "7740/7740 [==============================] - 0s 52us/sample - loss: 1.0236 - val_loss: 14.4998\n",
      "Epoch 7/100\n",
      "7740/7740 [==============================] - 0s 50us/sample - loss: 0.9247 - val_loss: 10.3206\n",
      "Epoch 8/100\n",
      "7740/7740 [==============================] - 0s 47us/sample - loss: 0.8582 - val_loss: 7.2174\n",
      "Epoch 9/100\n",
      "7740/7740 [==============================] - 0s 47us/sample - loss: 0.8127 - val_loss: 5.0609\n",
      "Epoch 10/100\n",
      "7740/7740 [==============================] - 0s 43us/sample - loss: 0.7805 - val_loss: 3.8504\n",
      "Epoch 11/100\n",
      "7740/7740 [==============================] - 0s 43us/sample - loss: 0.7553 - val_loss: 2.6823\n",
      "Epoch 12/100\n",
      "7740/7740 [==============================] - 0s 50us/sample - loss: 0.7345 - val_loss: 1.9608\n",
      "Epoch 13/100\n",
      "7740/7740 [==============================] - 0s 55us/sample - loss: 0.7165 - val_loss: 1.5395\n",
      "Epoch 14/100\n",
      "7740/7740 [==============================] - 0s 57us/sample - loss: 0.7000 - val_loss: 1.1988\n",
      "Epoch 15/100\n",
      "7740/7740 [==============================] - 0s 62us/sample - loss: 0.6849 - val_loss: 0.9615\n",
      "Epoch 16/100\n",
      "7740/7740 [==============================] - 0s 49us/sample - loss: 0.6712 - val_loss: 0.8662\n",
      "Epoch 17/100\n",
      "7740/7740 [==============================] - 0s 47us/sample - loss: 0.6581 - val_loss: 0.7126\n",
      "Epoch 18/100\n",
      "7740/7740 [==============================] - 0s 49us/sample - loss: 0.6455 - val_loss: 0.6655\n",
      "Epoch 19/100\n",
      "7740/7740 [==============================] - 0s 48us/sample - loss: 0.6340 - val_loss: 0.5995\n",
      "Epoch 20/100\n",
      "7740/7740 [==============================] - 0s 46us/sample - loss: 0.6223 - val_loss: 0.5767\n",
      "Epoch 21/100\n",
      "7740/7740 [==============================] - 0s 49us/sample - loss: 0.6115 - val_loss: 0.5779\n",
      "Epoch 22/100\n",
      "7740/7740 [==============================] - 0s 48us/sample - loss: 0.6009 - val_loss: 0.6051\n",
      "Epoch 23/100\n",
      "7740/7740 [==============================] - 0s 50us/sample - loss: 0.5909 - val_loss: 0.6417\n",
      "Epoch 24/100\n",
      "7740/7740 [==============================] - 0s 46us/sample - loss: 0.5814 - val_loss: 0.6742\n",
      "Epoch 25/100\n",
      "7740/7740 [==============================] - 0s 43us/sample - loss: 0.5723 - val_loss: 0.7591\n",
      "Epoch 26/100\n",
      "7740/7740 [==============================] - 0s 48us/sample - loss: 0.5635 - val_loss: 0.7764\n",
      "Epoch 27/100\n",
      "7740/7740 [==============================] - 0s 47us/sample - loss: 0.5552 - val_loss: 0.8860\n",
      "Epoch 28/100\n",
      "7740/7740 [==============================] - 0s 47us/sample - loss: 0.5474 - val_loss: 0.9032\n",
      "Epoch 29/100\n",
      "7740/7740 [==============================] - 0s 44us/sample - loss: 0.5401 - val_loss: 0.9833\n",
      "Epoch 30/100\n",
      "7740/7740 [==============================] - 0s 45us/sample - loss: 0.5329 - val_loss: 0.9995\n",
      "3870/3870 [==============================] - 0s 20us/sample - loss: 0.5486\n",
      "[CV]  learning_rate=0.0003920021771415983, n_hidden=3, n_neurons=24, total=  11.5s\n",
      "[CV] learning_rate=0.0003920021771415983, n_hidden=3, n_neurons=24 ...\n",
      "Train on 7740 samples, validate on 3870 samples\n",
      "Epoch 1/100\n",
      "7740/7740 [==============================] - 1s 73us/sample - loss: 2.9070 - val_loss: 5.0329\n",
      "Epoch 2/100\n",
      "7740/7740 [==============================] - 0s 44us/sample - loss: 1.2882 - val_loss: 3.1420\n",
      "Epoch 3/100\n",
      "7740/7740 [==============================] - 0s 44us/sample - loss: 0.9742 - val_loss: 1.9384\n",
      "Epoch 4/100\n",
      "7740/7740 [==============================] - 0s 43us/sample - loss: 0.8517 - val_loss: 1.3691\n",
      "Epoch 5/100\n",
      "7740/7740 [==============================] - 0s 43us/sample - loss: 0.7864 - val_loss: 0.9828\n",
      "Epoch 6/100\n",
      "7740/7740 [==============================] - 0s 46us/sample - loss: 0.7436 - val_loss: 0.7970\n",
      "Epoch 7/100\n",
      "7740/7740 [==============================] - 0s 43us/sample - loss: 0.7132 - val_loss: 0.7109\n",
      "Epoch 8/100\n",
      "7740/7740 [==============================] - 0s 45us/sample - loss: 0.6891 - val_loss: 0.6661\n",
      "Epoch 9/100\n",
      "7740/7740 [==============================] - 0s 46us/sample - loss: 0.6690 - val_loss: 0.6342\n",
      "Epoch 10/100\n",
      "7740/7740 [==============================] - 0s 42us/sample - loss: 0.6512 - val_loss: 0.6156\n",
      "Epoch 11/100\n",
      "7740/7740 [==============================] - 0s 46us/sample - loss: 0.6353 - val_loss: 0.5987\n",
      "Epoch 12/100\n",
      "7740/7740 [==============================] - 0s 42us/sample - loss: 0.6208 - val_loss: 0.5851\n",
      "Epoch 13/100\n",
      "7740/7740 [==============================] - 0s 44us/sample - loss: 0.6073 - val_loss: 0.5730\n",
      "Epoch 14/100\n",
      "7740/7740 [==============================] - 0s 45us/sample - loss: 0.5951 - val_loss: 0.5607\n",
      "Epoch 15/100\n",
      "7740/7740 [==============================] - 0s 46us/sample - loss: 0.5836 - val_loss: 0.5494\n",
      "Epoch 16/100\n",
      "7740/7740 [==============================] - 0s 48us/sample - loss: 0.5731 - val_loss: 0.5391\n",
      "Epoch 17/100\n",
      "7740/7740 [==============================] - 0s 46us/sample - loss: 0.5633 - val_loss: 0.5295\n",
      "Epoch 18/100\n",
      "7740/7740 [==============================] - 1s 69us/sample - loss: 0.5540 - val_loss: 0.5217\n",
      "Epoch 19/100\n",
      "7740/7740 [==============================] - 0s 49us/sample - loss: 0.5454 - val_loss: 0.5125\n",
      "Epoch 20/100\n",
      "7740/7740 [==============================] - 0s 61us/sample - loss: 0.5374 - val_loss: 0.5055\n",
      "Epoch 21/100\n",
      "7740/7740 [==============================] - 0s 50us/sample - loss: 0.5299 - val_loss: 0.4995\n",
      "Epoch 22/100\n",
      "7740/7740 [==============================] - 0s 49us/sample - loss: 0.5229 - val_loss: 0.4932\n",
      "Epoch 23/100\n",
      "7740/7740 [==============================] - 0s 51us/sample - loss: 0.5162 - val_loss: 0.4861\n",
      "Epoch 24/100\n",
      "7740/7740 [==============================] - 0s 49us/sample - loss: 0.5101 - val_loss: 0.4830\n",
      "Epoch 25/100\n",
      "7740/7740 [==============================] - 0s 51us/sample - loss: 0.5044 - val_loss: 0.4772\n",
      "Epoch 26/100\n",
      "7740/7740 [==============================] - 0s 55us/sample - loss: 0.4990 - val_loss: 0.4746\n",
      "Epoch 27/100\n",
      "7740/7740 [==============================] - 0s 53us/sample - loss: 0.4940 - val_loss: 0.4719\n",
      "Epoch 28/100\n",
      "7740/7740 [==============================] - 0s 44us/sample - loss: 0.4892 - val_loss: 0.4687\n",
      "Epoch 29/100\n",
      "7740/7740 [==============================] - 0s 45us/sample - loss: 0.4848 - val_loss: 0.4641\n",
      "Epoch 30/100\n",
      "7740/7740 [==============================] - 0s 43us/sample - loss: 0.4805 - val_loss: 0.4613\n",
      "Epoch 31/100\n",
      "7740/7740 [==============================] - 0s 45us/sample - loss: 0.4766 - val_loss: 0.4599\n",
      "Epoch 32/100\n",
      "7740/7740 [==============================] - 0s 51us/sample - loss: 0.4729 - val_loss: 0.4561\n",
      "Epoch 33/100\n",
      "7740/7740 [==============================] - 0s 51us/sample - loss: 0.4694 - val_loss: 0.4555\n",
      "Epoch 34/100\n",
      "7740/7740 [==============================] - 0s 50us/sample - loss: 0.4660 - val_loss: 0.4585\n",
      "Epoch 35/100\n",
      "7740/7740 [==============================] - 0s 49us/sample - loss: 0.4630 - val_loss: 0.4545\n",
      "Epoch 36/100\n",
      "7740/7740 [==============================] - 0s 58us/sample - loss: 0.4600 - val_loss: 0.4519\n",
      "Epoch 37/100\n",
      "7740/7740 [==============================] - 0s 56us/sample - loss: 0.4573 - val_loss: 0.4524\n",
      "Epoch 38/100\n",
      "7740/7740 [==============================] - 0s 56us/sample - loss: 0.4547 - val_loss: 0.4560\n",
      "Epoch 39/100\n",
      "7740/7740 [==============================] - 0s 49us/sample - loss: 0.4521 - val_loss: 0.4619\n",
      "Epoch 40/100\n",
      "7740/7740 [==============================] - 0s 50us/sample - loss: 0.4500 - val_loss: 0.4538\n",
      "Epoch 41/100\n",
      "7740/7740 [==============================] - 0s 54us/sample - loss: 0.4478 - val_loss: 0.4522\n",
      "Epoch 42/100\n",
      "7740/7740 [==============================] - 0s 47us/sample - loss: 0.4456 - val_loss: 0.4540\n",
      "Epoch 43/100\n",
      "7740/7740 [==============================] - 0s 50us/sample - loss: 0.4435 - val_loss: 0.4482\n",
      "Epoch 44/100\n",
      "7740/7740 [==============================] - 0s 50us/sample - loss: 0.4416 - val_loss: 0.4525\n",
      "Epoch 45/100\n",
      "7740/7740 [==============================] - 0s 54us/sample - loss: 0.4398 - val_loss: 0.4494\n",
      "Epoch 46/100\n",
      "7740/7740 [==============================] - 0s 51us/sample - loss: 0.4381 - val_loss: 0.4478\n",
      "Epoch 47/100\n",
      "7740/7740 [==============================] - 0s 47us/sample - loss: 0.4364 - val_loss: 0.4484\n",
      "Epoch 48/100\n",
      "7740/7740 [==============================] - 0s 47us/sample - loss: 0.4349 - val_loss: 0.4514\n",
      "Epoch 49/100\n"
     ]
    },
    {
     "name": "stdout",
     "output_type": "stream",
     "text": [
      "7740/7740 [==============================] - 0s 51us/sample - loss: 0.4334 - val_loss: 0.4516\n",
      "Epoch 50/100\n",
      "7740/7740 [==============================] - 0s 46us/sample - loss: 0.4319 - val_loss: 0.4455\n",
      "Epoch 51/100\n",
      "7740/7740 [==============================] - 0s 47us/sample - loss: 0.4304 - val_loss: 0.4405\n",
      "Epoch 52/100\n",
      "7740/7740 [==============================] - 0s 59us/sample - loss: 0.4292 - val_loss: 0.4437\n",
      "Epoch 53/100\n",
      "7740/7740 [==============================] - 0s 56us/sample - loss: 0.4277 - val_loss: 0.4417\n",
      "Epoch 54/100\n",
      "7740/7740 [==============================] - 0s 56us/sample - loss: 0.4266 - val_loss: 0.4433\n",
      "Epoch 55/100\n",
      "7740/7740 [==============================] - 0s 47us/sample - loss: 0.4252 - val_loss: 0.4468\n",
      "Epoch 56/100\n",
      "7740/7740 [==============================] - 0s 47us/sample - loss: 0.4241 - val_loss: 0.4536\n",
      "Epoch 57/100\n",
      "7740/7740 [==============================] - 0s 49us/sample - loss: 0.4228 - val_loss: 0.4470\n",
      "Epoch 58/100\n",
      "7740/7740 [==============================] - 0s 46us/sample - loss: 0.4216 - val_loss: 0.4569\n",
      "Epoch 59/100\n",
      "7740/7740 [==============================] - 0s 43us/sample - loss: 0.4207 - val_loss: 0.4554\n",
      "Epoch 60/100\n",
      "7740/7740 [==============================] - 0s 43us/sample - loss: 0.4197 - val_loss: 0.4547\n",
      "Epoch 61/100\n",
      "7740/7740 [==============================] - 0s 58us/sample - loss: 0.4187 - val_loss: 0.4475\n",
      "3870/3870 [==============================] - 0s 31us/sample - loss: 0.4175\n",
      "[CV]  learning_rate=0.0003920021771415983, n_hidden=3, n_neurons=24, total=  23.6s\n",
      "[CV] learning_rate=0.006010328378268217, n_hidden=0, n_neurons=2 .....\n",
      "Train on 7740 samples, validate on 3870 samples\n",
      "Epoch 1/100\n",
      "7740/7740 [==============================] - 1s 84us/sample - loss: 2.1211 - val_loss: 21.1308\n",
      "Epoch 2/100\n",
      "7740/7740 [==============================] - 0s 53us/sample - loss: 0.9808 - val_loss: 95.9915\n",
      "Epoch 3/100\n",
      "7740/7740 [==============================] - 0s 62us/sample - loss: 1.6776 - val_loss: 221.0205\n",
      "Epoch 4/100\n",
      "7740/7740 [==============================] - 0s 49us/sample - loss: 3.8367 - val_loss: 450.6542\n",
      "Epoch 5/100\n",
      "7740/7740 [==============================] - 0s 50us/sample - loss: 3.9032 - val_loss: 933.3998\n",
      "Epoch 6/100\n",
      "7740/7740 [==============================] - 1s 68us/sample - loss: 11.5679 - val_loss: 2256.4544\n",
      "Epoch 7/100\n",
      "7740/7740 [==============================] - 0s 54us/sample - loss: 37.9562 - val_loss: 5370.5414\n",
      "Epoch 8/100\n",
      "7740/7740 [==============================] - 0s 55us/sample - loss: 37.4190 - val_loss: 13317.2301\n",
      "Epoch 9/100\n",
      "7740/7740 [==============================] - 0s 44us/sample - loss: 73.9304 - val_loss: 29245.5294\n",
      "Epoch 10/100\n",
      "7740/7740 [==============================] - 0s 41us/sample - loss: 213.6844 - val_loss: 67753.4594\n",
      "Epoch 11/100\n",
      "7740/7740 [==============================] - 0s 47us/sample - loss: 462.1570 - val_loss: 152754.9162\n",
      "3870/3870 [==============================] - 0s 21us/sample - loss: 406.6080\n",
      "[CV]  learning_rate=0.006010328378268217, n_hidden=0, n_neurons=2, total=   4.9s\n",
      "[CV] learning_rate=0.006010328378268217, n_hidden=0, n_neurons=2 .....\n",
      "Train on 7740 samples, validate on 3870 samples\n",
      "Epoch 1/100\n",
      "7740/7740 [==============================] - 1s 76us/sample - loss: 1.4677 - val_loss: 13.3385\n",
      "Epoch 2/100\n",
      "7740/7740 [==============================] - 0s 51us/sample - loss: 0.5767 - val_loss: 16.4312\n",
      "Epoch 3/100\n",
      "7740/7740 [==============================] - 1s 72us/sample - loss: 0.5515 - val_loss: 18.4041\n",
      "Epoch 4/100\n",
      "7740/7740 [==============================] - 0s 59us/sample - loss: 0.5368 - val_loss: 18.4688TA: 0s - loss: 0.5\n",
      "Epoch 5/100\n",
      "7740/7740 [==============================] - 0s 56us/sample - loss: 0.5278 - val_loss: 18.5664\n",
      "Epoch 6/100\n",
      "7740/7740 [==============================] - 0s 40us/sample - loss: 0.5201 - val_loss: 18.5914\n",
      "Epoch 7/100\n",
      "7740/7740 [==============================] - 0s 42us/sample - loss: 0.5141 - val_loss: 18.0228\n",
      "Epoch 8/100\n",
      "7740/7740 [==============================] - 0s 54us/sample - loss: 0.5116 - val_loss: 18.2423\n",
      "Epoch 9/100\n",
      "7740/7740 [==============================] - 0s 42us/sample - loss: 0.5096 - val_loss: 18.0343\n",
      "Epoch 10/100\n",
      "7740/7740 [==============================] - 0s 50us/sample - loss: 0.5066 - val_loss: 18.6712\n",
      "Epoch 11/100\n",
      "7740/7740 [==============================] - 0s 43us/sample - loss: 0.5062 - val_loss: 17.8861\n",
      "3870/3870 [==============================] - 0s 24us/sample - loss: 0.9307\n",
      "[CV]  learning_rate=0.006010328378268217, n_hidden=0, n_neurons=2, total=   4.7s\n",
      "[CV] learning_rate=0.006010328378268217, n_hidden=0, n_neurons=2 .....\n",
      "Train on 7740 samples, validate on 3870 samples\n",
      "Epoch 1/100\n",
      "7740/7740 [==============================] - 1s 79us/sample - loss: 1.8572 - val_loss: 0.9861\n",
      "Epoch 2/100\n",
      "7740/7740 [==============================] - 0s 52us/sample - loss: 0.5987 - val_loss: 0.9252\n",
      "Epoch 3/100\n",
      "7740/7740 [==============================] - 0s 47us/sample - loss: 0.5559 - val_loss: 3.3524\n",
      "Epoch 4/100\n",
      "7740/7740 [==============================] - 0s 48us/sample - loss: 0.6727 - val_loss: 9.0939\n",
      "Epoch 5/100\n",
      "7740/7740 [==============================] - 0s 44us/sample - loss: 0.6038 - val_loss: 19.4521\n",
      "Epoch 6/100\n",
      "7740/7740 [==============================] - 0s 39us/sample - loss: 0.8763 - val_loss: 28.0253\n",
      "Epoch 7/100\n",
      "7740/7740 [==============================] - 0s 41us/sample - loss: 0.8241 - val_loss: 45.1730\n",
      "Epoch 8/100\n",
      "7740/7740 [==============================] - 0s 43us/sample - loss: 1.4897 - val_loss: 47.6945\n",
      "Epoch 9/100\n",
      "7740/7740 [==============================] - 0s 50us/sample - loss: 1.3526 - val_loss: 94.9098\n",
      "Epoch 10/100\n",
      "7740/7740 [==============================] - 0s 41us/sample - loss: 2.5568 - val_loss: 105.7355\n",
      "Epoch 11/100\n",
      "7740/7740 [==============================] - 0s 42us/sample - loss: 1.3688 - val_loss: 134.7788\n",
      "Epoch 12/100\n",
      "7740/7740 [==============================] - 0s 40us/sample - loss: 2.9960 - val_loss: 193.8962\n",
      "3870/3870 [==============================] - 0s 20us/sample - loss: 0.9807\n",
      "[CV]  learning_rate=0.006010328378268217, n_hidden=0, n_neurons=2, total=   4.6s\n",
      "[CV] learning_rate=0.008339092654580042, n_hidden=1, n_neurons=38 ....\n",
      "Train on 7740 samples, validate on 3870 samples\n",
      "Epoch 1/100\n",
      "7740/7740 [==============================] - 1s 81us/sample - loss: 1.2569 - val_loss: 40.1895\n",
      "Epoch 2/100\n",
      "7740/7740 [==============================] - 0s 54us/sample - loss: 0.9780 - val_loss: 196.2189\n",
      "Epoch 3/100\n",
      "7740/7740 [==============================] - 0s 58us/sample - loss: 1.7930 - val_loss: 2.4461\n",
      "Epoch 4/100\n",
      "7740/7740 [==============================] - 0s 60us/sample - loss: 0.4490 - val_loss: 1.9442\n",
      "Epoch 5/100\n",
      "7740/7740 [==============================] - 0s 62us/sample - loss: 0.4378 - val_loss: 14.0566\n",
      "Epoch 6/100\n",
      "7740/7740 [==============================] - 0s 48us/sample - loss: 0.5361 - val_loss: 25.7459\n",
      "Epoch 7/100\n",
      "7740/7740 [==============================] - 0s 44us/sample - loss: 0.6511 - val_loss: 0.3580\n",
      "Epoch 8/100\n",
      "7740/7740 [==============================] - 0s 50us/sample - loss: 0.3706 - val_loss: 0.3511\n",
      "Epoch 9/100\n",
      "7740/7740 [==============================] - 0s 45us/sample - loss: 0.3659 - val_loss: 0.3543\n",
      "Epoch 10/100\n",
      "7740/7740 [==============================] - 0s 46us/sample - loss: 0.3618 - val_loss: 0.3492\n",
      "Epoch 11/100\n",
      "7740/7740 [==============================] - 1s 67us/sample - loss: 0.3581 - val_loss: 0.3460\n",
      "Epoch 12/100\n",
      "7740/7740 [==============================] - 0s 51us/sample - loss: 0.3550 - val_loss: 0.3574\n",
      "Epoch 13/100\n",
      "7740/7740 [==============================] - 0s 58us/sample - loss: 0.3531 - val_loss: 0.3557\n",
      "Epoch 14/100\n",
      "7740/7740 [==============================] - 0s 55us/sample - loss: 0.3503 - val_loss: 0.4685\n",
      "Epoch 15/100\n",
      "7740/7740 [==============================] - 0s 57us/sample - loss: 0.3494 - val_loss: 0.3399\n",
      "Epoch 16/100\n",
      "7740/7740 [==============================] - 0s 48us/sample - loss: 0.3485 - val_loss: 0.3644\n",
      "Epoch 17/100\n",
      "7740/7740 [==============================] - 0s 56us/sample - loss: 0.3462 - val_loss: 0.3809\n",
      "Epoch 18/100\n",
      "7740/7740 [==============================] - 0s 46us/sample - loss: 0.3451 - val_loss: 0.3840\n",
      "Epoch 19/100\n",
      "7740/7740 [==============================] - 0s 50us/sample - loss: 0.3438 - val_loss: 0.3788\n"
     ]
    },
    {
     "name": "stdout",
     "output_type": "stream",
     "text": [
      "Epoch 20/100\n",
      "7740/7740 [==============================] - 0s 52us/sample - loss: 0.3429 - val_loss: 0.3633\n",
      "Epoch 21/100\n",
      "7740/7740 [==============================] - 0s 58us/sample - loss: 0.3408 - val_loss: 0.3366\n",
      "Epoch 22/100\n",
      "7740/7740 [==============================] - 0s 55us/sample - loss: 0.3400 - val_loss: 0.3583\n",
      "Epoch 23/100\n",
      "7740/7740 [==============================] - 0s 50us/sample - loss: 0.3397 - val_loss: 0.3759\n",
      "Epoch 24/100\n",
      "7740/7740 [==============================] - 0s 51us/sample - loss: 0.3373 - val_loss: 0.3592\n",
      "Epoch 25/100\n",
      "7740/7740 [==============================] - 0s 64us/sample - loss: 0.3364 - val_loss: 0.3754\n",
      "Epoch 26/100\n",
      "7740/7740 [==============================] - 0s 48us/sample - loss: 0.3354 - val_loss: 0.3558\n",
      "Epoch 27/100\n",
      "7740/7740 [==============================] - 0s 52us/sample - loss: 0.3343 - val_loss: 0.3720\n",
      "Epoch 28/100\n",
      "7740/7740 [==============================] - 0s 44us/sample - loss: 0.3324 - val_loss: 0.3559\n",
      "Epoch 29/100\n",
      "7740/7740 [==============================] - 0s 42us/sample - loss: 0.3298 - val_loss: 0.3524\n",
      "Epoch 30/100\n",
      "7740/7740 [==============================] - 0s 44us/sample - loss: 0.3285 - val_loss: 0.3484\n",
      "Epoch 31/100\n",
      "7740/7740 [==============================] - 0s 62us/sample - loss: 0.3260 - val_loss: 0.3706\n",
      "3870/3870 [==============================] - 0s 23us/sample - loss: 0.3526\n",
      "[CV]  learning_rate=0.008339092654580042, n_hidden=1, n_neurons=38, total=  13.0s\n",
      "[CV] learning_rate=0.008339092654580042, n_hidden=1, n_neurons=38 ....\n",
      "Train on 7740 samples, validate on 3870 samples\n",
      "Epoch 1/100\n",
      "7740/7740 [==============================] - 1s 120us/sample - loss: 0.8947 - val_loss: 3.5465\n",
      "Epoch 2/100\n",
      "7740/7740 [==============================] - 0s 49us/sample - loss: 0.5222 - val_loss: 0.4637\n",
      "Epoch 3/100\n",
      "7740/7740 [==============================] - 0s 56us/sample - loss: 0.4628 - val_loss: 0.4256\n",
      "Epoch 4/100\n",
      "7740/7740 [==============================] - 0s 51us/sample - loss: 0.4362 - val_loss: 0.4192\n",
      "Epoch 5/100\n",
      "7740/7740 [==============================] - 0s 58us/sample - loss: 0.4215 - val_loss: 0.4591\n",
      "Epoch 6/100\n",
      "7740/7740 [==============================] - 0s 51us/sample - loss: 0.4122 - val_loss: 0.5954\n",
      "Epoch 7/100\n",
      "7740/7740 [==============================] - 0s 42us/sample - loss: 0.4047 - val_loss: 0.6497\n",
      "Epoch 8/100\n",
      "7740/7740 [==============================] - 0s 43us/sample - loss: 0.4000 - val_loss: 0.7834\n",
      "Epoch 9/100\n",
      "7740/7740 [==============================] - 0s 42us/sample - loss: 0.3957 - val_loss: 0.8585\n",
      "Epoch 10/100\n",
      "7740/7740 [==============================] - 0s 43us/sample - loss: 0.3918 - val_loss: 1.0683\n",
      "Epoch 11/100\n",
      "7740/7740 [==============================] - 0s 43us/sample - loss: 0.3882 - val_loss: 0.9851\n",
      "Epoch 12/100\n",
      "7740/7740 [==============================] - 0s 47us/sample - loss: 0.3836 - val_loss: 0.9689\n",
      "Epoch 13/100\n",
      "7740/7740 [==============================] - 0s 51us/sample - loss: 0.3830 - val_loss: 1.1161\n",
      "Epoch 14/100\n",
      "7740/7740 [==============================] - 0s 55us/sample - loss: 0.3792 - val_loss: 1.3615\n",
      "3870/3870 [==============================] - 0s 21us/sample - loss: 0.4046\n",
      "[CV]  learning_rate=0.008339092654580042, n_hidden=1, n_neurons=38, total=   6.0s\n",
      "[CV] learning_rate=0.008339092654580042, n_hidden=1, n_neurons=38 ....\n",
      "Train on 7740 samples, validate on 3870 samples\n",
      "Epoch 1/100\n",
      "7740/7740 [==============================] - 1s 75us/sample - loss: 1.1191 - val_loss: 13.5203\n",
      "Epoch 2/100\n",
      "7740/7740 [==============================] - 0s 41us/sample - loss: 0.5587 - val_loss: 45.9143\n",
      "Epoch 3/100\n",
      "7740/7740 [==============================] - 0s 41us/sample - loss: 1.1573 - val_loss: 11.7740\n",
      "Epoch 4/100\n",
      "7740/7740 [==============================] - 0s 42us/sample - loss: 0.6116 - val_loss: 13.3710\n",
      "Epoch 5/100\n",
      "7740/7740 [==============================] - 0s 42us/sample - loss: 0.5644 - val_loss: 0.3805\n",
      "Epoch 6/100\n",
      "7740/7740 [==============================] - 0s 51us/sample - loss: 0.4145 - val_loss: 0.3733\n",
      "Epoch 7/100\n",
      "7740/7740 [==============================] - 0s 48us/sample - loss: 0.4124 - val_loss: 0.3731\n",
      "Epoch 8/100\n",
      "7740/7740 [==============================] - 0s 53us/sample - loss: 0.4161 - val_loss: 0.3624\n",
      "Epoch 9/100\n",
      "7740/7740 [==============================] - 0s 53us/sample - loss: 0.3921 - val_loss: 0.3585\n",
      "Epoch 10/100\n",
      "7740/7740 [==============================] - 0s 50us/sample - loss: 0.3875 - val_loss: 0.3541\n",
      "Epoch 11/100\n",
      "7740/7740 [==============================] - 0s 44us/sample - loss: 0.3847 - val_loss: 0.3531\n",
      "Epoch 12/100\n",
      "7740/7740 [==============================] - 0s 52us/sample - loss: 0.3832 - val_loss: 0.3501\n",
      "Epoch 13/100\n",
      "7740/7740 [==============================] - 0s 43us/sample - loss: 0.3766 - val_loss: 0.3481\n",
      "Epoch 14/100\n",
      "7740/7740 [==============================] - 0s 42us/sample - loss: 0.3746 - val_loss: 0.3682\n",
      "Epoch 15/100\n",
      "7740/7740 [==============================] - 0s 43us/sample - loss: 0.3772 - val_loss: 0.3692\n",
      "Epoch 16/100\n",
      "7740/7740 [==============================] - 0s 43us/sample - loss: 0.3721 - val_loss: 0.3517\n",
      "Epoch 17/100\n",
      "7740/7740 [==============================] - 0s 43us/sample - loss: 0.3678 - val_loss: 0.3814\n",
      "Epoch 18/100\n",
      "7740/7740 [==============================] - 0s 43us/sample - loss: 0.3773 - val_loss: 0.3455\n",
      "Epoch 19/100\n",
      "7740/7740 [==============================] - 0s 42us/sample - loss: 0.3655 - val_loss: 0.3699\n",
      "Epoch 20/100\n",
      "7740/7740 [==============================] - 0s 44us/sample - loss: 0.3712 - val_loss: 0.3731\n",
      "Epoch 21/100\n",
      "7740/7740 [==============================] - 0s 50us/sample - loss: 0.3626 - val_loss: 0.3615\n",
      "Epoch 22/100\n",
      "7740/7740 [==============================] - 0s 51us/sample - loss: 0.3615 - val_loss: 0.3422\n",
      "Epoch 23/100\n",
      "7740/7740 [==============================] - 0s 49us/sample - loss: 0.3610 - val_loss: 0.3518\n",
      "Epoch 24/100\n",
      "7740/7740 [==============================] - 0s 57us/sample - loss: 0.3582 - val_loss: 0.3447\n",
      "Epoch 25/100\n",
      "7740/7740 [==============================] - 0s 53us/sample - loss: 0.3570 - val_loss: 0.3711\n",
      "Epoch 26/100\n",
      "7740/7740 [==============================] - 0s 54us/sample - loss: 0.3559 - val_loss: 0.3622\n",
      "Epoch 27/100\n",
      "7740/7740 [==============================] - 0s 56us/sample - loss: 0.3563 - val_loss: 0.3662\n",
      "Epoch 28/100\n",
      "7740/7740 [==============================] - 0s 55us/sample - loss: 0.3863 - val_loss: 0.3685\n",
      "Epoch 29/100\n",
      "7740/7740 [==============================] - 0s 49us/sample - loss: 0.3762 - val_loss: 0.3449\n",
      "Epoch 30/100\n",
      "7740/7740 [==============================] - 0s 51us/sample - loss: 0.3641 - val_loss: 0.3400\n",
      "Epoch 31/100\n",
      "7740/7740 [==============================] - 0s 44us/sample - loss: 0.3547 - val_loss: 0.3316\n",
      "Epoch 32/100\n",
      "7740/7740 [==============================] - 0s 45us/sample - loss: 0.3587 - val_loss: 0.3810\n",
      "Epoch 33/100\n",
      "7740/7740 [==============================] - 0s 46us/sample - loss: 0.3508 - val_loss: 0.3341\n",
      "Epoch 34/100\n",
      "7740/7740 [==============================] - 0s 46us/sample - loss: 0.3500 - val_loss: 0.3811\n",
      "Epoch 35/100\n",
      "7740/7740 [==============================] - 0s 50us/sample - loss: 0.3485 - val_loss: 0.3379\n",
      "Epoch 36/100\n",
      "7740/7740 [==============================] - 0s 46us/sample - loss: 0.3503 - val_loss: 0.3418\n",
      "Epoch 37/100\n",
      "7740/7740 [==============================] - 0s 48us/sample - loss: 0.3468 - val_loss: 0.3626\n",
      "Epoch 38/100\n",
      "7740/7740 [==============================] - 0s 52us/sample - loss: 0.3515 - val_loss: 0.3792\n",
      "Epoch 39/100\n",
      "7740/7740 [==============================] - 0s 46us/sample - loss: 0.3478 - val_loss: 0.3299\n",
      "Epoch 40/100\n",
      "7740/7740 [==============================] - 0s 47us/sample - loss: 0.3450 - val_loss: 0.3286\n",
      "Epoch 41/100\n",
      "7740/7740 [==============================] - 0s 44us/sample - loss: 0.3465 - val_loss: 0.3359\n",
      "Epoch 42/100\n",
      "7740/7740 [==============================] - 0s 46us/sample - loss: 0.3423 - val_loss: 0.3507\n",
      "Epoch 43/100\n",
      "7740/7740 [==============================] - 0s 63us/sample - loss: 0.3542 - val_loss: 0.3315\n",
      "Epoch 44/100\n",
      "7740/7740 [==============================] - 0s 46us/sample - loss: 0.3543 - val_loss: 0.3362\n",
      "Epoch 45/100\n",
      "7740/7740 [==============================] - 0s 47us/sample - loss: 0.3433 - val_loss: 0.3447\n",
      "Epoch 46/100\n",
      "7740/7740 [==============================] - 0s 43us/sample - loss: 0.3438 - val_loss: 0.3555\n",
      "Epoch 47/100\n",
      "7740/7740 [==============================] - 0s 42us/sample - loss: 0.3457 - val_loss: 0.3562\n",
      "Epoch 48/100\n",
      "7740/7740 [==============================] - 0s 45us/sample - loss: 0.3399 - val_loss: 0.3606\n",
      "Epoch 49/100\n",
      "7740/7740 [==============================] - 0s 55us/sample - loss: 0.3391 - val_loss: 0.3702\n",
      "Epoch 50/100\n",
      "7740/7740 [==============================] - 0s 46us/sample - loss: 0.4423 - val_loss: 0.3543\n",
      "3870/3870 [==============================] - 0s 23us/sample - loss: 0.3416\n",
      "[CV]  learning_rate=0.008339092654580042, n_hidden=1, n_neurons=38, total=  18.9s\n",
      "[CV] learning_rate=0.00030107783636342726, n_hidden=3, n_neurons=21 ..\n",
      "Train on 7740 samples, validate on 3870 samples\n",
      "Epoch 1/100\n",
      "7740/7740 [==============================] - 1s 79us/sample - loss: 4.0249 - val_loss: 8.1049\n",
      "Epoch 2/100\n",
      "7740/7740 [==============================] - 0s 46us/sample - loss: 2.3117 - val_loss: 7.7845\n",
      "Epoch 3/100\n",
      "7740/7740 [==============================] - 0s 48us/sample - loss: 1.6343 - val_loss: 5.9924\n",
      "Epoch 4/100\n",
      "7740/7740 [==============================] - 0s 45us/sample - loss: 1.3424 - val_loss: 4.1657\n",
      "Epoch 5/100\n",
      "7740/7740 [==============================] - 0s 50us/sample - loss: 1.1817 - val_loss: 2.7137\n",
      "Epoch 6/100\n",
      "7740/7740 [==============================] - 0s 59us/sample - loss: 1.0700 - val_loss: 2.1602\n",
      "Epoch 7/100\n",
      "7740/7740 [==============================] - 0s 51us/sample - loss: 0.9890 - val_loss: 1.7833\n",
      "Epoch 8/100\n",
      "7740/7740 [==============================] - 0s 64us/sample - loss: 0.9245 - val_loss: 1.4592\n",
      "Epoch 9/100\n",
      "7740/7740 [==============================] - 1s 80us/sample - loss: 0.8705 - val_loss: 1.2284\n",
      "Epoch 10/100\n",
      "7740/7740 [==============================] - 1s 73us/sample - loss: 0.8264 - val_loss: 1.0696\n",
      "Epoch 11/100\n",
      "7740/7740 [==============================] - 1s 69us/sample - loss: 0.7890 - val_loss: 0.9366\n",
      "Epoch 12/100\n",
      "7740/7740 [==============================] - 1s 71us/sample - loss: 0.7581 - val_loss: 0.8372\n",
      "Epoch 13/100\n",
      "7740/7740 [==============================] - 1s 76us/sample - loss: 0.7322 - val_loss: 0.7673\n",
      "Epoch 14/100\n",
      "7740/7740 [==============================] - 0s 55us/sample - loss: 0.7103 - val_loss: 0.7110\n",
      "Epoch 15/100\n",
      "7740/7740 [==============================] - 1s 68us/sample - loss: 0.6923 - val_loss: 0.6765\n",
      "Epoch 16/100\n",
      "7740/7740 [==============================] - 0s 48us/sample - loss: 0.6765 - val_loss: 0.6552\n",
      "Epoch 17/100\n",
      "7740/7740 [==============================] - 0s 46us/sample - loss: 0.6633 - val_loss: 0.6374\n",
      "Epoch 18/100\n",
      "7740/7740 [==============================] - 0s 48us/sample - loss: 0.6518 - val_loss: 0.6275\n",
      "Epoch 19/100\n",
      "7740/7740 [==============================] - 0s 46us/sample - loss: 0.6418 - val_loss: 0.6202\n",
      "Epoch 20/100\n",
      "7740/7740 [==============================] - 0s 48us/sample - loss: 0.6327 - val_loss: 0.6147\n",
      "Epoch 21/100\n",
      "7740/7740 [==============================] - 0s 46us/sample - loss: 0.6245 - val_loss: 0.6085\n",
      "Epoch 22/100\n",
      "7740/7740 [==============================] - 0s 46us/sample - loss: 0.6168 - val_loss: 0.6056\n",
      "Epoch 23/100\n",
      "7740/7740 [==============================] - 0s 46us/sample - loss: 0.6096 - val_loss: 0.6016\n",
      "Epoch 24/100\n",
      "7740/7740 [==============================] - 0s 46us/sample - loss: 0.6028 - val_loss: 0.5962\n",
      "Epoch 25/100\n",
      "7740/7740 [==============================] - 0s 47us/sample - loss: 0.5963 - val_loss: 0.5940\n",
      "Epoch 26/100\n",
      "7740/7740 [==============================] - 0s 47us/sample - loss: 0.5902 - val_loss: 0.5894\n",
      "Epoch 27/100\n",
      "7740/7740 [==============================] - 0s 44us/sample - loss: 0.5840 - val_loss: 0.5902\n",
      "Epoch 28/100\n",
      "7740/7740 [==============================] - 0s 46us/sample - loss: 0.5785 - val_loss: 0.5810\n",
      "Epoch 29/100\n",
      "7740/7740 [==============================] - 0s 48us/sample - loss: 0.5729 - val_loss: 0.5763\n",
      "Epoch 30/100\n",
      "7740/7740 [==============================] - 0s 53us/sample - loss: 0.5675 - val_loss: 0.5734\n",
      "Epoch 31/100\n",
      "7740/7740 [==============================] - 0s 44us/sample - loss: 0.5622 - val_loss: 0.5674\n",
      "Epoch 32/100\n",
      "7740/7740 [==============================] - 0s 47us/sample - loss: 0.5570 - val_loss: 0.5654\n",
      "Epoch 33/100\n",
      "7740/7740 [==============================] - 0s 47us/sample - loss: 0.5520 - val_loss: 0.5583\n",
      "Epoch 34/100\n",
      "7740/7740 [==============================] - 0s 47us/sample - loss: 0.5470 - val_loss: 0.5519\n",
      "Epoch 35/100\n",
      "7740/7740 [==============================] - 0s 46us/sample - loss: 0.5422 - val_loss: 0.5506\n",
      "Epoch 36/100\n",
      "7740/7740 [==============================] - 0s 58us/sample - loss: 0.5373 - val_loss: 0.5506\n",
      "Epoch 37/100\n",
      "7740/7740 [==============================] - 0s 61us/sample - loss: 0.5332 - val_loss: 0.5409\n",
      "Epoch 38/100\n",
      "7740/7740 [==============================] - 0s 59us/sample - loss: 0.5285 - val_loss: 0.5344\n",
      "Epoch 39/100\n",
      "7740/7740 [==============================] - 0s 62us/sample - loss: 0.5242 - val_loss: 0.5294\n",
      "Epoch 40/100\n",
      "7740/7740 [==============================] - 1s 72us/sample - loss: 0.5199 - val_loss: 0.5237\n",
      "Epoch 41/100\n",
      "7740/7740 [==============================] - 0s 64us/sample - loss: 0.5158 - val_loss: 0.5209\n",
      "Epoch 42/100\n",
      "7740/7740 [==============================] - 0s 58us/sample - loss: 0.5117 - val_loss: 0.5159\n",
      "Epoch 43/100\n",
      "7740/7740 [==============================] - 0s 63us/sample - loss: 0.5076 - val_loss: 0.5117\n",
      "Epoch 44/100\n",
      "7740/7740 [==============================] - 0s 62us/sample - loss: 0.5038 - val_loss: 0.5077\n",
      "Epoch 45/100\n",
      "7740/7740 [==============================] - 0s 54us/sample - loss: 0.5000 - val_loss: 0.5019\n",
      "Epoch 46/100\n",
      "7740/7740 [==============================] - 0s 48us/sample - loss: 0.4964 - val_loss: 0.4978\n",
      "Epoch 47/100\n",
      "7740/7740 [==============================] - 0s 46us/sample - loss: 0.4927 - val_loss: 0.4916\n",
      "Epoch 48/100\n",
      "7740/7740 [==============================] - 0s 49us/sample - loss: 0.4890 - val_loss: 0.4886\n",
      "Epoch 49/100\n",
      "7740/7740 [==============================] - 0s 48us/sample - loss: 0.4855 - val_loss: 0.4859\n",
      "Epoch 50/100\n",
      "7740/7740 [==============================] - 0s 48us/sample - loss: 0.4823 - val_loss: 0.4793\n",
      "Epoch 51/100\n",
      "7740/7740 [==============================] - 0s 48us/sample - loss: 0.4788 - val_loss: 0.4758\n",
      "Epoch 52/100\n",
      "7740/7740 [==============================] - 0s 47us/sample - loss: 0.4755 - val_loss: 0.4715\n",
      "Epoch 53/100\n",
      "7740/7740 [==============================] - 0s 49us/sample - loss: 0.4723 - val_loss: 0.4689\n",
      "Epoch 54/100\n",
      "7740/7740 [==============================] - 0s 49us/sample - loss: 0.4692 - val_loss: 0.4640\n",
      "Epoch 55/100\n",
      "7740/7740 [==============================] - 0s 46us/sample - loss: 0.4660 - val_loss: 0.4613\n",
      "Epoch 56/100\n",
      "7740/7740 [==============================] - 0s 51us/sample - loss: 0.4631 - val_loss: 0.4573\n",
      "Epoch 57/100\n",
      "7740/7740 [==============================] - 0s 56us/sample - loss: 0.4601 - val_loss: 0.4542\n",
      "Epoch 58/100\n",
      "7740/7740 [==============================] - 0s 61us/sample - loss: 0.4571 - val_loss: 0.4492\n",
      "Epoch 59/100\n",
      "7740/7740 [==============================] - 0s 52us/sample - loss: 0.4544 - val_loss: 0.4461\n",
      "Epoch 60/100\n",
      "7740/7740 [==============================] - 0s 59us/sample - loss: 0.4517 - val_loss: 0.4431\n",
      "Epoch 61/100\n",
      "7740/7740 [==============================] - 0s 57us/sample - loss: 0.4489 - val_loss: 0.4396\n",
      "Epoch 62/100\n",
      "7740/7740 [==============================] - 0s 56us/sample - loss: 0.4462 - val_loss: 0.4378\n",
      "Epoch 63/100\n",
      "7740/7740 [==============================] - 0s 51us/sample - loss: 0.4440 - val_loss: 0.4337\n",
      "Epoch 64/100\n",
      "7740/7740 [==============================] - 0s 57us/sample - loss: 0.4415 - val_loss: 0.4308\n",
      "Epoch 65/100\n",
      "7740/7740 [==============================] - 0s 50us/sample - loss: 0.4390 - val_loss: 0.4297\n",
      "Epoch 66/100\n",
      "7740/7740 [==============================] - 0s 46us/sample - loss: 0.4369 - val_loss: 0.4260\n",
      "Epoch 67/100\n",
      "7740/7740 [==============================] - 0s 47us/sample - loss: 0.4346 - val_loss: 0.4239\n",
      "Epoch 68/100\n",
      "7740/7740 [==============================] - 0s 49us/sample - loss: 0.4324 - val_loss: 0.4212\n",
      "Epoch 69/100\n",
      "7740/7740 [==============================] - 0s 48us/sample - loss: 0.4302 - val_loss: 0.4192\n",
      "Epoch 70/100\n"
     ]
    },
    {
     "name": "stdout",
     "output_type": "stream",
     "text": [
      "7740/7740 [==============================] - 0s 47us/sample - loss: 0.4282 - val_loss: 0.4172\n",
      "Epoch 71/100\n",
      "7740/7740 [==============================] - 0s 47us/sample - loss: 0.4260 - val_loss: 0.4151\n",
      "Epoch 72/100\n",
      "7740/7740 [==============================] - 0s 46us/sample - loss: 0.4243 - val_loss: 0.4132\n",
      "Epoch 73/100\n",
      "7740/7740 [==============================] - 0s 46us/sample - loss: 0.4224 - val_loss: 0.4112\n",
      "Epoch 74/100\n",
      "7740/7740 [==============================] - 0s 47us/sample - loss: 0.4204 - val_loss: 0.4092\n",
      "Epoch 75/100\n",
      "7740/7740 [==============================] - 0s 46us/sample - loss: 0.4188 - val_loss: 0.4074\n",
      "Epoch 76/100\n",
      "7740/7740 [==============================] - 0s 46us/sample - loss: 0.4170 - val_loss: 0.4056\n",
      "Epoch 77/100\n",
      "7740/7740 [==============================] - 0s 46us/sample - loss: 0.4152 - val_loss: 0.4039\n",
      "Epoch 78/100\n",
      "7740/7740 [==============================] - 0s 46us/sample - loss: 0.4135 - val_loss: 0.4026\n",
      "Epoch 79/100\n",
      "7740/7740 [==============================] - 0s 46us/sample - loss: 0.4119 - val_loss: 0.4013\n",
      "Epoch 80/100\n",
      "7740/7740 [==============================] - 0s 46us/sample - loss: 0.4105 - val_loss: 0.3995\n",
      "Epoch 81/100\n",
      "7740/7740 [==============================] - 0s 46us/sample - loss: 0.4090 - val_loss: 0.3980\n",
      "Epoch 82/100\n",
      "7740/7740 [==============================] - 0s 44us/sample - loss: 0.4075 - val_loss: 0.3969\n",
      "Epoch 83/100\n",
      "7740/7740 [==============================] - 0s 44us/sample - loss: 0.4060 - val_loss: 0.3963\n",
      "Epoch 84/100\n",
      "7740/7740 [==============================] - 0s 48us/sample - loss: 0.4046 - val_loss: 0.3949\n",
      "Epoch 85/100\n",
      "7740/7740 [==============================] - 0s 55us/sample - loss: 0.4033 - val_loss: 0.3935\n",
      "Epoch 86/100\n",
      "7740/7740 [==============================] - 0s 60us/sample - loss: 0.4020 - val_loss: 0.3932\n",
      "Epoch 87/100\n",
      "7740/7740 [==============================] - 0s 50us/sample - loss: 0.4005 - val_loss: 0.3933\n",
      "Epoch 88/100\n",
      "7740/7740 [==============================] - 0s 56us/sample - loss: 0.3993 - val_loss: 0.3905\n",
      "Epoch 89/100\n",
      "7740/7740 [==============================] - 0s 52us/sample - loss: 0.3982 - val_loss: 0.3899\n",
      "Epoch 90/100\n",
      "7740/7740 [==============================] - 1s 67us/sample - loss: 0.3970 - val_loss: 0.3893\n",
      "Epoch 91/100\n",
      "7740/7740 [==============================] - 0s 48us/sample - loss: 0.3958 - val_loss: 0.3888\n",
      "Epoch 92/100\n",
      "7740/7740 [==============================] - 0s 47us/sample - loss: 0.3947 - val_loss: 0.3887\n",
      "Epoch 93/100\n",
      "7740/7740 [==============================] - 0s 50us/sample - loss: 0.3936 - val_loss: 0.3880\n",
      "Epoch 94/100\n",
      "7740/7740 [==============================] - 0s 56us/sample - loss: 0.3926 - val_loss: 0.3868\n",
      "Epoch 95/100\n",
      "7740/7740 [==============================] - 0s 58us/sample - loss: 0.3914 - val_loss: 0.3851\n",
      "Epoch 96/100\n",
      "7740/7740 [==============================] - 0s 54us/sample - loss: 0.3906 - val_loss: 0.3863\n",
      "Epoch 97/100\n",
      "7740/7740 [==============================] - 0s 56us/sample - loss: 0.3896 - val_loss: 0.3865\n",
      "Epoch 98/100\n",
      "7740/7740 [==============================] - 0s 64us/sample - loss: 0.3887 - val_loss: 0.3859\n",
      "Epoch 99/100\n",
      "7740/7740 [==============================] - 0s 50us/sample - loss: 0.3877 - val_loss: 0.3848\n",
      "Epoch 100/100\n",
      "7740/7740 [==============================] - 0s 48us/sample - loss: 0.3870 - val_loss: 0.3835\n",
      "3870/3870 [==============================] - 0s 22us/sample - loss: 0.3991\n",
      "[CV]  learning_rate=0.00030107783636342726, n_hidden=3, n_neurons=21, total=  41.0s\n",
      "[CV] learning_rate=0.00030107783636342726, n_hidden=3, n_neurons=21 ..\n",
      "Train on 7740 samples, validate on 3870 samples\n",
      "Epoch 1/100\n",
      "7740/7740 [==============================] - 1s 76us/sample - loss: 5.0596 - val_loss: 2.9550\n",
      "Epoch 2/100\n",
      "7740/7740 [==============================] - 0s 47us/sample - loss: 2.1383 - val_loss: 5.8779\n",
      "Epoch 3/100\n",
      "7740/7740 [==============================] - 0s 49us/sample - loss: 1.2774 - val_loss: 10.6370\n",
      "Epoch 4/100\n",
      "7740/7740 [==============================] - 0s 46us/sample - loss: 1.0897 - val_loss: 11.0355\n",
      "Epoch 5/100\n",
      "7740/7740 [==============================] - 0s 46us/sample - loss: 1.0049 - val_loss: 9.7557\n",
      "Epoch 6/100\n",
      "7740/7740 [==============================] - 0s 47us/sample - loss: 0.9441 - val_loss: 8.1254\n",
      "Epoch 7/100\n",
      "7740/7740 [==============================] - 0s 44us/sample - loss: 0.8975 - val_loss: 6.3476\n",
      "Epoch 8/100\n",
      "7740/7740 [==============================] - 0s 46us/sample - loss: 0.8607 - val_loss: 4.8009\n",
      "Epoch 9/100\n",
      "7740/7740 [==============================] - 0s 46us/sample - loss: 0.8306 - val_loss: 3.4145\n",
      "Epoch 10/100\n",
      "7740/7740 [==============================] - 0s 48us/sample - loss: 0.8060 - val_loss: 2.6140\n",
      "Epoch 11/100\n",
      "7740/7740 [==============================] - 0s 58us/sample - loss: 0.7845 - val_loss: 1.8966\n",
      "Epoch 12/100\n",
      "7740/7740 [==============================] - 0s 47us/sample - loss: 0.7657 - val_loss: 1.3967\n",
      "Epoch 13/100\n",
      "7740/7740 [==============================] - 0s 48us/sample - loss: 0.7491 - val_loss: 1.1024\n",
      "Epoch 14/100\n",
      "7740/7740 [==============================] - 0s 61us/sample - loss: 0.7339 - val_loss: 0.8552\n",
      "Epoch 15/100\n",
      "7740/7740 [==============================] - 0s 56us/sample - loss: 0.7199 - val_loss: 0.7101\n",
      "Epoch 16/100\n",
      "7740/7740 [==============================] - 1s 79us/sample - loss: 0.7073 - val_loss: 0.6640\n",
      "Epoch 17/100\n",
      "7740/7740 [==============================] - 0s 63us/sample - loss: 0.6950 - val_loss: 0.6902A: 0s - loss: 0.693\n",
      "Epoch 18/100\n",
      "7740/7740 [==============================] - 0s 55us/sample - loss: 0.6835 - val_loss: 0.7543\n",
      "Epoch 19/100\n",
      "7740/7740 [==============================] - 0s 58us/sample - loss: 0.6729 - val_loss: 0.8957\n",
      "Epoch 20/100\n",
      "7740/7740 [==============================] - 1s 94us/sample - loss: 0.6624 - val_loss: 1.1091\n",
      "Epoch 21/100\n",
      "7740/7740 [==============================] - 1s 80us/sample - loss: 0.6528 - val_loss: 1.3141\n",
      "Epoch 22/100\n",
      "7740/7740 [==============================] - 1s 85us/sample - loss: 0.6435 - val_loss: 1.5836\n",
      "Epoch 23/100\n",
      "7740/7740 [==============================] - 1s 66us/sample - loss: 0.6348 - val_loss: 1.8804\n",
      "Epoch 24/100\n",
      "7740/7740 [==============================] - 0s 63us/sample - loss: 0.6266 - val_loss: 2.1592\n",
      "Epoch 25/100\n",
      "7740/7740 [==============================] - 1s 72us/sample - loss: 0.6188 - val_loss: 2.5489\n",
      "Epoch 26/100\n",
      "7740/7740 [==============================] - 0s 55us/sample - loss: 0.6112 - val_loss: 2.8359\n",
      "3870/3870 [==============================] - 0s 82us/sample - loss: 0.6766\n",
      "[CV]  learning_rate=0.00030107783636342726, n_hidden=3, n_neurons=21, total=  12.3s\n",
      "[CV] learning_rate=0.00030107783636342726, n_hidden=3, n_neurons=21 ..\n",
      "Train on 7740 samples, validate on 3870 samples\n",
      "Epoch 1/100\n",
      "7740/7740 [==============================] - 1s 193us/sample - loss: 4.4070 - val_loss: 3.5477\n",
      "Epoch 2/100\n",
      "7740/7740 [==============================] - 1s 105us/sample - loss: 2.5644 - val_loss: 3.0315\n",
      "Epoch 3/100\n",
      "7740/7740 [==============================] - 1s 114us/sample - loss: 1.4006 - val_loss: 2.9878\n",
      "Epoch 4/100\n",
      "7740/7740 [==============================] - 0s 54us/sample - loss: 0.9858 - val_loss: 1.9229\n",
      "Epoch 5/100\n",
      "7740/7740 [==============================] - 0s 53us/sample - loss: 0.8391 - val_loss: 1.3465\n",
      "Epoch 6/100\n",
      "7740/7740 [==============================] - 0s 63us/sample - loss: 0.7683 - val_loss: 1.0212\n",
      "Epoch 7/100\n",
      "7740/7740 [==============================] - 0s 62us/sample - loss: 0.7267 - val_loss: 0.8280\n",
      "Epoch 8/100\n",
      "7740/7740 [==============================] - 0s 50us/sample - loss: 0.6991 - val_loss: 0.7424\n",
      "Epoch 9/100\n",
      "7740/7740 [==============================] - 0s 49us/sample - loss: 0.6798 - val_loss: 0.6976\n",
      "Epoch 10/100\n",
      "7740/7740 [==============================] - 1s 67us/sample - loss: 0.6650 - val_loss: 0.6660\n",
      "Epoch 11/100\n",
      "7740/7740 [==============================] - 0s 51us/sample - loss: 0.6528 - val_loss: 0.6406\n",
      "Epoch 12/100\n",
      "7740/7740 [==============================] - 0s 53us/sample - loss: 0.6422 - val_loss: 0.6224\n",
      "Epoch 13/100\n",
      "7740/7740 [==============================] - 1s 75us/sample - loss: 0.6325 - val_loss: 0.6083\n",
      "Epoch 14/100\n",
      "7740/7740 [==============================] - 1s 85us/sample - loss: 0.6236 - val_loss: 0.5963\n",
      "Epoch 15/100\n",
      "7740/7740 [==============================] - 0s 56us/sample - loss: 0.6152 - val_loss: 0.5853\n",
      "Epoch 16/100\n",
      "7740/7740 [==============================] - 0s 47us/sample - loss: 0.6072 - val_loss: 0.5758\n",
      "Epoch 17/100\n",
      "7740/7740 [==============================] - 0s 55us/sample - loss: 0.5993 - val_loss: 0.5672\n",
      "Epoch 18/100\n",
      "7740/7740 [==============================] - 0s 47us/sample - loss: 0.5916 - val_loss: 0.5599\n",
      "Epoch 19/100\n",
      "7740/7740 [==============================] - 0s 56us/sample - loss: 0.5842 - val_loss: 0.5519\n",
      "Epoch 20/100\n",
      "7740/7740 [==============================] - 0s 52us/sample - loss: 0.5769 - val_loss: 0.5446\n",
      "Epoch 21/100\n",
      "7740/7740 [==============================] - 0s 52us/sample - loss: 0.5698 - val_loss: 0.5376\n",
      "Epoch 22/100\n",
      "7740/7740 [==============================] - 0s 60us/sample - loss: 0.5628 - val_loss: 0.5309\n",
      "Epoch 23/100\n",
      "7740/7740 [==============================] - 0s 64us/sample - loss: 0.5559 - val_loss: 0.5241\n",
      "Epoch 24/100\n",
      "7740/7740 [==============================] - 0s 57us/sample - loss: 0.5492 - val_loss: 0.5178\n",
      "Epoch 25/100\n",
      "7740/7740 [==============================] - 0s 51us/sample - loss: 0.5426 - val_loss: 0.5111\n",
      "Epoch 26/100\n",
      "7740/7740 [==============================] - 0s 51us/sample - loss: 0.5361 - val_loss: 0.5050\n",
      "Epoch 27/100\n",
      "7740/7740 [==============================] - 0s 63us/sample - loss: 0.5298 - val_loss: 0.4990\n",
      "Epoch 28/100\n",
      "7740/7740 [==============================] - 0s 64us/sample - loss: 0.5236 - val_loss: 0.4929\n",
      "Epoch 29/100\n",
      "7740/7740 [==============================] - 1s 133us/sample - loss: 0.5175 - val_loss: 0.4875\n",
      "Epoch 30/100\n",
      "7740/7740 [==============================] - 0s 50us/sample - loss: 0.5116 - val_loss: 0.4819\n",
      "Epoch 31/100\n",
      "7740/7740 [==============================] - 1s 67us/sample - loss: 0.5059 - val_loss: 0.4775\n",
      "Epoch 32/100\n",
      "7740/7740 [==============================] - 1s 72us/sample - loss: 0.5005 - val_loss: 0.4727\n",
      "Epoch 33/100\n",
      "7740/7740 [==============================] - 0s 43us/sample - loss: 0.4953 - val_loss: 0.4684\n",
      "Epoch 34/100\n",
      "7740/7740 [==============================] - 0s 45us/sample - loss: 0.4902 - val_loss: 0.4652\n",
      "Epoch 35/100\n",
      "7740/7740 [==============================] - 0s 45us/sample - loss: 0.4856 - val_loss: 0.4610\n",
      "Epoch 36/100\n",
      "7740/7740 [==============================] - 0s 47us/sample - loss: 0.4811 - val_loss: 0.4579\n",
      "Epoch 37/100\n",
      "7740/7740 [==============================] - 0s 41us/sample - loss: 0.4768 - val_loss: 0.4553\n",
      "Epoch 38/100\n",
      "7740/7740 [==============================] - 0s 42us/sample - loss: 0.4728 - val_loss: 0.4532\n",
      "Epoch 39/100\n",
      "7740/7740 [==============================] - 0s 47us/sample - loss: 0.4689 - val_loss: 0.4517\n",
      "Epoch 40/100\n",
      "7740/7740 [==============================] - 0s 50us/sample - loss: 0.4653 - val_loss: 0.4492\n",
      "Epoch 41/100\n",
      "7740/7740 [==============================] - 1s 102us/sample - loss: 0.4618 - val_loss: 0.4478\n",
      "Epoch 42/100\n",
      "7740/7740 [==============================] - 1s 91us/sample - loss: 0.4586 - val_loss: 0.4464\n",
      "Epoch 43/100\n",
      "7740/7740 [==============================] - 0s 60us/sample - loss: 0.4554 - val_loss: 0.4451\n",
      "Epoch 44/100\n",
      "7740/7740 [==============================] - 0s 49us/sample - loss: 0.4525 - val_loss: 0.4445\n",
      "Epoch 45/100\n",
      "7740/7740 [==============================] - 0s 44us/sample - loss: 0.4496 - val_loss: 0.4439\n",
      "Epoch 46/100\n",
      "7740/7740 [==============================] - 0s 45us/sample - loss: 0.4470 - val_loss: 0.4439\n",
      "Epoch 47/100\n",
      "7740/7740 [==============================] - 0s 49us/sample - loss: 0.4445 - val_loss: 0.4430\n",
      "Epoch 48/100\n",
      "7740/7740 [==============================] - 0s 45us/sample - loss: 0.4421 - val_loss: 0.4435\n",
      "Epoch 49/100\n",
      "7740/7740 [==============================] - 0s 50us/sample - loss: 0.4398 - val_loss: 0.4437\n",
      "Epoch 50/100\n",
      "7740/7740 [==============================] - 0s 46us/sample - loss: 0.4376 - val_loss: 0.4440\n",
      "Epoch 51/100\n",
      "7740/7740 [==============================] - 0s 49us/sample - loss: 0.4354 - val_loss: 0.4437\n",
      "Epoch 52/100\n",
      "7740/7740 [==============================] - 0s 46us/sample - loss: 0.4335 - val_loss: 0.4447\n",
      "Epoch 53/100\n",
      "7740/7740 [==============================] - 0s 62us/sample - loss: 0.4315 - val_loss: 0.4446\n",
      "Epoch 54/100\n",
      "7740/7740 [==============================] - 1s 68us/sample - loss: 0.4297 - val_loss: 0.4453\n",
      "Epoch 55/100\n",
      "7740/7740 [==============================] - 0s 59us/sample - loss: 0.4280 - val_loss: 0.4471\n",
      "Epoch 56/100\n",
      "7740/7740 [==============================] - 0s 50us/sample - loss: 0.4263 - val_loss: 0.4492\n",
      "Epoch 57/100\n",
      "7740/7740 [==============================] - 0s 41us/sample - loss: 0.4246 - val_loss: 0.4486\n",
      "3870/3870 [==============================] - 0s 18us/sample - loss: 0.4258\n",
      "[CV]  learning_rate=0.00030107783636342726, n_hidden=3, n_neurons=21, total=  27.4s\n",
      "[CV] learning_rate=0.005153286333701512, n_hidden=1, n_neurons=22 ....\n",
      "Train on 7740 samples, validate on 3870 samples\n",
      "Epoch 1/100\n",
      "7740/7740 [==============================] - 0s 62us/sample - loss: 1.4845 - val_loss: 35.5339\n",
      "Epoch 2/100\n",
      "7740/7740 [==============================] - 0s 41us/sample - loss: 0.8461 - val_loss: 0.5467\n",
      "Epoch 3/100\n",
      "7740/7740 [==============================] - 0s 39us/sample - loss: 0.5170 - val_loss: 0.4691\n",
      "Epoch 4/100\n",
      "7740/7740 [==============================] - 0s 46us/sample - loss: 0.4755 - val_loss: 0.4427\n",
      "Epoch 5/100\n",
      "7740/7740 [==============================] - 0s 45us/sample - loss: 0.4501 - val_loss: 0.4391\n",
      "Epoch 6/100\n",
      "7740/7740 [==============================] - 0s 40us/sample - loss: 0.4353 - val_loss: 0.4316\n",
      "Epoch 7/100\n",
      "7740/7740 [==============================] - 0s 38us/sample - loss: 0.4246 - val_loss: 0.4399\n",
      "Epoch 8/100\n",
      "7740/7740 [==============================] - 0s 41us/sample - loss: 0.4170 - val_loss: 0.4396\n",
      "Epoch 9/100\n",
      "7740/7740 [==============================] - 0s 44us/sample - loss: 0.4120 - val_loss: 0.4404\n",
      "Epoch 10/100\n",
      "7740/7740 [==============================] - 0s 42us/sample - loss: 0.4074 - val_loss: 0.4411\n",
      "Epoch 11/100\n",
      "7740/7740 [==============================] - 0s 44us/sample - loss: 0.4038 - val_loss: 0.4408\n",
      "Epoch 12/100\n",
      "7740/7740 [==============================] - 0s 41us/sample - loss: 0.4013 - val_loss: 0.4403\n",
      "Epoch 13/100\n",
      "7740/7740 [==============================] - 0s 38us/sample - loss: 0.3988 - val_loss: 0.4407\n",
      "Epoch 14/100\n",
      "7740/7740 [==============================] - 0s 43us/sample - loss: 0.3962 - val_loss: 0.4424\n",
      "Epoch 15/100\n",
      "7740/7740 [==============================] - 0s 37us/sample - loss: 0.3945 - val_loss: 0.4410\n",
      "Epoch 16/100\n",
      "7740/7740 [==============================] - 0s 39us/sample - loss: 0.3931 - val_loss: 0.4383\n",
      "3870/3870 [==============================] - 0s 18us/sample - loss: 0.3994\n",
      "[CV]  learning_rate=0.005153286333701512, n_hidden=1, n_neurons=22, total=   5.4s\n",
      "[CV] learning_rate=0.005153286333701512, n_hidden=1, n_neurons=22 ....\n",
      "Train on 7740 samples, validate on 3870 samples\n",
      "Epoch 1/100\n",
      "7740/7740 [==============================] - 1s 67us/sample - loss: 1.2414 - val_loss: 0.6622\n",
      "Epoch 2/100\n",
      "7740/7740 [==============================] - 0s 38us/sample - loss: 0.5775 - val_loss: 0.9135\n",
      "Epoch 3/100\n",
      "7740/7740 [==============================] - 0s 39us/sample - loss: 0.5142 - val_loss: 1.3277\n",
      "Epoch 4/100\n",
      "7740/7740 [==============================] - 0s 37us/sample - loss: 0.4808 - val_loss: 1.0918\n",
      "Epoch 5/100\n",
      "7740/7740 [==============================] - 0s 37us/sample - loss: 0.4607 - val_loss: 0.9326\n",
      "Epoch 6/100\n",
      "7740/7740 [==============================] - 0s 38us/sample - loss: 0.4453 - val_loss: 0.6336\n",
      "Epoch 7/100\n",
      "7740/7740 [==============================] - 0s 40us/sample - loss: 0.4315 - val_loss: 0.5175\n",
      "Epoch 8/100\n",
      "7740/7740 [==============================] - 0s 37us/sample - loss: 0.4235 - val_loss: 0.4141\n",
      "Epoch 9/100\n",
      "7740/7740 [==============================] - 0s 37us/sample - loss: 0.4159 - val_loss: 0.3806\n",
      "Epoch 10/100\n",
      "7740/7740 [==============================] - 0s 39us/sample - loss: 0.4089 - val_loss: 0.3892\n",
      "Epoch 11/100\n",
      "7740/7740 [==============================] - 0s 38us/sample - loss: 0.4051 - val_loss: 0.4235\n",
      "Epoch 12/100\n",
      "7740/7740 [==============================] - 0s 39us/sample - loss: 0.3998 - val_loss: 0.4262\n",
      "Epoch 13/100\n"
     ]
    },
    {
     "name": "stdout",
     "output_type": "stream",
     "text": [
      "7740/7740 [==============================] - 0s 37us/sample - loss: 0.3988 - val_loss: 0.4753\n",
      "Epoch 14/100\n",
      "7740/7740 [==============================] - 0s 38us/sample - loss: 0.3943 - val_loss: 0.5508\n",
      "Epoch 15/100\n",
      "7740/7740 [==============================] - 0s 37us/sample - loss: 0.3902 - val_loss: 0.5443\n",
      "Epoch 16/100\n",
      "7740/7740 [==============================] - 0s 37us/sample - loss: 0.3896 - val_loss: 0.6561\n",
      "Epoch 17/100\n",
      "7740/7740 [==============================] - 0s 37us/sample - loss: 0.3867 - val_loss: 0.6874\n",
      "Epoch 18/100\n",
      "7740/7740 [==============================] - 0s 38us/sample - loss: 0.3837 - val_loss: 0.7188\n",
      "Epoch 19/100\n",
      "7740/7740 [==============================] - 0s 36us/sample - loss: 0.3818 - val_loss: 0.6562\n",
      "3870/3870 [==============================] - 0s 19us/sample - loss: 0.3968\n",
      "[CV]  learning_rate=0.005153286333701512, n_hidden=1, n_neurons=22, total=   5.9s\n",
      "[CV] learning_rate=0.005153286333701512, n_hidden=1, n_neurons=22 ....\n",
      "Train on 7740 samples, validate on 3870 samples\n",
      "Epoch 1/100\n",
      "7740/7740 [==============================] - 0s 61us/sample - loss: 1.6836 - val_loss: 51.2996\n",
      "Epoch 2/100\n",
      "7740/7740 [==============================] - 0s 37us/sample - loss: 0.9003 - val_loss: 0.5389\n",
      "Epoch 3/100\n",
      "7740/7740 [==============================] - 0s 39us/sample - loss: 0.5341 - val_loss: 0.4896\n",
      "Epoch 4/100\n",
      "7740/7740 [==============================] - 0s 38us/sample - loss: 0.4987 - val_loss: 0.4567\n",
      "Epoch 5/100\n",
      "7740/7740 [==============================] - 0s 37us/sample - loss: 0.4742 - val_loss: 0.4354\n",
      "Epoch 6/100\n",
      "7740/7740 [==============================] - 0s 36us/sample - loss: 0.4585 - val_loss: 0.4215\n",
      "Epoch 7/100\n",
      "7740/7740 [==============================] - 0s 40us/sample - loss: 0.4479 - val_loss: 0.4123\n",
      "Epoch 8/100\n",
      "7740/7740 [==============================] - 0s 40us/sample - loss: 0.4401 - val_loss: 0.4088\n",
      "Epoch 9/100\n",
      "7740/7740 [==============================] - 0s 50us/sample - loss: 0.4336 - val_loss: 0.4047\n",
      "Epoch 10/100\n",
      "7740/7740 [==============================] - 0s 49us/sample - loss: 0.4284 - val_loss: 0.4023\n",
      "Epoch 11/100\n",
      "7740/7740 [==============================] - 0s 45us/sample - loss: 0.4241 - val_loss: 0.4012\n",
      "Epoch 12/100\n",
      "7740/7740 [==============================] - 0s 43us/sample - loss: 0.4208 - val_loss: 0.4043\n",
      "Epoch 13/100\n",
      "7740/7740 [==============================] - 0s 42us/sample - loss: 0.4175 - val_loss: 0.4022\n",
      "Epoch 14/100\n",
      "7740/7740 [==============================] - 0s 41us/sample - loss: 0.4147 - val_loss: 0.4040\n",
      "Epoch 15/100\n",
      "7740/7740 [==============================] - 0s 40us/sample - loss: 0.4124 - val_loss: 0.4049\n",
      "Epoch 16/100\n",
      "7740/7740 [==============================] - 0s 44us/sample - loss: 0.4098 - val_loss: 0.4034\n",
      "Epoch 17/100\n",
      "7740/7740 [==============================] - 0s 40us/sample - loss: 0.4073 - val_loss: 0.4036\n",
      "Epoch 18/100\n",
      "7740/7740 [==============================] - 0s 46us/sample - loss: 0.4050 - val_loss: 0.4038\n",
      "Epoch 19/100\n",
      "7740/7740 [==============================] - 0s 39us/sample - loss: 0.4031 - val_loss: 0.4000\n",
      "Epoch 20/100\n",
      "7740/7740 [==============================] - 0s 42us/sample - loss: 0.4014 - val_loss: 0.4091\n",
      "Epoch 21/100\n",
      "7740/7740 [==============================] - 0s 38us/sample - loss: 0.3995 - val_loss: 0.4060\n",
      "Epoch 22/100\n",
      "7740/7740 [==============================] - 0s 38us/sample - loss: 0.3979 - val_loss: 0.4134\n",
      "Epoch 23/100\n",
      "7740/7740 [==============================] - 0s 41us/sample - loss: 0.3958 - val_loss: 0.4069\n",
      "Epoch 24/100\n",
      "7740/7740 [==============================] - 0s 38us/sample - loss: 0.3941 - val_loss: 0.4115\n",
      "Epoch 25/100\n",
      "7740/7740 [==============================] - 0s 41us/sample - loss: 0.3928 - val_loss: 0.4106\n",
      "Epoch 26/100\n",
      "7740/7740 [==============================] - 0s 40us/sample - loss: 0.3914 - val_loss: 0.4099\n",
      "Epoch 27/100\n",
      "7740/7740 [==============================] - 0s 40us/sample - loss: 0.3899 - val_loss: 0.4136\n",
      "Epoch 28/100\n",
      "7740/7740 [==============================] - 0s 41us/sample - loss: 0.3890 - val_loss: 0.4096\n",
      "Epoch 29/100\n",
      "7740/7740 [==============================] - 0s 37us/sample - loss: 0.3879 - val_loss: 0.4087\n",
      "3870/3870 [==============================] - 0s 19us/sample - loss: 0.3854\n",
      "[CV]  learning_rate=0.005153286333701512, n_hidden=1, n_neurons=22, total=   9.5s\n",
      "[CV] learning_rate=0.0003099230412972121, n_hidden=0, n_neurons=49 ...\n",
      "Train on 7740 samples, validate on 3870 samples\n",
      "Epoch 1/100\n",
      "7740/7740 [==============================] - 0s 60us/sample - loss: 7.7217 - val_loss: 43.0506\n",
      "Epoch 2/100\n",
      "7740/7740 [==============================] - 0s 36us/sample - loss: 5.5388 - val_loss: 27.4292\n",
      "Epoch 3/100\n",
      "7740/7740 [==============================] - 0s 37us/sample - loss: 4.0672 - val_loss: 17.4115\n",
      "Epoch 4/100\n",
      "7740/7740 [==============================] - 0s 36us/sample - loss: 3.0653 - val_loss: 11.0238\n",
      "Epoch 5/100\n",
      "7740/7740 [==============================] - 0s 38us/sample - loss: 2.3732 - val_loss: 7.0240\n",
      "Epoch 6/100\n",
      "7740/7740 [==============================] - 0s 36us/sample - loss: 1.8924 - val_loss: 4.5011\n",
      "Epoch 7/100\n",
      "7740/7740 [==============================] - 0s 37us/sample - loss: 1.5535 - val_loss: 2.9137\n",
      "Epoch 8/100\n",
      "7740/7740 [==============================] - 0s 37us/sample - loss: 1.3132 - val_loss: 1.9725\n",
      "Epoch 9/100\n",
      "7740/7740 [==============================] - 0s 37us/sample - loss: 1.1424 - val_loss: 1.4086\n",
      "Epoch 10/100\n",
      "7740/7740 [==============================] - 0s 36us/sample - loss: 1.0195 - val_loss: 1.0738\n",
      "Epoch 11/100\n",
      "7740/7740 [==============================] - 0s 35us/sample - loss: 0.9299 - val_loss: 0.8882\n",
      "Epoch 12/100\n",
      "7740/7740 [==============================] - 0s 34us/sample - loss: 0.8642 - val_loss: 0.7914\n",
      "Epoch 13/100\n",
      "7740/7740 [==============================] - 0s 34us/sample - loss: 0.8156 - val_loss: 0.7516\n",
      "Epoch 14/100\n",
      "7740/7740 [==============================] - 0s 34us/sample - loss: 0.7794 - val_loss: 0.7475\n",
      "Epoch 15/100\n",
      "7740/7740 [==============================] - 0s 34us/sample - loss: 0.7520 - val_loss: 0.7645\n",
      "Epoch 16/100\n",
      "7740/7740 [==============================] - 0s 34us/sample - loss: 0.7311 - val_loss: 0.7813\n",
      "Epoch 17/100\n",
      "7740/7740 [==============================] - 0s 34us/sample - loss: 0.7149 - val_loss: 0.8135\n",
      "Epoch 18/100\n",
      "7740/7740 [==============================] - 0s 34us/sample - loss: 0.7023 - val_loss: 0.8417\n",
      "Epoch 19/100\n",
      "7740/7740 [==============================] - 0s 33us/sample - loss: 0.6923 - val_loss: 0.8599\n",
      "Epoch 20/100\n",
      "7740/7740 [==============================] - 0s 33us/sample - loss: 0.6841 - val_loss: 0.8713\n",
      "Epoch 21/100\n",
      "7740/7740 [==============================] - 0s 33us/sample - loss: 0.6773 - val_loss: 0.8857\n",
      "Epoch 22/100\n",
      "7740/7740 [==============================] - 0s 33us/sample - loss: 0.6715 - val_loss: 0.9026\n",
      "Epoch 23/100\n",
      "7740/7740 [==============================] - 0s 34us/sample - loss: 0.6664 - val_loss: 0.9227\n",
      "Epoch 24/100\n",
      "7740/7740 [==============================] - 0s 34us/sample - loss: 0.6621 - val_loss: 0.9242\n",
      "3870/3870 [==============================] - 0s 16us/sample - loss: 0.6633\n",
      "[CV]  learning_rate=0.0003099230412972121, n_hidden=0, n_neurons=49, total=   6.9s\n",
      "[CV] learning_rate=0.0003099230412972121, n_hidden=0, n_neurons=49 ...\n",
      "Train on 7740 samples, validate on 3870 samples\n",
      "Epoch 1/100\n",
      "7740/7740 [==============================] - 0s 57us/sample - loss: 7.6319 - val_loss: 25.5299\n",
      "Epoch 2/100\n",
      "7740/7740 [==============================] - 0s 37us/sample - loss: 5.6945 - val_loss: 23.7997\n",
      "Epoch 3/100\n",
      "7740/7740 [==============================] - 0s 36us/sample - loss: 4.3241 - val_loss: 22.5858\n",
      "Epoch 4/100\n",
      "7740/7740 [==============================] - 0s 37us/sample - loss: 3.3431 - val_loss: 21.7425\n",
      "Epoch 5/100\n",
      "7740/7740 [==============================] - 0s 34us/sample - loss: 2.6344 - val_loss: 21.1466\n",
      "Epoch 6/100\n",
      "7740/7740 [==============================] - 0s 37us/sample - loss: 2.1176 - val_loss: 20.7281\n",
      "Epoch 7/100\n",
      "7740/7740 [==============================] - 0s 36us/sample - loss: 1.7381 - val_loss: 20.4354\n",
      "Epoch 8/100\n",
      "7740/7740 [==============================] - 0s 37us/sample - loss: 1.4574 - val_loss: 20.2416\n",
      "Epoch 9/100\n",
      "7740/7740 [==============================] - 0s 44us/sample - loss: 1.2484 - val_loss: 20.1131\n",
      "Epoch 10/100\n"
     ]
    },
    {
     "name": "stdout",
     "output_type": "stream",
     "text": [
      "7740/7740 [==============================] - 0s 44us/sample - loss: 1.0921 - val_loss: 20.0378\n",
      "Epoch 11/100\n",
      "7740/7740 [==============================] - 0s 37us/sample - loss: 0.9744 - val_loss: 19.9971\n",
      "Epoch 12/100\n",
      "7740/7740 [==============================] - 0s 36us/sample - loss: 0.8855 - val_loss: 19.9839\n",
      "Epoch 13/100\n",
      "7740/7740 [==============================] - 0s 37us/sample - loss: 0.8178 - val_loss: 19.9964\n",
      "Epoch 14/100\n",
      "7740/7740 [==============================] - 0s 47us/sample - loss: 0.7659 - val_loss: 20.0215\n",
      "Epoch 15/100\n",
      "7740/7740 [==============================] - 0s 42us/sample - loss: 0.7260 - val_loss: 20.0579\n",
      "Epoch 16/100\n",
      "7740/7740 [==============================] - 0s 38us/sample - loss: 0.6950 - val_loss: 20.1105\n",
      "Epoch 17/100\n",
      "7740/7740 [==============================] - 0s 44us/sample - loss: 0.6709 - val_loss: 20.1648\n",
      "Epoch 18/100\n",
      "7740/7740 [==============================] - 0s 37us/sample - loss: 0.6518 - val_loss: 20.2247\n",
      "Epoch 19/100\n",
      "7740/7740 [==============================] - 0s 35us/sample - loss: 0.6366 - val_loss: 20.2845\n",
      "Epoch 20/100\n",
      "7740/7740 [==============================] - 0s 36us/sample - loss: 0.6245 - val_loss: 20.3550\n",
      "Epoch 21/100\n",
      "7740/7740 [==============================] - 0s 36us/sample - loss: 0.6147 - val_loss: 20.4260\n",
      "Epoch 22/100\n",
      "7740/7740 [==============================] - 0s 35us/sample - loss: 0.6067 - val_loss: 20.4958\n",
      "3870/3870 [==============================] - 0s 17us/sample - loss: 1.0972\n",
      "[CV]  learning_rate=0.0003099230412972121, n_hidden=0, n_neurons=49, total=   6.8s\n",
      "[CV] learning_rate=0.0003099230412972121, n_hidden=0, n_neurons=49 ...\n",
      "Train on 7740 samples, validate on 3870 samples\n",
      "Epoch 1/100\n",
      "7740/7740 [==============================] - 0s 59us/sample - loss: 6.1534 - val_loss: 7.6082\n",
      "Epoch 2/100\n",
      "7740/7740 [==============================] - 0s 37us/sample - loss: 4.4875 - val_loss: 4.9014\n",
      "Epoch 3/100\n",
      "7740/7740 [==============================] - 0s 37us/sample - loss: 3.3698 - val_loss: 3.2853\n",
      "Epoch 4/100\n",
      "7740/7740 [==============================] - 0s 38us/sample - loss: 2.6022 - val_loss: 2.3426\n",
      "Epoch 5/100\n",
      "7740/7740 [==============================] - 0s 36us/sample - loss: 2.0664 - val_loss: 1.7733\n",
      "Epoch 6/100\n",
      "7740/7740 [==============================] - 1s 65us/sample - loss: 1.6865 - val_loss: 1.4371\n",
      "Epoch 7/100\n",
      "7740/7740 [==============================] - 0s 39us/sample - loss: 1.4144 - val_loss: 1.2377\n",
      "Epoch 8/100\n",
      "7740/7740 [==============================] - 0s 36us/sample - loss: 1.2173 - val_loss: 1.1218\n",
      "Epoch 9/100\n",
      "7740/7740 [==============================] - 0s 36us/sample - loss: 1.0732 - val_loss: 1.0580\n",
      "Epoch 10/100\n",
      "7740/7740 [==============================] - 0s 36us/sample - loss: 0.9674 - val_loss: 1.0234\n",
      "Epoch 11/100\n",
      "7740/7740 [==============================] - 0s 35us/sample - loss: 0.8892 - val_loss: 0.9967\n",
      "Epoch 12/100\n",
      "7740/7740 [==============================] - 0s 35us/sample - loss: 0.8310 - val_loss: 0.9828\n",
      "Epoch 13/100\n",
      "7740/7740 [==============================] - 0s 35us/sample - loss: 0.7874 - val_loss: 0.9636\n",
      "Epoch 14/100\n",
      "7740/7740 [==============================] - 0s 35us/sample - loss: 0.7544 - val_loss: 0.9520\n",
      "Epoch 15/100\n",
      "7740/7740 [==============================] - 0s 35us/sample - loss: 0.7294 - val_loss: 0.9401\n",
      "Epoch 16/100\n",
      "7740/7740 [==============================] - 0s 35us/sample - loss: 0.7101 - val_loss: 0.9402\n",
      "Epoch 17/100\n",
      "7740/7740 [==============================] - 0s 35us/sample - loss: 0.6951 - val_loss: 0.9493\n",
      "Epoch 18/100\n",
      "7740/7740 [==============================] - 0s 34us/sample - loss: 0.6833 - val_loss: 0.9449\n",
      "Epoch 19/100\n",
      "7740/7740 [==============================] - 0s 36us/sample - loss: 0.6738 - val_loss: 0.9472\n",
      "Epoch 20/100\n",
      "7740/7740 [==============================] - 0s 36us/sample - loss: 0.6660 - val_loss: 0.9560\n",
      "Epoch 21/100\n",
      "7740/7740 [==============================] - 0s 35us/sample - loss: 0.6597 - val_loss: 0.9580\n",
      "Epoch 22/100\n",
      "7740/7740 [==============================] - 0s 34us/sample - loss: 0.6543 - val_loss: 0.9593\n",
      "Epoch 23/100\n",
      "7740/7740 [==============================] - 0s 33us/sample - loss: 0.6496 - val_loss: 0.9608\n",
      "Epoch 24/100\n",
      "7740/7740 [==============================] - 0s 34us/sample - loss: 0.6456 - val_loss: 0.9579\n",
      "Epoch 25/100\n",
      "7740/7740 [==============================] - 0s 35us/sample - loss: 0.6419 - val_loss: 0.9564\n",
      "3870/3870 [==============================] - 0s 16us/sample - loss: 0.6453\n",
      "[CV]  learning_rate=0.0003099230412972121, n_hidden=0, n_neurons=49, total=   7.5s\n",
      "[CV] learning_rate=0.0033625641252688094, n_hidden=2, n_neurons=42 ...\n",
      "Train on 7740 samples, validate on 3870 samples\n",
      "Epoch 1/100\n",
      "7740/7740 [==============================] - 0s 64us/sample - loss: 1.3940 - val_loss: 12.7105\n",
      "Epoch 2/100\n",
      "7740/7740 [==============================] - 0s 41us/sample - loss: 0.7302 - val_loss: 4.0264\n",
      "Epoch 3/100\n",
      "7740/7740 [==============================] - 0s 39us/sample - loss: 0.5546 - val_loss: 0.6581\n",
      "Epoch 4/100\n",
      "7740/7740 [==============================] - 0s 38us/sample - loss: 0.4725 - val_loss: 0.4863\n",
      "Epoch 5/100\n",
      "7740/7740 [==============================] - 0s 43us/sample - loss: 0.4407 - val_loss: 0.4827\n",
      "Epoch 6/100\n",
      "7740/7740 [==============================] - 0s 43us/sample - loss: 0.4230 - val_loss: 0.4355\n",
      "Epoch 7/100\n",
      "7740/7740 [==============================] - 0s 41us/sample - loss: 0.4089 - val_loss: 0.4474\n",
      "Epoch 8/100\n",
      "7740/7740 [==============================] - 0s 40us/sample - loss: 0.4005 - val_loss: 0.4165\n",
      "Epoch 9/100\n",
      "7740/7740 [==============================] - 0s 41us/sample - loss: 0.3942 - val_loss: 0.4195\n",
      "Epoch 10/100\n",
      "7740/7740 [==============================] - 0s 40us/sample - loss: 0.3864 - val_loss: 0.4090\n",
      "Epoch 11/100\n",
      "7740/7740 [==============================] - 0s 39us/sample - loss: 0.3800 - val_loss: 0.3859\n",
      "Epoch 12/100\n",
      "7740/7740 [==============================] - 0s 39us/sample - loss: 0.3767 - val_loss: 0.3827\n",
      "Epoch 13/100\n",
      "7740/7740 [==============================] - 0s 39us/sample - loss: 0.3722 - val_loss: 0.3834\n",
      "Epoch 14/100\n",
      "7740/7740 [==============================] - 0s 39us/sample - loss: 0.3676 - val_loss: 0.3921\n",
      "Epoch 15/100\n",
      "7740/7740 [==============================] - 0s 41us/sample - loss: 0.3643 - val_loss: 0.3808\n",
      "Epoch 16/100\n",
      "7740/7740 [==============================] - 0s 41us/sample - loss: 0.3632 - val_loss: 0.3849\n",
      "Epoch 17/100\n",
      "7740/7740 [==============================] - 0s 41us/sample - loss: 0.3595 - val_loss: 0.3894\n",
      "Epoch 18/100\n",
      "7740/7740 [==============================] - 0s 41us/sample - loss: 0.3570 - val_loss: 0.3844\n",
      "Epoch 19/100\n",
      "7740/7740 [==============================] - 0s 41us/sample - loss: 0.3560 - val_loss: 0.3801\n",
      "Epoch 20/100\n",
      "7740/7740 [==============================] - 0s 40us/sample - loss: 0.3534 - val_loss: 0.3620\n",
      "Epoch 21/100\n",
      "7740/7740 [==============================] - 0s 39us/sample - loss: 0.3507 - val_loss: 0.3653\n",
      "Epoch 22/100\n",
      "7740/7740 [==============================] - 0s 42us/sample - loss: 0.3495 - val_loss: 0.3751\n",
      "Epoch 23/100\n",
      "7740/7740 [==============================] - 0s 41us/sample - loss: 0.3480 - val_loss: 0.3661\n",
      "Epoch 24/100\n",
      "7740/7740 [==============================] - 0s 40us/sample - loss: 0.3457 - val_loss: 0.3620\n",
      "Epoch 25/100\n",
      "7740/7740 [==============================] - 0s 41us/sample - loss: 0.3439 - val_loss: 0.3773\n",
      "Epoch 26/100\n",
      "7740/7740 [==============================] - 0s 42us/sample - loss: 0.3441 - val_loss: 0.3463\n",
      "Epoch 27/100\n",
      "7740/7740 [==============================] - 0s 41us/sample - loss: 0.3432 - val_loss: 0.3723\n",
      "Epoch 28/100\n",
      "7740/7740 [==============================] - 0s 40us/sample - loss: 0.3405 - val_loss: 0.3710\n",
      "Epoch 29/100\n",
      "7740/7740 [==============================] - 0s 40us/sample - loss: 0.3384 - val_loss: 0.3462\n",
      "Epoch 30/100\n",
      "7740/7740 [==============================] - 0s 40us/sample - loss: 0.3375 - val_loss: 0.3574\n",
      "Epoch 31/100\n",
      "7740/7740 [==============================] - 0s 42us/sample - loss: 0.3359 - val_loss: 0.3712\n",
      "Epoch 32/100\n",
      "7740/7740 [==============================] - 0s 39us/sample - loss: 0.3349 - val_loss: 0.3750\n",
      "Epoch 33/100\n",
      "7740/7740 [==============================] - 0s 38us/sample - loss: 0.3345 - val_loss: 0.3333\n",
      "Epoch 34/100\n",
      "7740/7740 [==============================] - 0s 39us/sample - loss: 0.3332 - val_loss: 0.3516\n",
      "Epoch 35/100\n",
      "7740/7740 [==============================] - 0s 40us/sample - loss: 0.3315 - val_loss: 0.3521\n",
      "Epoch 36/100\n",
      "7740/7740 [==============================] - 0s 40us/sample - loss: 0.3310 - val_loss: 0.3373\n",
      "Epoch 37/100\n",
      "7740/7740 [==============================] - 0s 40us/sample - loss: 0.3300 - val_loss: 0.3442\n",
      "Epoch 38/100\n",
      "7740/7740 [==============================] - 0s 39us/sample - loss: 0.3284 - val_loss: 0.3440\n",
      "Epoch 39/100\n",
      "7740/7740 [==============================] - 0s 39us/sample - loss: 0.3280 - val_loss: 0.3466\n",
      "Epoch 40/100\n",
      "7740/7740 [==============================] - 0s 38us/sample - loss: 0.3275 - val_loss: 0.3503\n",
      "Epoch 41/100\n",
      "7740/7740 [==============================] - 0s 39us/sample - loss: 0.3269 - val_loss: 0.3352\n",
      "Epoch 42/100\n",
      "7740/7740 [==============================] - 0s 38us/sample - loss: 0.3261 - val_loss: 0.3405\n",
      "Epoch 43/100\n",
      "7740/7740 [==============================] - 0s 39us/sample - loss: 0.3250 - val_loss: 0.3611\n",
      "3870/3870 [==============================] - 0s 18us/sample - loss: 0.3648\n",
      "[CV]  learning_rate=0.0033625641252688094, n_hidden=2, n_neurons=42, total=  13.7s\n",
      "[CV] learning_rate=0.0033625641252688094, n_hidden=2, n_neurons=42 ...\n",
      "Train on 7740 samples, validate on 3870 samples\n",
      "Epoch 1/100\n",
      "7740/7740 [==============================] - 1s 90us/sample - loss: 1.1931 - val_loss: 0.9394\n",
      "Epoch 2/100\n",
      "7740/7740 [==============================] - 0s 42us/sample - loss: 0.6049 - val_loss: 0.8525\n",
      "Epoch 3/100\n",
      "7740/7740 [==============================] - 0s 42us/sample - loss: 0.5370 - val_loss: 1.1657\n",
      "Epoch 4/100\n",
      "7740/7740 [==============================] - 0s 44us/sample - loss: 0.4909 - val_loss: 0.9411\n",
      "Epoch 5/100\n",
      "7740/7740 [==============================] - 0s 43us/sample - loss: 0.4622 - val_loss: 0.7834\n",
      "Epoch 6/100\n",
      "7740/7740 [==============================] - 0s 38us/sample - loss: 0.4407 - val_loss: 0.5922\n",
      "Epoch 7/100\n",
      "7740/7740 [==============================] - 0s 38us/sample - loss: 0.4252 - val_loss: 0.4672\n",
      "Epoch 8/100\n",
      "7740/7740 [==============================] - 0s 40us/sample - loss: 0.4137 - val_loss: 0.3866\n",
      "Epoch 9/100\n",
      "7740/7740 [==============================] - 0s 40us/sample - loss: 0.4047 - val_loss: 0.3882\n",
      "Epoch 10/100\n",
      "7740/7740 [==============================] - 0s 39us/sample - loss: 0.3967 - val_loss: 0.4710\n",
      "Epoch 11/100\n",
      "7740/7740 [==============================] - 0s 39us/sample - loss: 0.3903 - val_loss: 0.4998\n",
      "Epoch 12/100\n",
      "7740/7740 [==============================] - 0s 38us/sample - loss: 0.3837 - val_loss: 0.6031\n",
      "Epoch 13/100\n",
      "7740/7740 [==============================] - 0s 39us/sample - loss: 0.3797 - val_loss: 0.6998\n",
      "Epoch 14/100\n",
      "7740/7740 [==============================] - 0s 40us/sample - loss: 0.3754 - val_loss: 0.8516\n",
      "Epoch 15/100\n",
      "7740/7740 [==============================] - 0s 41us/sample - loss: 0.3709 - val_loss: 0.7903\n",
      "Epoch 16/100\n",
      "7740/7740 [==============================] - 0s 42us/sample - loss: 0.3683 - val_loss: 0.9818\n",
      "Epoch 17/100\n",
      "7740/7740 [==============================] - 0s 43us/sample - loss: 0.3648 - val_loss: 1.0229\n",
      "Epoch 18/100\n",
      "7740/7740 [==============================] - 0s 40us/sample - loss: 0.3628 - val_loss: 1.0536\n",
      "3870/3870 [==============================] - 0s 18us/sample - loss: 0.3868\n",
      "[CV]  learning_rate=0.0033625641252688094, n_hidden=2, n_neurons=42, total=   6.2s\n",
      "[CV] learning_rate=0.0033625641252688094, n_hidden=2, n_neurons=42 ...\n",
      "Train on 7740 samples, validate on 3870 samples\n",
      "Epoch 1/100\n",
      "7740/7740 [==============================] - 0s 64us/sample - loss: 1.1176 - val_loss: 3.6631\n",
      "Epoch 2/100\n",
      "7740/7740 [==============================] - 0s 42us/sample - loss: 0.7068 - val_loss: 2.4415\n",
      "Epoch 3/100\n",
      "7740/7740 [==============================] - 0s 44us/sample - loss: 0.5988 - val_loss: 0.7542\n",
      "Epoch 4/100\n",
      "7740/7740 [==============================] - 0s 44us/sample - loss: 0.5253 - val_loss: 0.8354\n",
      "Epoch 5/100\n",
      "7740/7740 [==============================] - 0s 42us/sample - loss: 0.4824 - val_loss: 0.4450\n",
      "Epoch 6/100\n",
      "7740/7740 [==============================] - 0s 43us/sample - loss: 0.4547 - val_loss: 0.4508\n",
      "Epoch 7/100\n",
      "7740/7740 [==============================] - 0s 40us/sample - loss: 0.4355 - val_loss: 0.4923\n",
      "Epoch 8/100\n",
      "7740/7740 [==============================] - 0s 41us/sample - loss: 0.4245 - val_loss: 0.4276\n",
      "Epoch 9/100\n",
      "7740/7740 [==============================] - 0s 40us/sample - loss: 0.4133 - val_loss: 0.5228\n",
      "Epoch 10/100\n",
      "7740/7740 [==============================] - 0s 42us/sample - loss: 0.4061 - val_loss: 0.4544\n",
      "Epoch 11/100\n",
      "7740/7740 [==============================] - 0s 40us/sample - loss: 0.3993 - val_loss: 0.3845\n",
      "Epoch 12/100\n",
      "7740/7740 [==============================] - 0s 40us/sample - loss: 0.3928 - val_loss: 0.5825\n",
      "Epoch 13/100\n",
      "7740/7740 [==============================] - 0s 39us/sample - loss: 0.3898 - val_loss: 0.4636\n",
      "Epoch 14/100\n",
      "7740/7740 [==============================] - 0s 39us/sample - loss: 0.3842 - val_loss: 0.6485\n",
      "Epoch 15/100\n",
      "7740/7740 [==============================] - 0s 42us/sample - loss: 0.3808 - val_loss: 0.5205\n",
      "Epoch 16/100\n",
      "7740/7740 [==============================] - 0s 41us/sample - loss: 0.3764 - val_loss: 0.5565\n",
      "Epoch 17/100\n",
      "7740/7740 [==============================] - 0s 41us/sample - loss: 0.3740 - val_loss: 0.3703\n",
      "Epoch 18/100\n",
      "7740/7740 [==============================] - 0s 47us/sample - loss: 0.3700 - val_loss: 0.3460\n",
      "Epoch 19/100\n",
      "7740/7740 [==============================] - 0s 47us/sample - loss: 0.3663 - val_loss: 0.6020\n",
      "Epoch 20/100\n",
      "7740/7740 [==============================] - 0s 49us/sample - loss: 0.3701 - val_loss: 0.5423\n",
      "Epoch 21/100\n",
      "7740/7740 [==============================] - 0s 47us/sample - loss: 0.3631 - val_loss: 0.3545\n",
      "Epoch 22/100\n",
      "7740/7740 [==============================] - 0s 45us/sample - loss: 0.3601 - val_loss: 0.3745\n",
      "Epoch 23/100\n",
      "7740/7740 [==============================] - 0s 45us/sample - loss: 0.3576 - val_loss: 0.3672\n",
      "Epoch 24/100\n",
      "7740/7740 [==============================] - 0s 42us/sample - loss: 0.3553 - val_loss: 0.3775\n",
      "Epoch 25/100\n",
      "7740/7740 [==============================] - 0s 41us/sample - loss: 0.3531 - val_loss: 0.5842\n",
      "Epoch 26/100\n",
      "7740/7740 [==============================] - 0s 39us/sample - loss: 0.3537 - val_loss: 0.3427\n",
      "Epoch 27/100\n",
      "7740/7740 [==============================] - 0s 40us/sample - loss: 0.3499 - val_loss: 0.4517\n",
      "Epoch 28/100\n",
      "7740/7740 [==============================] - 0s 39us/sample - loss: 0.3520 - val_loss: 0.3971\n",
      "Epoch 29/100\n",
      "7740/7740 [==============================] - 0s 40us/sample - loss: 0.3483 - val_loss: 0.3307\n",
      "Epoch 30/100\n",
      "7740/7740 [==============================] - 0s 39us/sample - loss: 0.3481 - val_loss: 0.3352\n",
      "Epoch 31/100\n",
      "7740/7740 [==============================] - 0s 37us/sample - loss: 0.3458 - val_loss: 0.3398\n",
      "Epoch 32/100\n",
      "7740/7740 [==============================] - 0s 38us/sample - loss: 0.3438 - val_loss: 0.5529\n",
      "Epoch 33/100\n",
      "7740/7740 [==============================] - 0s 38us/sample - loss: 0.3440 - val_loss: 0.3624\n",
      "Epoch 34/100\n",
      "7740/7740 [==============================] - 0s 38us/sample - loss: 0.3413 - val_loss: 0.5745\n",
      "Epoch 35/100\n",
      "7740/7740 [==============================] - 0s 37us/sample - loss: 0.3429 - val_loss: 0.3335\n",
      "Epoch 36/100\n",
      "7740/7740 [==============================] - 0s 38us/sample - loss: 0.3395 - val_loss: 0.3256\n",
      "Epoch 37/100\n",
      "7740/7740 [==============================] - 0s 38us/sample - loss: 0.3388 - val_loss: 0.6801\n",
      "Epoch 38/100\n",
      "7740/7740 [==============================] - 0s 37us/sample - loss: 0.3424 - val_loss: 0.3271\n",
      "Epoch 39/100\n",
      "7740/7740 [==============================] - 0s 38us/sample - loss: 0.3362 - val_loss: 0.8728\n",
      "Epoch 40/100\n",
      "7740/7740 [==============================] - 0s 38us/sample - loss: 0.3417 - val_loss: 1.1699\n",
      "Epoch 41/100\n",
      "7740/7740 [==============================] - 0s 38us/sample - loss: 0.3532 - val_loss: 1.4036\n",
      "Epoch 42/100\n",
      "7740/7740 [==============================] - 0s 44us/sample - loss: 0.3477 - val_loss: 0.4005\n",
      "Epoch 43/100\n",
      "7740/7740 [==============================] - 0s 44us/sample - loss: 0.3387 - val_loss: 0.6377\n",
      "Epoch 44/100\n"
     ]
    },
    {
     "name": "stdout",
     "output_type": "stream",
     "text": [
      "7740/7740 [==============================] - 0s 41us/sample - loss: 0.3354 - val_loss: 0.3228\n",
      "Epoch 45/100\n",
      "7740/7740 [==============================] - 0s 44us/sample - loss: 0.3324 - val_loss: 0.4816\n",
      "Epoch 46/100\n",
      "7740/7740 [==============================] - 0s 42us/sample - loss: 0.3331 - val_loss: 0.4228\n",
      "Epoch 47/100\n",
      "7740/7740 [==============================] - 0s 39us/sample - loss: 0.3331 - val_loss: 0.6872\n",
      "Epoch 48/100\n",
      "7740/7740 [==============================] - 0s 40us/sample - loss: 0.3319 - val_loss: 0.3177\n",
      "Epoch 49/100\n",
      "7740/7740 [==============================] - 0s 39us/sample - loss: 0.3295 - val_loss: 0.6891\n",
      "Epoch 50/100\n",
      "7740/7740 [==============================] - 0s 43us/sample - loss: 0.3376 - val_loss: 0.5869\n",
      "Epoch 51/100\n",
      "7740/7740 [==============================] - 0s 38us/sample - loss: 0.3310 - val_loss: 0.5921\n",
      "Epoch 52/100\n",
      "7740/7740 [==============================] - 0s 38us/sample - loss: 0.3296 - val_loss: 0.4285\n",
      "Epoch 53/100\n",
      "7740/7740 [==============================] - 0s 38us/sample - loss: 0.3284 - val_loss: 0.4579\n",
      "Epoch 54/100\n",
      "7740/7740 [==============================] - 0s 38us/sample - loss: 0.3287 - val_loss: 0.3434\n",
      "Epoch 55/100\n",
      "7740/7740 [==============================] - 0s 38us/sample - loss: 0.3288 - val_loss: 0.4285\n",
      "Epoch 56/100\n",
      "7740/7740 [==============================] - 0s 38us/sample - loss: 0.3257 - val_loss: 0.4101\n",
      "Epoch 57/100\n",
      "7740/7740 [==============================] - 0s 39us/sample - loss: 0.3243 - val_loss: 0.3204\n",
      "Epoch 58/100\n",
      "7740/7740 [==============================] - 0s 43us/sample - loss: 0.3236 - val_loss: 0.4966\n",
      "3870/3870 [==============================] - 0s 18us/sample - loss: 0.3270\n",
      "[CV]  learning_rate=0.0033625641252688094, n_hidden=2, n_neurons=42, total=  18.7s\n",
      "Train on 11610 samples, validate on 3870 samples\n",
      "Epoch 1/100\n"
     ]
    },
    {
     "name": "stderr",
     "output_type": "stream",
     "text": [
      "[Parallel(n_jobs=1)]: Done  30 out of  30 | elapsed:  6.8min finished\n"
     ]
    },
    {
     "name": "stdout",
     "output_type": "stream",
     "text": [
      "11610/11610 [==============================] - 1s 54us/sample - loss: 1.0377 - val_loss: 7.6220\n",
      "Epoch 2/100\n",
      "11610/11610 [==============================] - 0s 35us/sample - loss: 0.5969 - val_loss: 0.9913\n",
      "Epoch 3/100\n",
      "11610/11610 [==============================] - 0s 34us/sample - loss: 0.4811 - val_loss: 0.5397\n",
      "Epoch 4/100\n",
      "11610/11610 [==============================] - 0s 39us/sample - loss: 0.4390 - val_loss: 0.4682\n",
      "Epoch 5/100\n",
      "11610/11610 [==============================] - 0s 38us/sample - loss: 0.4160 - val_loss: 0.4983\n",
      "Epoch 6/100\n",
      "11610/11610 [==============================] - 0s 38us/sample - loss: 0.4016 - val_loss: 0.4798\n",
      "Epoch 7/100\n",
      "11610/11610 [==============================] - 0s 39us/sample - loss: 0.3904 - val_loss: 0.4129\n",
      "Epoch 8/100\n",
      "11610/11610 [==============================] - 0s 43us/sample - loss: 0.3833 - val_loss: 0.3919\n",
      "Epoch 9/100\n",
      "11610/11610 [==============================] - 0s 42us/sample - loss: 0.3763 - val_loss: 0.4254\n",
      "Epoch 10/100\n",
      "11610/11610 [==============================] - 0s 36us/sample - loss: 0.3712 - val_loss: 0.3816\n",
      "Epoch 11/100\n",
      "11610/11610 [==============================] - 0s 39us/sample - loss: 0.3667 - val_loss: 0.3635\n",
      "Epoch 12/100\n",
      "11610/11610 [==============================] - 0s 36us/sample - loss: 0.3634 - val_loss: 0.3876\n",
      "Epoch 13/100\n",
      "11610/11610 [==============================] - 0s 38us/sample - loss: 0.3597 - val_loss: 0.3673\n",
      "Epoch 14/100\n",
      "11610/11610 [==============================] - 0s 36us/sample - loss: 0.3566 - val_loss: 0.3628\n",
      "Epoch 15/100\n",
      "11610/11610 [==============================] - 0s 37us/sample - loss: 0.3545 - val_loss: 0.4231\n",
      "Epoch 16/100\n",
      "11610/11610 [==============================] - 0s 35us/sample - loss: 0.3522 - val_loss: 0.3401\n",
      "Epoch 17/100\n",
      "11610/11610 [==============================] - 0s 35us/sample - loss: 0.3503 - val_loss: 0.3538\n",
      "Epoch 18/100\n",
      "11610/11610 [==============================] - 0s 34us/sample - loss: 0.3474 - val_loss: 0.4009\n",
      "Epoch 19/100\n",
      "11610/11610 [==============================] - 0s 34us/sample - loss: 0.3460 - val_loss: 0.3482\n",
      "Epoch 20/100\n",
      "11610/11610 [==============================] - 0s 34us/sample - loss: 0.3443 - val_loss: 0.3754\n",
      "Epoch 21/100\n",
      "11610/11610 [==============================] - 0s 35us/sample - loss: 0.3419 - val_loss: 0.3392\n",
      "Epoch 22/100\n",
      "11610/11610 [==============================] - 0s 34us/sample - loss: 0.3401 - val_loss: 0.3893\n",
      "Epoch 23/100\n",
      "11610/11610 [==============================] - 0s 34us/sample - loss: 0.3392 - val_loss: 0.3254\n",
      "Epoch 24/100\n",
      "11610/11610 [==============================] - 0s 34us/sample - loss: 0.3373 - val_loss: 0.3366\n",
      "Epoch 25/100\n",
      "11610/11610 [==============================] - 0s 35us/sample - loss: 0.3350 - val_loss: 0.3342\n",
      "Epoch 26/100\n",
      "11610/11610 [==============================] - 0s 38us/sample - loss: 0.3340 - val_loss: 0.3495\n",
      "Epoch 27/100\n",
      "11610/11610 [==============================] - 0s 39us/sample - loss: 0.3324 - val_loss: 0.3815\n",
      "Epoch 28/100\n",
      "11610/11610 [==============================] - 0s 34us/sample - loss: 0.3317 - val_loss: 0.3253\n",
      "Epoch 29/100\n",
      "11610/11610 [==============================] - 0s 34us/sample - loss: 0.3296 - val_loss: 0.3951\n",
      "Epoch 30/100\n",
      "11610/11610 [==============================] - 0s 34us/sample - loss: 0.3289 - val_loss: 0.3350\n",
      "Epoch 31/100\n",
      "11610/11610 [==============================] - 0s 40us/sample - loss: 0.3274 - val_loss: 0.3352\n",
      "Epoch 32/100\n",
      "11610/11610 [==============================] - 0s 39us/sample - loss: 0.3268 - val_loss: 0.3239\n",
      "Epoch 33/100\n",
      "11610/11610 [==============================] - 0s 38us/sample - loss: 0.3251 - val_loss: 0.3483\n",
      "Epoch 34/100\n",
      "11610/11610 [==============================] - 0s 37us/sample - loss: 0.3258 - val_loss: 0.3119\n",
      "Epoch 35/100\n",
      "11610/11610 [==============================] - 0s 33us/sample - loss: 0.3233 - val_loss: 0.3698\n",
      "Epoch 36/100\n",
      "11610/11610 [==============================] - 0s 40us/sample - loss: 0.3226 - val_loss: 0.3137\n",
      "Epoch 37/100\n",
      "11610/11610 [==============================] - 0s 35us/sample - loss: 0.3219 - val_loss: 0.3805\n",
      "Epoch 38/100\n",
      "11610/11610 [==============================] - 1s 49us/sample - loss: 0.3204 - val_loss: 0.3194\n",
      "Epoch 39/100\n",
      "11610/11610 [==============================] - 0s 36us/sample - loss: 0.3189 - val_loss: 0.3825\n",
      "Epoch 40/100\n",
      "11610/11610 [==============================] - 0s 36us/sample - loss: 0.3193 - val_loss: 0.3129\n",
      "Epoch 41/100\n",
      "11610/11610 [==============================] - 0s 36us/sample - loss: 0.3182 - val_loss: 0.4012\n",
      "Epoch 42/100\n",
      "11610/11610 [==============================] - 1s 70us/sample - loss: 0.3192 - val_loss: 0.3335\n",
      "Epoch 43/100\n",
      "11610/11610 [==============================] - 0s 39us/sample - loss: 0.3163 - val_loss: 0.3195\n",
      "Epoch 44/100\n",
      "11610/11610 [==============================] - 0s 42us/sample - loss: 0.3163 - val_loss: 0.3050\n",
      "Epoch 45/100\n",
      "11610/11610 [==============================] - 1s 45us/sample - loss: 0.3148 - val_loss: 0.3178\n",
      "Epoch 46/100\n",
      "11610/11610 [==============================] - 1s 56us/sample - loss: 0.3138 - val_loss: 0.3045\n",
      "Epoch 47/100\n",
      "11610/11610 [==============================] - 1s 53us/sample - loss: 0.3119 - val_loss: 0.4014\n",
      "Epoch 48/100\n",
      "11610/11610 [==============================] - 0s 38us/sample - loss: 0.3125 - val_loss: 0.3165\n",
      "Epoch 49/100\n",
      "11610/11610 [==============================] - 0s 35us/sample - loss: 0.3117 - val_loss: 0.3954\n",
      "Epoch 50/100\n",
      "11610/11610 [==============================] - 0s 37us/sample - loss: 0.3107 - val_loss: 0.3036\n",
      "Epoch 51/100\n",
      "11610/11610 [==============================] - 0s 43us/sample - loss: 0.3111 - val_loss: 0.3003\n",
      "Epoch 52/100\n",
      "11610/11610 [==============================] - 0s 39us/sample - loss: 0.3102 - val_loss: 0.3129\n",
      "Epoch 53/100\n",
      "11610/11610 [==============================] - 0s 36us/sample - loss: 0.3089 - val_loss: 0.3299\n",
      "Epoch 54/100\n",
      "11610/11610 [==============================] - 0s 36us/sample - loss: 0.3096 - val_loss: 0.3169\n",
      "Epoch 55/100\n",
      "11610/11610 [==============================] - 0s 37us/sample - loss: 0.3071 - val_loss: 0.3127\n",
      "Epoch 56/100\n",
      "11610/11610 [==============================] - 0s 34us/sample - loss: 0.3078 - val_loss: 0.3646\n",
      "Epoch 57/100\n",
      "11610/11610 [==============================] - 0s 34us/sample - loss: 0.3062 - val_loss: 0.3050\n",
      "Epoch 58/100\n",
      "11610/11610 [==============================] - 0s 34us/sample - loss: 0.3059 - val_loss: 0.3254\n",
      "Epoch 59/100\n",
      "11610/11610 [==============================] - 0s 35us/sample - loss: 0.3047 - val_loss: 0.2995\n",
      "Epoch 60/100\n",
      "11610/11610 [==============================] - 0s 37us/sample - loss: 0.3040 - val_loss: 0.3699\n",
      "Epoch 61/100\n",
      "11610/11610 [==============================] - 0s 36us/sample - loss: 0.3044 - val_loss: 0.3068\n",
      "Epoch 62/100\n",
      "11610/11610 [==============================] - 0s 37us/sample - loss: 0.3033 - val_loss: 0.3872\n",
      "Epoch 63/100\n",
      "11610/11610 [==============================] - 0s 36us/sample - loss: 0.3028 - val_loss: 0.3146\n",
      "Epoch 64/100\n",
      "11610/11610 [==============================] - 0s 36us/sample - loss: 0.3025 - val_loss: 0.3453\n",
      "Epoch 65/100\n",
      "11610/11610 [==============================] - 0s 35us/sample - loss: 0.3019 - val_loss: 0.3169\n",
      "Epoch 66/100\n",
      "11610/11610 [==============================] - 0s 35us/sample - loss: 0.3020 - val_loss: 0.3757\n",
      "Epoch 67/100\n",
      "11610/11610 [==============================] - 0s 38us/sample - loss: 0.3007 - val_loss: 0.3193\n",
      "Epoch 68/100\n",
      "11610/11610 [==============================] - 0s 36us/sample - loss: 0.3002 - val_loss: 0.2979\n",
      "Epoch 69/100\n",
      "11610/11610 [==============================] - 0s 37us/sample - loss: 0.2993 - val_loss: 0.3279\n",
      "Epoch 70/100\n",
      "11610/11610 [==============================] - 0s 38us/sample - loss: 0.2996 - val_loss: 0.3204\n",
      "Epoch 71/100\n",
      "11610/11610 [==============================] - 0s 39us/sample - loss: 0.2976 - val_loss: 0.3259\n",
      "Epoch 72/100\n",
      "11610/11610 [==============================] - 0s 37us/sample - loss: 0.2979 - val_loss: 0.3275\n",
      "Epoch 73/100\n",
      "11610/11610 [==============================] - 0s 36us/sample - loss: 0.2982 - val_loss: 0.3235\n",
      "Epoch 74/100\n",
      "11610/11610 [==============================] - 0s 35us/sample - loss: 0.2971 - val_loss: 0.2947\n",
      "Epoch 75/100\n",
      "11610/11610 [==============================] - 0s 38us/sample - loss: 0.2960 - val_loss: 0.3523\n",
      "Epoch 76/100\n",
      "11610/11610 [==============================] - 0s 37us/sample - loss: 0.2967 - val_loss: 0.3259\n",
      "Epoch 77/100\n",
      "11610/11610 [==============================] - 0s 36us/sample - loss: 0.2962 - val_loss: 0.3409\n",
      "Epoch 78/100\n",
      "11610/11610 [==============================] - 0s 35us/sample - loss: 0.2952 - val_loss: 0.2925\n",
      "Epoch 79/100\n",
      "11610/11610 [==============================] - 0s 34us/sample - loss: 0.2949 - val_loss: 0.3667\n",
      "Epoch 80/100\n",
      "11610/11610 [==============================] - 0s 34us/sample - loss: 0.2948 - val_loss: 0.2954\n",
      "Epoch 81/100\n",
      "11610/11610 [==============================] - 0s 34us/sample - loss: 0.2931 - val_loss: 0.3468\n",
      "Epoch 82/100\n",
      "11610/11610 [==============================] - 0s 34us/sample - loss: 0.2951 - val_loss: 0.3064\n",
      "Epoch 83/100\n",
      "11610/11610 [==============================] - 0s 34us/sample - loss: 0.2932 - val_loss: 0.3054\n",
      "Epoch 84/100\n",
      "11610/11610 [==============================] - 0s 36us/sample - loss: 0.2924 - val_loss: 0.3041\n",
      "Epoch 85/100\n",
      "11610/11610 [==============================] - 0s 36us/sample - loss: 0.2920 - val_loss: 0.3227\n",
      "Epoch 86/100\n",
      "11610/11610 [==============================] - 0s 34us/sample - loss: 0.2922 - val_loss: 0.2982\n",
      "Epoch 87/100\n",
      "11610/11610 [==============================] - 0s 34us/sample - loss: 0.2917 - val_loss: 0.3389\n",
      "Epoch 88/100\n",
      "11610/11610 [==============================] - 0s 34us/sample - loss: 0.2915 - val_loss: 0.3658\n"
     ]
    },
    {
     "data": {
      "text/plain": [
       "RandomizedSearchCV(cv=3, error_score='raise-deprecating',\n",
       "                   estimator=<tensorflow.python.keras.wrappers.scikit_learn.KerasRegressor object at 0x106591550>,\n",
       "                   iid='warn', n_iter=10, n_jobs=None,\n",
       "                   param_distributions={'learning_rate': <scipy.stats._distn_infrastructure.rv_frozen object at 0x143c15d50>,\n",
       "                                        'n_hidden': [0, 1, 2, 3],\n",
       "                                        'n_neurons': array([ 1,  2,  3,  4,  5,  6,  7,  8,  9, 10, 11, 12,...\n",
       "       18, 19, 20, 21, 22, 23, 24, 25, 26, 27, 28, 29, 30, 31, 32, 33, 34,\n",
       "       35, 36, 37, 38, 39, 40, 41, 42, 43, 44, 45, 46, 47, 48, 49, 50, 51,\n",
       "       52, 53, 54, 55, 56, 57, 58, 59, 60, 61, 62, 63, 64, 65, 66, 67, 68,\n",
       "       69, 70, 71, 72, 73, 74, 75, 76, 77, 78, 79, 80, 81, 82, 83, 84, 85,\n",
       "       86, 87, 88, 89, 90, 91, 92, 93, 94, 95, 96, 97, 98, 99])},\n",
       "                   pre_dispatch='2*n_jobs', random_state=None, refit=True,\n",
       "                   return_train_score=False, scoring=None, verbose=2)"
      ]
     },
     "execution_count": 75,
     "metadata": {},
     "output_type": "execute_result"
    }
   ],
   "source": [
    "from scipy.stats import reciprocal\n",
    "from sklearn.model_selection import RandomizedSearchCV\n",
    "\n",
    "param_distribs = {\n",
    "    \"n_hidden\": [0, 1, 2, 3],\n",
    "    \"n_neurons\": np.arange(1, 100),\n",
    "    \"learning_rate\": reciprocal(3e-4, 3e-2),\n",
    "}\n",
    "\n",
    "rnd_search_cv = RandomizedSearchCV(keras_reg, param_distribs, n_iter=10, cv=3, verbose=2)\n",
    "rnd_search_cv.fit(X_train, y_train, epochs=100,\n",
    "                  validation_data=(X_valid, y_valid),\n",
    "                  callbacks=[keras.callbacks.EarlyStopping(patience=10)])"
   ]
  },
  {
   "cell_type": "code",
   "execution_count": 76,
   "metadata": {},
   "outputs": [
    {
     "data": {
      "text/plain": [
       "{'learning_rate': 0.0033625641252688094, 'n_hidden': 2, 'n_neurons': 42}"
      ]
     },
     "execution_count": 76,
     "metadata": {},
     "output_type": "execute_result"
    }
   ],
   "source": [
    "rnd_search_cv.best_params_"
   ]
  },
  {
   "cell_type": "code",
   "execution_count": 102,
   "metadata": {},
   "outputs": [
    {
     "data": {
      "text/plain": [
       "-0.35952892616378346"
      ]
     },
     "execution_count": 102,
     "metadata": {},
     "output_type": "execute_result"
    }
   ],
   "source": [
    "rnd_search_cv.best_score_"
   ]
  },
  {
   "cell_type": "code",
   "execution_count": 103,
   "metadata": {},
   "outputs": [
    {
     "data": {
      "text/plain": [
       "<tensorflow.python.keras.wrappers.scikit_learn.KerasRegressor at 0x7ff384301518>"
      ]
     },
     "execution_count": 103,
     "metadata": {},
     "output_type": "execute_result"
    }
   ],
   "source": [
    "rnd_search_cv.best_estimator_"
   ]
  },
  {
   "cell_type": "code",
   "execution_count": 104,
   "metadata": {},
   "outputs": [
    {
     "name": "stdout",
     "output_type": "stream",
     "text": [
      "5160/5160 [==============================] - 0s 15us/sample - loss: 0.3065\n"
     ]
    },
    {
     "data": {
      "text/plain": [
       "-0.30652404945026074"
      ]
     },
     "execution_count": 104,
     "metadata": {},
     "output_type": "execute_result"
    }
   ],
   "source": [
    "rnd_search_cv.score(X_test, y_test)"
   ]
  },
  {
   "cell_type": "code",
   "execution_count": 105,
   "metadata": {},
   "outputs": [
    {
     "data": {
      "text/plain": [
       "<tensorflow.python.keras.engine.sequential.Sequential at 0x7ff350924668>"
      ]
     },
     "execution_count": 105,
     "metadata": {},
     "output_type": "execute_result"
    }
   ],
   "source": [
    "model = rnd_search_cv.best_estimator_.model\n",
    "model"
   ]
  },
  {
   "cell_type": "code",
   "execution_count": 106,
   "metadata": {
    "scrolled": true
   },
   "outputs": [
    {
     "name": "stdout",
     "output_type": "stream",
     "text": [
      "5160/5160 [==============================] - 0s 15us/sample - loss: 0.3065\n"
     ]
    },
    {
     "data": {
      "text/plain": [
       "0.30652404945026074"
      ]
     },
     "execution_count": 106,
     "metadata": {},
     "output_type": "execute_result"
    }
   ],
   "source": [
    "model.evaluate(X_test, y_test)"
   ]
  },
  {
   "cell_type": "markdown",
   "metadata": {},
   "source": [
    "# Exercise "
   ]
  },
  {
   "cell_type": "markdown",
   "metadata": {},
   "source": [
    "*Exercise: Train a deep MLP on the MNIST dataset (you can load it using `keras.datasets.mnist.load_data()`. See if you can get over 98% precision. Try adding all the bells and whistles—save checkpoints, use early stopping, and plot learning curves using TensorBoard.*"
   ]
  },
  {
   "cell_type": "markdown",
   "metadata": {},
   "source": [
    "Steps to carry out:\n",
    "- load the dataset \n",
    "- explore dataset and normalise it\n",
    "- define the NN model\n",
    "- compile the model\n",
    "- evaluate the model\n"
   ]
  },
  {
   "cell_type": "code",
   "execution_count": null,
   "metadata": {},
   "outputs": [],
   "source": []
  }
 ],
 "metadata": {
  "kernelspec": {
   "display_name": "Python 3",
   "language": "python",
   "name": "python3"
  },
  "language_info": {
   "codemirror_mode": {
    "name": "ipython",
    "version": 3
   },
   "file_extension": ".py",
   "mimetype": "text/x-python",
   "name": "python",
   "nbconvert_exporter": "python",
   "pygments_lexer": "ipython3",
   "version": "3.7.10"
  },
  "nav_menu": {
   "height": "264px",
   "width": "369px"
  },
  "toc": {
   "navigate_menu": true,
   "number_sections": true,
   "sideBar": true,
   "threshold": 6,
   "toc_cell": false,
   "toc_section_display": "block",
   "toc_window_display": false
  }
 },
 "nbformat": 4,
 "nbformat_minor": 4
}
